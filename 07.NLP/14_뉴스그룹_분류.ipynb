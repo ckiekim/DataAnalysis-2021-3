{
  "nbformat": 4,
  "nbformat_minor": 0,
  "metadata": {
    "colab": {
      "name": "14_뉴스그룹_분류.ipynb",
      "provenance": [],
      "collapsed_sections": []
    },
    "kernelspec": {
      "name": "python3",
      "display_name": "Python 3"
    },
    "language_info": {
      "name": "python"
    }
  },
  "cells": [
    {
      "cell_type": "markdown",
      "metadata": {
        "id": "pqomXU081QKA"
      },
      "source": [
        "# 20 뉴스그룹 분류"
      ]
    },
    {
      "cell_type": "code",
      "metadata": {
        "id": "Yz9QbBDR06x9"
      },
      "source": [
        "import numpy as np\n",
        "import pandas as pd"
      ],
      "execution_count": 1,
      "outputs": []
    },
    {
      "cell_type": "code",
      "metadata": {
        "colab": {
          "base_uri": "https://localhost:8080/"
        },
        "id": "nPRM1kGY2AX0",
        "outputId": "322e687f-3286-406e-b1e2-74632a9f2c88"
      },
      "source": [
        "from sklearn.datasets import fetch_20newsgroups\n",
        "news = fetch_20newsgroups(subset='all', random_state=2021)"
      ],
      "execution_count": 2,
      "outputs": [
        {
          "output_type": "stream",
          "name": "stderr",
          "text": [
            "Downloading 20news dataset. This may take a few minutes.\n",
            "Downloading dataset from https://ndownloader.figshare.com/files/5975967 (14 MB)\n"
          ]
        }
      ]
    },
    {
      "cell_type": "markdown",
      "metadata": {
        "id": "j4lD6mag24JB"
      },
      "source": [
        "## 데이터 탐색"
      ]
    },
    {
      "cell_type": "code",
      "metadata": {
        "colab": {
          "base_uri": "https://localhost:8080/"
        },
        "id": "5a7gNkyu2zkC",
        "outputId": "3b844b92-cd3a-4a57-d006-fbfda4a32447"
      },
      "source": [
        "news.keys()"
      ],
      "execution_count": 3,
      "outputs": [
        {
          "output_type": "execute_result",
          "data": {
            "text/plain": [
              "dict_keys(['data', 'filenames', 'target_names', 'target', 'DESCR'])"
            ]
          },
          "metadata": {},
          "execution_count": 3
        }
      ]
    },
    {
      "cell_type": "code",
      "metadata": {
        "colab": {
          "base_uri": "https://localhost:8080/"
        },
        "id": "GegMP7xa2_ZO",
        "outputId": "6ffa0dee-446e-4370-af7d-c5dc730fd69e"
      },
      "source": [
        "from sklearn.datasets import load_iris\n",
        "iris = load_iris()\n",
        "iris.keys()"
      ],
      "execution_count": 4,
      "outputs": [
        {
          "output_type": "execute_result",
          "data": {
            "text/plain": [
              "dict_keys(['data', 'target', 'target_names', 'DESCR', 'feature_names', 'filename'])"
            ]
          },
          "metadata": {},
          "execution_count": 4
        }
      ]
    },
    {
      "cell_type": "code",
      "metadata": {
        "colab": {
          "base_uri": "https://localhost:8080/"
        },
        "id": "1Diwa3RK3mCC",
        "outputId": "6c6cae29-4d7f-46b0-ee28-e38655aa64f5"
      },
      "source": [
        "news.target_names"
      ],
      "execution_count": 7,
      "outputs": [
        {
          "output_type": "execute_result",
          "data": {
            "text/plain": [
              "['alt.atheism',\n",
              " 'comp.graphics',\n",
              " 'comp.os.ms-windows.misc',\n",
              " 'comp.sys.ibm.pc.hardware',\n",
              " 'comp.sys.mac.hardware',\n",
              " 'comp.windows.x',\n",
              " 'misc.forsale',\n",
              " 'rec.autos',\n",
              " 'rec.motorcycles',\n",
              " 'rec.sport.baseball',\n",
              " 'rec.sport.hockey',\n",
              " 'sci.crypt',\n",
              " 'sci.electronics',\n",
              " 'sci.med',\n",
              " 'sci.space',\n",
              " 'soc.religion.christian',\n",
              " 'talk.politics.guns',\n",
              " 'talk.politics.mideast',\n",
              " 'talk.politics.misc',\n",
              " 'talk.religion.misc']"
            ]
          },
          "metadata": {},
          "execution_count": 7
        }
      ]
    },
    {
      "cell_type": "code",
      "metadata": {
        "colab": {
          "base_uri": "https://localhost:8080/"
        },
        "id": "Lh7mVddk4Cl5",
        "outputId": "8ad78533-79a6-4b76-ad8f-3966eeaa6d22"
      },
      "source": [
        "pd.Series(news.target).value_counts().sort_index()"
      ],
      "execution_count": 9,
      "outputs": [
        {
          "output_type": "execute_result",
          "data": {
            "text/plain": [
              "0     799\n",
              "1     973\n",
              "2     985\n",
              "3     982\n",
              "4     963\n",
              "5     988\n",
              "6     975\n",
              "7     990\n",
              "8     996\n",
              "9     994\n",
              "10    999\n",
              "11    991\n",
              "12    984\n",
              "13    990\n",
              "14    987\n",
              "15    997\n",
              "16    910\n",
              "17    940\n",
              "18    775\n",
              "19    628\n",
              "dtype: int64"
            ]
          },
          "metadata": {},
          "execution_count": 9
        }
      ]
    },
    {
      "cell_type": "code",
      "metadata": {
        "colab": {
          "base_uri": "https://localhost:8080/"
        },
        "id": "4FTF_Itk4h8Z",
        "outputId": "b18aff93-252a-4597-d280-dee103762449"
      },
      "source": [
        "len(news.data)"
      ],
      "execution_count": 10,
      "outputs": [
        {
          "output_type": "execute_result",
          "data": {
            "text/plain": [
              "18846"
            ]
          },
          "metadata": {},
          "execution_count": 10
        }
      ]
    },
    {
      "cell_type": "code",
      "metadata": {
        "colab": {
          "base_uri": "https://localhost:8080/"
        },
        "id": "iw1dsJ6j5Abd",
        "outputId": "73749449-5cff-419b-e960-0204c6182d78"
      },
      "source": [
        "print(news.data[0])"
      ],
      "execution_count": 11,
      "outputs": [
        {
          "output_type": "stream",
          "name": "stdout",
          "text": [
            "From: dagibbs@quantum.qnx.com (David Gibbs)\n",
            "Subject: Re: Countersteering sans Hands\n",
            "Organization: QNX Software Systems, Ltd.\n",
            "Lines: 22\n",
            "\n",
            "In article <1993Apr20.203344.8417@cs.cornell.edu> karr@cs.cornell.edu (David Karr) writes:\n",
            ">In article <Clarke.6.735328328@bdrc.bd.com> Clarke@bdrc.bd.com (Richard Clarke) writes:\n",
            ">>So how do I steer when my hands aren't on the bars? (Open Budweiser in left \n",
            ">>hand, Camel cigarette in the right, no feet allowed.) \n",
            ">\n",
            ">>If I lean, and the \n",
            ">>bike turns, am I countersteering?\n",
            ">\n",
            ">No, the bars would turn only *toward* the direction of turn in\n",
            ">no-hands steering.\n",
            "\n",
            "Just in case the original poster was looking for a serious answer,\n",
            "I'll supply one.\n",
            "\n",
            "Yes, even when steering no hands you do something quite similar\n",
            "to countersteering.  Basically to turn left, you to a quick wiggle\n",
            "of the bike to the right first, causing a counteracting lean to\n",
            "occur to the left.  It is a lot more difficult to do on a motorcycle\n",
            "than a bicycle though, because of the extra weight.  (Ok, so my\n",
            "motorcycle is heavy.  Maybe yous isn't.)\n",
            "\n",
            "-David\n",
            "\n"
          ]
        }
      ]
    },
    {
      "cell_type": "markdown",
      "metadata": {
        "id": "4T4g76Ft5mGo"
      },
      "source": [
        "## 훈련/테스트용 데이터 추출"
      ]
    },
    {
      "cell_type": "code",
      "metadata": {
        "colab": {
          "base_uri": "https://localhost:8080/"
        },
        "id": "ps3-EYgp5Ez3",
        "outputId": "4b55c3a7-2e1f-44e0-ab00-a10a5a3a625b"
      },
      "source": [
        "train_news = fetch_20newsgroups(\n",
        "    subset='train', random_state=2021,\n",
        "    remove=('headers', 'footers', 'quotes')\n",
        ")\n",
        "len(train_news.data)"
      ],
      "execution_count": 22,
      "outputs": [
        {
          "output_type": "execute_result",
          "data": {
            "text/plain": [
              "11314"
            ]
          },
          "metadata": {},
          "execution_count": 22
        }
      ]
    },
    {
      "cell_type": "code",
      "metadata": {
        "colab": {
          "base_uri": "https://localhost:8080/"
        },
        "id": "qYfM9mtf6Gg4",
        "outputId": "b8feab0c-42da-4a36-abdf-87ccbea90aa5"
      },
      "source": [
        "test_news = fetch_20newsgroups(\n",
        "    subset='test', random_state=2021,\n",
        "    remove=('headers', 'footers', 'quotes')\n",
        ")\n",
        "len(test_news.data)"
      ],
      "execution_count": 23,
      "outputs": [
        {
          "output_type": "execute_result",
          "data": {
            "text/plain": [
              "7532"
            ]
          },
          "metadata": {},
          "execution_count": 23
        }
      ]
    },
    {
      "cell_type": "code",
      "metadata": {
        "colab": {
          "base_uri": "https://localhost:8080/"
        },
        "id": "EFsnWVA46Swi",
        "outputId": "1a499b2c-e0d3-460a-873b-c0b112141777"
      },
      "source": [
        "print(train_news.data[1])"
      ],
      "execution_count": 25,
      "outputs": [
        {
          "output_type": "stream",
          "name": "stdout",
          "text": [
            "]Is it possible to do a \"wheelie\" on a motorcycle with shaft-drive?\n",
            "\n",
            "yes.\n",
            "\n"
          ]
        }
      ]
    },
    {
      "cell_type": "markdown",
      "metadata": {
        "id": "2CdCo7au6n2O"
      },
      "source": [
        "## 텍스트 데이터에 대해서 전처리"
      ]
    },
    {
      "cell_type": "code",
      "metadata": {
        "id": "bmG2rMqr6hNt"
      },
      "source": [
        "train_df = pd.DataFrame({'article': train_news.data})\n",
        "test_df = pd.DataFrame({'article': test_news.data})"
      ],
      "execution_count": 26,
      "outputs": []
    },
    {
      "cell_type": "markdown",
      "metadata": {
        "id": "ei2E0dD27R18"
      },
      "source": [
        "- Train dataset"
      ]
    },
    {
      "cell_type": "code",
      "metadata": {
        "colab": {
          "base_uri": "https://localhost:8080/",
          "height": 35
        },
        "id": "2H955waG7OPh",
        "outputId": "824cb605-68a1-40a8-aceb-fb4506766b28"
      },
      "source": [
        "# 특수문자 제거\n",
        "train_df['article'] = train_df.article.str.replace('[^A-Za-z]', ' ')\n",
        "train_df.article[1]"
      ],
      "execution_count": 27,
      "outputs": [
        {
          "output_type": "execute_result",
          "data": {
            "application/vnd.google.colaboratory.intrinsic+json": {
              "type": "string"
            },
            "text/plain": [
              "' Is it possible to do a  wheelie  on a motorcycle with shaft drive   yes  '"
            ]
          },
          "metadata": {},
          "execution_count": 27
        }
      ]
    },
    {
      "cell_type": "code",
      "metadata": {
        "colab": {
          "base_uri": "https://localhost:8080/",
          "height": 35
        },
        "id": "SjjPSDCm8vGO",
        "outputId": "484e0e9f-295d-403f-eb6b-b01fda937163"
      },
      "source": [
        "# 길이가 3 이하인 단어 제거\n",
        "train_df['article'] = train_df.article.apply(lambda x: ' '.join([w for w in x.split() if len(w) > 3]))\n",
        "train_df.article[1]"
      ],
      "execution_count": 34,
      "outputs": [
        {
          "output_type": "execute_result",
          "data": {
            "application/vnd.google.colaboratory.intrinsic+json": {
              "type": "string"
            },
            "text/plain": [
              "'possible wheelie motorcycle with shaft drive'"
            ]
          },
          "metadata": {},
          "execution_count": 34
        }
      ]
    },
    {
      "cell_type": "code",
      "metadata": {
        "id": "g21U0pgSA36r"
      },
      "source": [
        "# 소문자로 변환\n",
        "train_df['article'] = train_df.article.apply(lambda x: x.lower())"
      ],
      "execution_count": 35,
      "outputs": []
    },
    {
      "cell_type": "markdown",
      "metadata": {
        "id": "uw6qRJdCDt3q"
      },
      "source": [
        "- 테스트 데이터 셋"
      ]
    },
    {
      "cell_type": "code",
      "metadata": {
        "id": "OZyvEFBvDHq0"
      },
      "source": [
        "# 특수문자 제거\n",
        "test_df['article'] = test_df.article.str.replace('[^A-Za-z]', ' ')\n",
        "# 소문자로 변환하고 길이가 3 이하인 단어 제거\n",
        "test_df['article'] = test_df.article.apply(lambda x: ' '.join([w.lower() for w in x.split() if len(w) > 3]))"
      ],
      "execution_count": 36,
      "outputs": []
    },
    {
      "cell_type": "markdown",
      "metadata": {
        "id": "Ynpy_YOOEKdf"
      },
      "source": [
        "## 텍스트 변환"
      ]
    },
    {
      "cell_type": "code",
      "metadata": {
        "id": "I0DEAWyyD7Hi"
      },
      "source": [
        "from sklearn.feature_extraction.text import TfidfVectorizer"
      ],
      "execution_count": 37,
      "outputs": []
    },
    {
      "cell_type": "code",
      "metadata": {
        "colab": {
          "base_uri": "https://localhost:8080/"
        },
        "id": "QNSr3KLLERHv",
        "outputId": "6e31b22e-84fd-454b-e827-dc437231baa3"
      },
      "source": [
        "tvect = TfidfVectorizer(stop_words='english')\n",
        "tvect.fit(train_df.article)"
      ],
      "execution_count": 38,
      "outputs": [
        {
          "output_type": "execute_result",
          "data": {
            "text/plain": [
              "TfidfVectorizer(analyzer='word', binary=False, decode_error='strict',\n",
              "                dtype=<class 'numpy.float64'>, encoding='utf-8',\n",
              "                input='content', lowercase=True, max_df=1.0, max_features=None,\n",
              "                min_df=1, ngram_range=(1, 1), norm='l2', preprocessor=None,\n",
              "                smooth_idf=True, stop_words='english', strip_accents=None,\n",
              "                sublinear_tf=False, token_pattern='(?u)\\\\b\\\\w\\\\w+\\\\b',\n",
              "                tokenizer=None, use_idf=True, vocabulary=None)"
            ]
          },
          "metadata": {},
          "execution_count": 38
        }
      ]
    },
    {
      "cell_type": "code",
      "metadata": {
        "colab": {
          "base_uri": "https://localhost:8080/"
        },
        "id": "FsXS2EUxE1UY",
        "outputId": "6e8cc153-1678-4a4a-e13e-c099467793fe"
      },
      "source": [
        "X_train = tvect.transform(train_df.article)\n",
        "X_test = tvect.transform(test_df.article)\n",
        "X_train.shape, X_test.shape"
      ],
      "execution_count": 39,
      "outputs": [
        {
          "output_type": "execute_result",
          "data": {
            "text/plain": [
              "((11314, 64133), (7532, 64133))"
            ]
          },
          "metadata": {},
          "execution_count": 39
        }
      ]
    },
    {
      "cell_type": "code",
      "metadata": {
        "id": "V4cz6-6oFFPZ"
      },
      "source": [
        "y_train = train_news.target\n",
        "y_test = test_news.target"
      ],
      "execution_count": 40,
      "outputs": []
    },
    {
      "cell_type": "markdown",
      "metadata": {
        "id": "3ngHmzvlFfjG"
      },
      "source": [
        "## 훈련/예측/평가"
      ]
    },
    {
      "cell_type": "code",
      "metadata": {
        "colab": {
          "base_uri": "https://localhost:8080/"
        },
        "id": "pu5qVTgTFVh7",
        "outputId": "65ece032-ff4a-46ae-8414-0543d82f469f"
      },
      "source": [
        "# Support Vector Machine의 Classifier 사용\n",
        "from sklearn.svm import SVC\n",
        "svc = SVC()\n",
        "svc.fit(X_train, y_train)"
      ],
      "execution_count": 41,
      "outputs": [
        {
          "output_type": "execute_result",
          "data": {
            "text/plain": [
              "SVC(C=1.0, break_ties=False, cache_size=200, class_weight=None, coef0=0.0,\n",
              "    decision_function_shape='ovr', degree=3, gamma='scale', kernel='rbf',\n",
              "    max_iter=-1, probability=False, random_state=None, shrinking=True,\n",
              "    tol=0.001, verbose=False)"
            ]
          },
          "metadata": {},
          "execution_count": 41
        }
      ]
    },
    {
      "cell_type": "code",
      "metadata": {
        "id": "x6vzDajcF44-"
      },
      "source": [
        "pred = svc.predict(X_test)"
      ],
      "execution_count": 42,
      "outputs": []
    },
    {
      "cell_type": "code",
      "metadata": {
        "colab": {
          "base_uri": "https://localhost:8080/"
        },
        "id": "Yg2cqWEzGXa-",
        "outputId": "9e6816f9-4aec-4c7d-bf40-35d78203a098"
      },
      "source": [
        "from sklearn.metrics import accuracy_score\n",
        "accuracy_score(y_test, pred)"
      ],
      "execution_count": 43,
      "outputs": [
        {
          "output_type": "execute_result",
          "data": {
            "text/plain": [
              "0.6488316516197558"
            ]
          },
          "metadata": {},
          "execution_count": 43
        }
      ]
    },
    {
      "cell_type": "code",
      "metadata": {
        "id": "XBVR1CEkGn-r"
      },
      "source": [
        ""
      ],
      "execution_count": null,
      "outputs": []
    }
  ]
}