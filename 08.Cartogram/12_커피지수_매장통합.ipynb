{
  "nbformat": 4,
  "nbformat_minor": 0,
  "metadata": {
    "colab": {
      "name": "12_커피지수_매장통합.ipynb",
      "provenance": []
    },
    "kernelspec": {
      "name": "python3",
      "display_name": "Python 3"
    },
    "language_info": {
      "name": "python"
    }
  },
  "cells": [
    {
      "cell_type": "markdown",
      "metadata": {
        "id": "SxH1BOwEmebm"
      },
      "source": [
        "# 커피지수"
      ]
    },
    {
      "cell_type": "code",
      "metadata": {
        "id": "eIRuj7TFarXW"
      },
      "source": [
        "import numpy as np\n",
        "import pandas as pd\n",
        "import warnings\n",
        "warnings.filterwarnings('ignore')"
      ],
      "execution_count": 1,
      "outputs": []
    },
    {
      "cell_type": "code",
      "metadata": {
        "colab": {
          "base_uri": "https://localhost:8080/"
        },
        "id": "QtSm0Dvjmnvx",
        "outputId": "4e0c6e25-b81f-41f2-b7da-8b206bb5b83a"
      },
      "source": [
        "from google.colab import drive\n",
        "drive.mount('/content/mnt')"
      ],
      "execution_count": 2,
      "outputs": [
        {
          "output_type": "stream",
          "name": "stdout",
          "text": [
            "Mounted at /content/mnt\n"
          ]
        }
      ]
    },
    {
      "cell_type": "code",
      "metadata": {
        "id": "ExlF5or5nDZ5"
      },
      "source": [
        "result_dir = '/content/mnt/MyDrive/results/CoffeeIndex'\n",
        "starbucks = pd.read_csv(f'{result_dir}/스타벅스.csv')\n",
        "coffeebean = pd.read_csv(f'{result_dir}/커피빈.csv')\n",
        "ediya = pd.read_csv(f'{result_dir}/이디야.csv')\n",
        "paik = pd.read_csv(f'{result_dir}/빽다방.csv')"
      ],
      "execution_count": 3,
      "outputs": []
    },
    {
      "cell_type": "code",
      "metadata": {
        "colab": {
          "base_uri": "https://localhost:8080/"
        },
        "id": "oR6qfZJ1pihh",
        "outputId": "976dc153-b5d5-458a-8e1d-30cd5c4ce2a3"
      },
      "source": [
        "starbucks.시군구명.nunique(), coffeebean.시군구명.nunique(), ediya.시군구명.nunique(), paik.시군구명.nunique()"
      ],
      "execution_count": 4,
      "outputs": [
        {
          "output_type": "execute_result",
          "data": {
            "text/plain": [
              "(174, 87, 219, 152)"
            ]
          },
          "metadata": {},
          "execution_count": 4
        }
      ]
    },
    {
      "cell_type": "markdown",
      "metadata": {
        "id": "YGMUefPYnkAb"
      },
      "source": [
        "## ID 필드 도출\n",
        "- 시도명(광역시도), 시군구명(시군구, 행정구), 도로명 주소 활용"
      ]
    },
    {
      "cell_type": "code",
      "metadata": {
        "id": "j9ZNAS0mnggn"
      },
      "source": [
        "# 고성군 - 고성(강원), 고성(경남)\n",
        "# 광역시 - 서울 용산, 서울 서대문, 대전 서구, 대전 유성, 세종\n",
        "# 행정구 - 수원 장안, 용인 수지, 고양 일산동, 창원 합포, 창원 회원\n",
        "tmp_gu_dict = {\n",
        "    '수원': ['장안구', '권선구', '팔달구', '영통구'], \n",
        "    '성남': ['수정구', '중원구', '분당구'], \n",
        "    '안양': ['만안구', '동안구'], \n",
        "    '안산': ['상록구', '단원구'], \n",
        "    '고양': ['덕양구', '일산동구', '일산서구'], \n",
        "    '용인': ['처인구', '기흥구', '수지구'], \n",
        "    '청주': ['상당구', '서원구', '흥덕구', '청원구'], \n",
        "    '천안': ['동남구', '서북구'], \n",
        "    '전주': ['완산구', '덕진구'], \n",
        "    '포항': ['남구', '북구'], \n",
        "    '창원': ['의창구', '성산구', '진해구', '마산합포구', '마산회원구']\n",
        "}"
      ],
      "execution_count": 5,
      "outputs": []
    },
    {
      "cell_type": "code",
      "metadata": {
        "colab": {
          "base_uri": "https://localhost:8080/",
          "height": 204
        },
        "id": "kXFIntnOn4IP",
        "outputId": "2961f788-3436-4683-973d-36ad27e3ad22"
      },
      "source": [
        "starbucks[starbucks.시도명.str.contains('세종|제주')].head(12).tail()"
      ],
      "execution_count": 6,
      "outputs": [
        {
          "output_type": "execute_result",
          "data": {
            "text/html": [
              "<div>\n",
              "<style scoped>\n",
              "    .dataframe tbody tr th:only-of-type {\n",
              "        vertical-align: middle;\n",
              "    }\n",
              "\n",
              "    .dataframe tbody tr th {\n",
              "        vertical-align: top;\n",
              "    }\n",
              "\n",
              "    .dataframe thead th {\n",
              "        text-align: right;\n",
              "    }\n",
              "</style>\n",
              "<table border=\"1\" class=\"dataframe\">\n",
              "  <thead>\n",
              "    <tr style=\"text-align: right;\">\n",
              "      <th></th>\n",
              "      <th>상호명</th>\n",
              "      <th>지점명</th>\n",
              "      <th>시도명</th>\n",
              "      <th>시군구명</th>\n",
              "      <th>도로명주소</th>\n",
              "    </tr>\n",
              "  </thead>\n",
              "  <tbody>\n",
              "    <tr>\n",
              "      <th>344</th>\n",
              "      <td>스타벅스</td>\n",
              "      <td>세종첫마을점</td>\n",
              "      <td>세종특별자치시</td>\n",
              "      <td>세종특별자치시</td>\n",
              "      <td>세종특별자치시 세종특별자치시 한누리대로 169</td>\n",
              "    </tr>\n",
              "    <tr>\n",
              "      <th>345</th>\n",
              "      <td>스타벅스</td>\n",
              "      <td>NaN</td>\n",
              "      <td>세종특별자치시</td>\n",
              "      <td>세종특별자치시</td>\n",
              "      <td>세종특별자치시 세종특별자치시 도움5로 19</td>\n",
              "    </tr>\n",
              "    <tr>\n",
              "      <th>346</th>\n",
              "      <td>스타벅스</td>\n",
              "      <td>세종충남대학교병원점</td>\n",
              "      <td>세종특별자치시</td>\n",
              "      <td>세종특별자치시</td>\n",
              "      <td>세종특별자치시 세종특별자치시 보듬7로 20</td>\n",
              "    </tr>\n",
              "    <tr>\n",
              "      <th>935</th>\n",
              "      <td>스타벅스</td>\n",
              "      <td>제주송악산점</td>\n",
              "      <td>제주특별자치도</td>\n",
              "      <td>서귀포시</td>\n",
              "      <td>제주특별자치도 서귀포시 대정읍 형제해안로 322</td>\n",
              "    </tr>\n",
              "    <tr>\n",
              "      <th>936</th>\n",
              "      <td>스타벅스</td>\n",
              "      <td>성산일출봉점</td>\n",
              "      <td>제주특별자치도</td>\n",
              "      <td>서귀포시</td>\n",
              "      <td>제주특별자치도 서귀포시 성산읍 일출로 284-5</td>\n",
              "    </tr>\n",
              "  </tbody>\n",
              "</table>\n",
              "</div>"
            ],
            "text/plain": [
              "      상호명         지점명      시도명     시군구명                       도로명주소\n",
              "344  스타벅스      세종첫마을점  세종특별자치시  세종특별자치시   세종특별자치시 세종특별자치시 한누리대로 169\n",
              "345  스타벅스         NaN  세종특별자치시  세종특별자치시     세종특별자치시 세종특별자치시 도움5로 19\n",
              "346  스타벅스  세종충남대학교병원점  세종특별자치시  세종특별자치시     세종특별자치시 세종특별자치시 보듬7로 20\n",
              "935  스타벅스      제주송악산점  제주특별자치도     서귀포시  제주특별자치도 서귀포시 대정읍 형제해안로 322\n",
              "936  스타벅스      성산일출봉점  제주특별자치도     서귀포시  제주특별자치도 서귀포시 성산읍 일출로 284-5"
            ]
          },
          "metadata": {},
          "execution_count": 6
        }
      ]
    },
    {
      "cell_type": "code",
      "metadata": {
        "id": "XuYxfUSMoBbp"
      },
      "source": [
        "metro_list = ['서울특별시','부산광역시','대구광역시','인천광역시','대전광역시','광주광역시','울산광역시']\n",
        "\n",
        "def get_ID(df):\n",
        "    si_name = [None] * len(df)\n",
        "\n",
        "    for i in df.index:\n",
        "        if df.시도명[i] in metro_list:\n",
        "            if len(df.시군구명[i]) == 2:\n",
        "                si_name[i] = df.시도명[i][:2] + ' ' + df.시군구명[i]\n",
        "            else:\n",
        "                si_name[i] = df.시도명[i][:2] + ' ' + df.시군구명[i][:-1]     # 긴 구 이름에서 '구' 제외\n",
        "        else:\n",
        "            si_len = len(df.시군구명[i].split())\n",
        "            if si_len == 1:\n",
        "                if df.시군구명[i][:-1] == '고성':\n",
        "                    if df.시도명[i] == '강원도':\n",
        "                        si_name[i] = '고성(강원)'\n",
        "                    else:\n",
        "                        si_name[i] = '고성(경남)'\n",
        "                elif df.시군구명[i][:-1] in tmp_gu_dict.keys():  # 시군구명에 시 이름만 있는 것이 있음\n",
        "                    if len(df.도로명주소[i].split()[2]) == 5:\n",
        "                        si_name[i] = df.시군구명[i][:2] + ' ' + df.도로명주소[i].split()[2][2:-1]\n",
        "                    else:\n",
        "                        si_name[i] = df.시군구명[i][:2] + ' ' + df.도로명주소[i].split()[2][:-1]\n",
        "                elif df.시군구명[i][:2] == '세종':\n",
        "                    si_name[i] = '세종'\n",
        "                else:\n",
        "                    si_name[i] = df.시군구명[i][:-1]\n",
        "\n",
        "            else:\n",
        "                _, admingu = df.시군구명[i].split()\n",
        "                for key, values in tmp_gu_dict.items():\n",
        "                    if admingu in values:\n",
        "                        if len(admingu) == 2:\n",
        "                            si_name[i] = key + ' ' + admingu\n",
        "                        elif admingu in ['마산합포구', '마산회원구']:\n",
        "                            si_name[i] = key + ' ' + admingu[2:-1]\n",
        "                        else:\n",
        "                            si_name[i] = key + ' ' + admingu[:-1]\n",
        "\n",
        "    return si_name"
      ],
      "execution_count": 7,
      "outputs": []
    },
    {
      "cell_type": "code",
      "metadata": {
        "colab": {
          "base_uri": "https://localhost:8080/",
          "height": 204
        },
        "id": "UCSm4ABeuQ5N",
        "outputId": "d05d719b-aedf-4d1a-8d35-2d70478bef12"
      },
      "source": [
        "starbucks['ID'] = get_ID(starbucks)\n",
        "starbucks.head()"
      ],
      "execution_count": 8,
      "outputs": [
        {
          "output_type": "execute_result",
          "data": {
            "text/html": [
              "<div>\n",
              "<style scoped>\n",
              "    .dataframe tbody tr th:only-of-type {\n",
              "        vertical-align: middle;\n",
              "    }\n",
              "\n",
              "    .dataframe tbody tr th {\n",
              "        vertical-align: top;\n",
              "    }\n",
              "\n",
              "    .dataframe thead th {\n",
              "        text-align: right;\n",
              "    }\n",
              "</style>\n",
              "<table border=\"1\" class=\"dataframe\">\n",
              "  <thead>\n",
              "    <tr style=\"text-align: right;\">\n",
              "      <th></th>\n",
              "      <th>상호명</th>\n",
              "      <th>지점명</th>\n",
              "      <th>시도명</th>\n",
              "      <th>시군구명</th>\n",
              "      <th>도로명주소</th>\n",
              "      <th>ID</th>\n",
              "    </tr>\n",
              "  </thead>\n",
              "  <tbody>\n",
              "    <tr>\n",
              "      <th>0</th>\n",
              "      <td>스타벅스강릉안목항점</td>\n",
              "      <td>강릉안목항점</td>\n",
              "      <td>강원도</td>\n",
              "      <td>강릉시</td>\n",
              "      <td>강원도 강릉시 창해로14번길 40</td>\n",
              "      <td>강릉</td>\n",
              "    </tr>\n",
              "    <tr>\n",
              "      <th>1</th>\n",
              "      <td>스타벅스</td>\n",
              "      <td>대명델피노리조트점</td>\n",
              "      <td>강원도</td>\n",
              "      <td>고성군</td>\n",
              "      <td>강원도 고성군 토성면 미시령옛길 1153</td>\n",
              "      <td>고성(강원)</td>\n",
              "    </tr>\n",
              "    <tr>\n",
              "      <th>2</th>\n",
              "      <td>스타벅스춘천후평DT점</td>\n",
              "      <td>춘천후평DT점</td>\n",
              "      <td>강원도</td>\n",
              "      <td>춘천시</td>\n",
              "      <td>강원도 춘천시 후석로 318</td>\n",
              "      <td>춘천</td>\n",
              "    </tr>\n",
              "    <tr>\n",
              "      <th>3</th>\n",
              "      <td>스타벅스</td>\n",
              "      <td>춘천명동점</td>\n",
              "      <td>강원도</td>\n",
              "      <td>춘천시</td>\n",
              "      <td>강원도 춘천시 중앙로 55</td>\n",
              "      <td>춘천</td>\n",
              "    </tr>\n",
              "    <tr>\n",
              "      <th>4</th>\n",
              "      <td>스타벅스설악워터피아점</td>\n",
              "      <td>설악워터피아점</td>\n",
              "      <td>강원도</td>\n",
              "      <td>속초시</td>\n",
              "      <td>강원도 속초시 미시령로2983번길 88</td>\n",
              "      <td>속초</td>\n",
              "    </tr>\n",
              "  </tbody>\n",
              "</table>\n",
              "</div>"
            ],
            "text/plain": [
              "           상호명        지점명  시도명 시군구명                   도로명주소      ID\n",
              "0   스타벅스강릉안목항점     강릉안목항점  강원도  강릉시      강원도 강릉시 창해로14번길 40      강릉\n",
              "1         스타벅스  대명델피노리조트점  강원도  고성군  강원도 고성군 토성면 미시령옛길 1153  고성(강원)\n",
              "2  스타벅스춘천후평DT점    춘천후평DT점  강원도  춘천시         강원도 춘천시 후석로 318      춘천\n",
              "3         스타벅스      춘천명동점  강원도  춘천시          강원도 춘천시 중앙로 55      춘천\n",
              "4  스타벅스설악워터피아점    설악워터피아점  강원도  속초시   강원도 속초시 미시령로2983번길 88      속초"
            ]
          },
          "metadata": {},
          "execution_count": 8
        }
      ]
    },
    {
      "cell_type": "code",
      "metadata": {
        "colab": {
          "base_uri": "https://localhost:8080/"
        },
        "id": "SQThYQUquW9z",
        "outputId": "dbffdb5d-1733-41f0-dc0f-200044720b02"
      },
      "source": [
        "print(np.sort(starbucks.ID.unique()))\n",
        "sb_set = set(starbucks.ID.unique())\n",
        "print(len(sb_set))"
      ],
      "execution_count": 9,
      "outputs": [
        {
          "output_type": "stream",
          "name": "stdout",
          "text": [
            "['가평' '강릉' '거제' '경산' '경주' '계룡' '고령' '고성(강원)' '고양 덕양' '고양 일산동' '고양 일산서'\n",
            " '고창' '공주' '과천' '광명' '광양' '광주' '광주 광산' '광주 남구' '광주 동구' '광주 북구' '광주 서구'\n",
            " '구리' '구미' '군산' '군포' '김천' '김포' '김해' '나주' '남양주' '논산' '당진' '대구 남구' '대구 달서'\n",
            " '대구 달성' '대구 동구' '대구 북구' '대구 서구' '대구 수성' '대구 중구' '대전 대덕' '대전 동구' '대전 서구'\n",
            " '대전 유성' '대전 중구' '동두천' '동해' '목포' '무안' '문경' '밀양' '보령' '보은' '부산 강서' '부산 금정'\n",
            " '부산 기장' '부산 남구' '부산 동구' '부산 동래' '부산 부산진' '부산 북구' '부산 사상' '부산 사하' '부산 서구'\n",
            " '부산 수영' '부산 연제' '부산 영도' '부산 중구' '부산 해운대' '부안' '부천' '사천' '산청' '서귀포' '서산'\n",
            " '서울 강남' '서울 강동' '서울 강북' '서울 강서' '서울 관악' '서울 광진' '서울 구로' '서울 금천' '서울 노원'\n",
            " '서울 도봉' '서울 동대문' '서울 동작' '서울 마포' '서울 서대문' '서울 서초' '서울 성동' '서울 성북' '서울 송파'\n",
            " '서울 양천' '서울 영등포' '서울 용산' '서울 은평' '서울 종로' '서울 중구' '서울 중랑' '서천' '성남 분당'\n",
            " '성남 수정' '성남 중원' '세종' '속초' '수원 권선' '수원 영통' '수원 장안' '수원 팔달' '순천' '시흥' '아산'\n",
            " '안동' '안산 단원' '안산 상록' '안성' '안양 동안' '안양 만안' '양산' '양주' '양평' '여수' '여주' '영덕'\n",
            " '영양' '예산' '오산' '용인 기흥' '용인 수지' '용인 처인' '울산 남구' '울산 동구' '울산 북구' '울산 울주'\n",
            " '울산 중구' '원주' '음성' '의왕' '의정부' '이천' '익산' '인제' '인천 강화' '인천 계양' '인천 남동'\n",
            " '인천 동구' '인천 미추홀' '인천 부평' '인천 서구' '인천 연수' '인천 옹진' '인천 중구' '임실' '전주 덕진'\n",
            " '전주 완산' '제주' '제천' '증평' '진주' '창녕' '창원 성산' '창원 의창' '창원 진해' '창원 합포' '창원 회원'\n",
            " '천안 동남' '천안 서북' '청도' '청송' '청양' '청주 상당' '청주 서원' '청주 청원' '청주 흥덕' '춘천' '충주'\n",
            " '태백' '통영' '파주' '평창' '평택' '포천' '포항 남구' '포항 북구' '하남' '하동' '함양' '홍천' '화성'\n",
            " '횡성']\n",
            "192\n"
          ]
        }
      ]
    },
    {
      "cell_type": "code",
      "metadata": {
        "colab": {
          "base_uri": "https://localhost:8080/"
        },
        "id": "KEOmywxdubvN",
        "outputId": "23105d1a-b08b-40b6-9918-9c14314ae650"
      },
      "source": [
        "ediya['ID'] = get_ID(ediya)\n",
        "print(np.sort(ediya.ID.unique()))\n",
        "ed_set = set(ediya.ID.unique())\n",
        "print(len(ed_set))"
      ],
      "execution_count": 10,
      "outputs": [
        {
          "output_type": "stream",
          "name": "stdout",
          "text": [
            "['가평' '강릉' '강진' '거제' '거창' '경산' '경주' '고령' '고성(경남)' '고양 덕양' '고양 일산동'\n",
            " '고양 일산서' '고창' '고흥' '곡성' '공주' '과천' '광명' '광양' '광주' '광주 광산' '광주 남구' '광주 동구'\n",
            " '광주 북구' '광주 서구' '괴산' '구례' '구리' '구미' '군산' '군포' '금산' '김제' '김천' '김포' '김해'\n",
            " '나주' '남양주' '남원' '남해' '논산' '단양' '담양' '당진' '대구 남구' '대구 달서' '대구 달성' '대구 동구'\n",
            " '대구 북구' '대구 서구' '대구 수성' '대구 중구' '대전 대덕' '대전 동구' '대전 서구' '대전 유성' '대전 중구'\n",
            " '동두천' '동해' '목포' '무안' '무주' '문경' '밀양' '보령' '보은' '부산 강서' '부산 금정' '부산 기장'\n",
            " '부산 남구' '부산 동구' '부산 동래' '부산 부산진' '부산 북구' '부산 사상' '부산 사하' '부산 서구' '부산 수영'\n",
            " '부산 연제' '부산 영도' '부산 중구' '부산 해운대' '부안' '부여' '부천' '사천' '산청' '삼척' '상주' '서귀포'\n",
            " '서산' '서울 강남' '서울 강동' '서울 강북' '서울 강서' '서울 관악' '서울 광진' '서울 구로' '서울 금천'\n",
            " '서울 노원' '서울 도봉' '서울 동대문' '서울 동작' '서울 마포' '서울 서대문' '서울 서초' '서울 성동' '서울 성북'\n",
            " '서울 송파' '서울 양천' '서울 영등포' '서울 용산' '서울 은평' '서울 종로' '서울 중구' '서울 중랑' '서천'\n",
            " '성남 분당' '성남 수정' '성남 중원' '성주' '세종' '속초' '수원 권선' '수원 영통' '수원 장안' '수원 팔달'\n",
            " '순창' '순천' '시흥' '아산' '안동' '안산 단원' '안산 상록' '안성' '안양 동안' '안양 만안' '양구' '양산'\n",
            " '양양' '양주' '양평' '여수' '여주' '연천' '영광' '영덕' '영동' '영암' '영월' '영주' '영천' '예산'\n",
            " '예천' '오산' '옥천' '완도' '완주' '용인 기흥' '용인 수지' '용인 처인' '울산 남구' '울산 동구' '울산 북구'\n",
            " '울산 울주' '울산 중구' '울진' '원주' '음성' '의왕' '의정부' '이천' '익산' '인제' '인천 강화' '인천 계양'\n",
            " '인천 남동' '인천 동구' '인천 미추홀' '인천 부평' '인천 서구' '인천 연수' '인천 옹진' '인천 중구' '임실'\n",
            " '장성' '장수' '장흥' '전주 덕진' '전주 완산' '정선' '정읍' '제주' '제천' '증평' '진안' '진주' '진천'\n",
            " '창녕' '창원 성산' '창원 의창' '창원 진해' '창원 합포' '창원 회원' '천안 동남' '천안 서북' '철원' '청도'\n",
            " '청송' '청주 상당' '청주 서원' '청주 청원' '청주 흥덕' '춘천' '충주' '칠곡' '태백' '태안' '통영' '파주'\n",
            " '평창' '평택' '포천' '포항 남구' '포항 북구' '하남' '함안' '함양' '합천' '해남' '홍성' '홍천' '화성'\n",
            " '화순' '화천' '횡성']\n",
            "236\n"
          ]
        }
      ]
    },
    {
      "cell_type": "code",
      "metadata": {
        "colab": {
          "base_uri": "https://localhost:8080/"
        },
        "id": "1ze5wGV60la5",
        "outputId": "9e378609-5bf0-4260-afab-627b475ffb50"
      },
      "source": [
        "coffeebean['ID'] = get_ID(coffeebean)\n",
        "print(np.sort(coffeebean.ID.unique()))\n",
        "cb_set = set(coffeebean.ID.unique())\n",
        "print(len(cb_set))"
      ],
      "execution_count": 11,
      "outputs": [
        {
          "output_type": "stream",
          "name": "stdout",
          "text": [
            "['경주' '고양 덕양' '고양 일산동' '고양 일산서' '광명' '광주 남구' '광주 동구' '광주 서구' '구미' '군포'\n",
            " '금산' '김포' '김해' '남양주' '대구 수성' '대구 중구' '대전 서구' '대전 유성' '동해' '부산 강서' '부산 기장'\n",
            " '부산 동구' '부산 부산진' '부산 북구' '부산 수영' '부산 중구' '부산 해운대' '부천' '상주' '서울 강남'\n",
            " '서울 강동' '서울 강북' '서울 강서' '서울 관악' '서울 광진' '서울 구로' '서울 금천' '서울 노원' '서울 동대문'\n",
            " '서울 동작' '서울 마포' '서울 서대문' '서울 서초' '서울 성동' '서울 성북' '서울 송파' '서울 양천' '서울 영등포'\n",
            " '서울 용산' '서울 은평' '서울 종로' '서울 중구' '서울 중랑' '성남 분당' '성남 수정' '성남 중원' '수원 권선'\n",
            " '수원 영통' '수원 장안' '수원 팔달' '안양 동안' '안양 만안' '여주' '연천' '영덕' '용인 기흥' '용인 수지'\n",
            " '울산 남구' '울산 중구' '울진' '원주' '이천' '인천 남동' '인천 부평' '인천 연수' '인천 중구' '전주 완산'\n",
            " '제주' '제천' '진주' '창원 성산' '창원 의창' '창원 진해' '창원 합포' '천안 동남' '청주 상당' '청주 흥덕'\n",
            " '통영' '파주' '평택' '포항 북구' '하남' '함안' '해남' '화성']\n",
            "95\n"
          ]
        }
      ]
    },
    {
      "cell_type": "code",
      "metadata": {
        "colab": {
          "base_uri": "https://localhost:8080/"
        },
        "id": "hOTFfkPM0zNi",
        "outputId": "d3a35ce2-bbd0-4025-9129-4e84138f55d0"
      },
      "source": [
        "paik['ID'] = get_ID(paik)\n",
        "print(np.sort(paik.ID.unique()))\n",
        "bd_set = set(paik.ID.unique())\n",
        "print(len(bd_set))"
      ],
      "execution_count": 12,
      "outputs": [
        {
          "output_type": "stream",
          "name": "stdout",
          "text": [
            "['강릉' '거창' '경산' '경주' '고성(경남)' '고양 덕양' '고양 일산동' '고양 일산서' '고창' '공주' '광명'\n",
            " '광양' '광주' '광주 광산' '광주 남구' '광주 동구' '광주 북구' '광주 서구' '구리' '구미' '군산' '군포'\n",
            " '김제' '김포' '김해' '남양주' '남원' '논산' '당진' '대구 달서' '대구 달성' '대구 동구' '대구 북구'\n",
            " '대구 서구' '대구 수성' '대구 중구' '대전 대덕' '대전 동구' '대전 서구' '대전 유성' '대전 중구' '동두천'\n",
            " '동해' '목포' '무안' '문경' '보령' '부산 금정' '부산 남구' '부산 동래' '부산 부산진' '부산 북구' '부산 사하'\n",
            " '부산 중구' '부산 해운대' '부안' '부천' '삼척' '서귀포' '서산' '서울 강남' '서울 강동' '서울 강북'\n",
            " '서울 강서' '서울 관악' '서울 광진' '서울 구로' '서울 금천' '서울 노원' '서울 도봉' '서울 동대문' '서울 동작'\n",
            " '서울 마포' '서울 서대문' '서울 서초' '서울 성동' '서울 성북' '서울 송파' '서울 영등포' '서울 용산' '서울 은평'\n",
            " '서울 종로' '서울 중구' '서울 중랑' '성남 분당' '성남 수정' '성남 중원' '세종' '수원 권선' '수원 영통'\n",
            " '수원 장안' '수원 팔달' '순천' '시흥' '아산' '안동' '안산 단원' '안산 상록' '안양 동안' '안양 만안' '양산'\n",
            " '양주' '양평' '여수' '영동' '영암' '영주' '예산' '예천' '오산' '옥천' '용인 기흥' '용인 수지' '용인 처인'\n",
            " '울산 남구' '울산 동구' '울산 북구' '울진' '원주' '의왕' '의정부' '이천' '익산' '인천 강화' '인천 계양'\n",
            " '인천 남동' '인천 동구' '인천 미추홀' '인천 부평' '인천 서구' '인천 연수' '인천 중구' '전주 덕진' '전주 완산'\n",
            " '정읍' '제주' '증평' '진안' '진주' '진천' '창원 성산' '창원 의창' '창원 합포' '천안 동남' '천안 서북'\n",
            " '청주 상당' '청주 서원' '청주 청원' '청주 흥덕' '춘천' '충주' '칠곡' '태안' '통영' '파주' '평택' '포천'\n",
            " '포항 남구' '포항 북구' '하남' '하동' '함양' '홍성' '홍천' '화성' '화순' '화천']\n",
            "167\n"
          ]
        }
      ]
    },
    {
      "cell_type": "code",
      "metadata": {
        "colab": {
          "base_uri": "https://localhost:8080/"
        },
        "id": "LQkKUi1SwEkc",
        "outputId": "9c38ee9e-b80b-406d-df9d-c380e3f8012c"
      },
      "source": [
        "# 합집합\n",
        "city_set = sb_set | ed_set | cb_set | bd_set\n",
        "len(city_set)"
      ],
      "execution_count": 13,
      "outputs": [
        {
          "output_type": "execute_result",
          "data": {
            "text/plain": [
              "241"
            ]
          },
          "metadata": {},
          "execution_count": 13
        }
      ]
    },
    {
      "cell_type": "code",
      "metadata": {
        "colab": {
          "base_uri": "https://localhost:8080/"
        },
        "id": "fFNM9pofxUi6",
        "outputId": "60551348-e087-409a-a593-edcc54c991cc"
      },
      "source": [
        "# 차집합\n",
        "sb_set - ed_set"
      ],
      "execution_count": 14,
      "outputs": [
        {
          "output_type": "execute_result",
          "data": {
            "text/plain": [
              "{'계룡', '고성(강원)', '영양', '청양', '하동'}"
            ]
          },
          "metadata": {},
          "execution_count": 14
        }
      ]
    },
    {
      "cell_type": "code",
      "metadata": {
        "colab": {
          "base_uri": "https://localhost:8080/",
          "height": 235
        },
        "id": "FDD2wbji-Tra",
        "outputId": "a195af01-05ff-4d16-cbf8-a245b8628c13"
      },
      "source": [
        "starbucks[starbucks.ID.isin({'계룡', '고성(강원)', '영양', '청양', '하동'})]"
      ],
      "execution_count": 15,
      "outputs": [
        {
          "output_type": "execute_result",
          "data": {
            "text/html": [
              "<div>\n",
              "<style scoped>\n",
              "    .dataframe tbody tr th:only-of-type {\n",
              "        vertical-align: middle;\n",
              "    }\n",
              "\n",
              "    .dataframe tbody tr th {\n",
              "        vertical-align: top;\n",
              "    }\n",
              "\n",
              "    .dataframe thead th {\n",
              "        text-align: right;\n",
              "    }\n",
              "</style>\n",
              "<table border=\"1\" class=\"dataframe\">\n",
              "  <thead>\n",
              "    <tr style=\"text-align: right;\">\n",
              "      <th></th>\n",
              "      <th>상호명</th>\n",
              "      <th>지점명</th>\n",
              "      <th>시도명</th>\n",
              "      <th>시군구명</th>\n",
              "      <th>도로명주소</th>\n",
              "      <th>ID</th>\n",
              "    </tr>\n",
              "  </thead>\n",
              "  <tbody>\n",
              "    <tr>\n",
              "      <th>1</th>\n",
              "      <td>스타벅스</td>\n",
              "      <td>대명델피노리조트점</td>\n",
              "      <td>강원도</td>\n",
              "      <td>고성군</td>\n",
              "      <td>강원도 고성군 토성면 미시령옛길 1153</td>\n",
              "      <td>고성(강원)</td>\n",
              "    </tr>\n",
              "    <tr>\n",
              "      <th>38</th>\n",
              "      <td>스타벅스</td>\n",
              "      <td>NaN</td>\n",
              "      <td>강원도</td>\n",
              "      <td>고성군</td>\n",
              "      <td>강원도 고성군 간성읍 간성로 36</td>\n",
              "      <td>고성(강원)</td>\n",
              "    </tr>\n",
              "    <tr>\n",
              "      <th>46</th>\n",
              "      <td>스타벅스</td>\n",
              "      <td>NaN</td>\n",
              "      <td>경상북도</td>\n",
              "      <td>영양군</td>\n",
              "      <td>경상북도 영양군 석보면 원리길 11-3</td>\n",
              "      <td>영양</td>\n",
              "    </tr>\n",
              "    <tr>\n",
              "      <th>132</th>\n",
              "      <td>스타벅스</td>\n",
              "      <td>NaN</td>\n",
              "      <td>경상남도</td>\n",
              "      <td>하동군</td>\n",
              "      <td>경상남도 하동군 하동읍 중앙로 12</td>\n",
              "      <td>하동</td>\n",
              "    </tr>\n",
              "    <tr>\n",
              "      <th>1512</th>\n",
              "      <td>스타벅스</td>\n",
              "      <td>NaN</td>\n",
              "      <td>충청남도</td>\n",
              "      <td>청양군</td>\n",
              "      <td>충청남도 청양군 청양읍 중앙로 116-1</td>\n",
              "      <td>청양</td>\n",
              "    </tr>\n",
              "    <tr>\n",
              "      <th>1513</th>\n",
              "      <td>스타벅스계룡대로DT점</td>\n",
              "      <td>계룡대로DT점</td>\n",
              "      <td>충청남도</td>\n",
              "      <td>계룡시</td>\n",
              "      <td>충청남도 계룡시 엄사면 번영로 6</td>\n",
              "      <td>계룡</td>\n",
              "    </tr>\n",
              "  </tbody>\n",
              "</table>\n",
              "</div>"
            ],
            "text/plain": [
              "              상호명        지점명   시도명 시군구명                   도로명주소      ID\n",
              "1            스타벅스  대명델피노리조트점   강원도  고성군  강원도 고성군 토성면 미시령옛길 1153  고성(강원)\n",
              "38           스타벅스        NaN   강원도  고성군      강원도 고성군 간성읍 간성로 36  고성(강원)\n",
              "46           스타벅스        NaN  경상북도  영양군   경상북도 영양군 석보면 원리길 11-3      영양\n",
              "132          스타벅스        NaN  경상남도  하동군     경상남도 하동군 하동읍 중앙로 12      하동\n",
              "1512         스타벅스        NaN  충청남도  청양군  충청남도 청양군 청양읍 중앙로 116-1      청양\n",
              "1513  스타벅스계룡대로DT점    계룡대로DT점  충청남도  계룡시      충청남도 계룡시 엄사면 번영로 6      계룡"
            ]
          },
          "metadata": {},
          "execution_count": 15
        }
      ]
    },
    {
      "cell_type": "code",
      "metadata": {
        "colab": {
          "base_uri": "https://localhost:8080/",
          "height": 80
        },
        "id": "5ltUNcyNDGIk",
        "outputId": "6d8e6500-94c3-43a8-c5e9-4a2a01ad20b8"
      },
      "source": [
        "paik[paik.ID.isin({'계룡', '고성(강원)', '영양', '청양', '하동'})]"
      ],
      "execution_count": 16,
      "outputs": [
        {
          "output_type": "execute_result",
          "data": {
            "text/html": [
              "<div>\n",
              "<style scoped>\n",
              "    .dataframe tbody tr th:only-of-type {\n",
              "        vertical-align: middle;\n",
              "    }\n",
              "\n",
              "    .dataframe tbody tr th {\n",
              "        vertical-align: top;\n",
              "    }\n",
              "\n",
              "    .dataframe thead th {\n",
              "        text-align: right;\n",
              "    }\n",
              "</style>\n",
              "<table border=\"1\" class=\"dataframe\">\n",
              "  <thead>\n",
              "    <tr style=\"text-align: right;\">\n",
              "      <th></th>\n",
              "      <th>상호명</th>\n",
              "      <th>지점명</th>\n",
              "      <th>시도명</th>\n",
              "      <th>시군구명</th>\n",
              "      <th>도로명주소</th>\n",
              "      <th>ID</th>\n",
              "    </tr>\n",
              "  </thead>\n",
              "  <tbody>\n",
              "    <tr>\n",
              "      <th>54</th>\n",
              "      <td>빽다방</td>\n",
              "      <td>하동점</td>\n",
              "      <td>경상남도</td>\n",
              "      <td>하동군</td>\n",
              "      <td>경상남도 하동군 하동읍 경서대로 136</td>\n",
              "      <td>하동</td>\n",
              "    </tr>\n",
              "  </tbody>\n",
              "</table>\n",
              "</div>"
            ],
            "text/plain": [
              "    상호명  지점명   시도명 시군구명                  도로명주소  ID\n",
              "54  빽다방  하동점  경상남도  하동군  경상남도 하동군 하동읍 경서대로 136  하동"
            ]
          },
          "metadata": {},
          "execution_count": 16
        }
      ]
    },
    {
      "cell_type": "markdown",
      "metadata": {
        "id": "FwlFZZM-5K9A"
      },
      "source": [
        "## 브랜드별 매장수 계산"
      ]
    },
    {
      "cell_type": "code",
      "metadata": {
        "colab": {
          "base_uri": "https://localhost:8080/",
          "height": 235
        },
        "id": "eG65DrEtygRx",
        "outputId": "7941671a-9306-49a4-ef52-3d32d8e0e4de"
      },
      "source": [
        "pt_sb = starbucks.pivot_table('상호명', index='ID', aggfunc='count')\n",
        "pt_sb.head()"
      ],
      "execution_count": 17,
      "outputs": [
        {
          "output_type": "execute_result",
          "data": {
            "text/html": [
              "<div>\n",
              "<style scoped>\n",
              "    .dataframe tbody tr th:only-of-type {\n",
              "        vertical-align: middle;\n",
              "    }\n",
              "\n",
              "    .dataframe tbody tr th {\n",
              "        vertical-align: top;\n",
              "    }\n",
              "\n",
              "    .dataframe thead th {\n",
              "        text-align: right;\n",
              "    }\n",
              "</style>\n",
              "<table border=\"1\" class=\"dataframe\">\n",
              "  <thead>\n",
              "    <tr style=\"text-align: right;\">\n",
              "      <th></th>\n",
              "      <th>상호명</th>\n",
              "    </tr>\n",
              "    <tr>\n",
              "      <th>ID</th>\n",
              "      <th></th>\n",
              "    </tr>\n",
              "  </thead>\n",
              "  <tbody>\n",
              "    <tr>\n",
              "      <th>가평</th>\n",
              "      <td>2</td>\n",
              "    </tr>\n",
              "    <tr>\n",
              "      <th>강릉</th>\n",
              "      <td>5</td>\n",
              "    </tr>\n",
              "    <tr>\n",
              "      <th>거제</th>\n",
              "      <td>6</td>\n",
              "    </tr>\n",
              "    <tr>\n",
              "      <th>경산</th>\n",
              "      <td>8</td>\n",
              "    </tr>\n",
              "    <tr>\n",
              "      <th>경주</th>\n",
              "      <td>8</td>\n",
              "    </tr>\n",
              "  </tbody>\n",
              "</table>\n",
              "</div>"
            ],
            "text/plain": [
              "    상호명\n",
              "ID     \n",
              "가평    2\n",
              "강릉    5\n",
              "거제    6\n",
              "경산    8\n",
              "경주    8"
            ]
          },
          "metadata": {},
          "execution_count": 17
        }
      ]
    },
    {
      "cell_type": "code",
      "metadata": {
        "colab": {
          "base_uri": "https://localhost:8080/",
          "height": 235
        },
        "id": "_AFCy_x67cn3",
        "outputId": "280de250-fff0-4e20-edcd-7a30ba5cc989"
      },
      "source": [
        "starbucks[['상호명','ID']].groupby('ID').count().head()"
      ],
      "execution_count": 18,
      "outputs": [
        {
          "output_type": "execute_result",
          "data": {
            "text/html": [
              "<div>\n",
              "<style scoped>\n",
              "    .dataframe tbody tr th:only-of-type {\n",
              "        vertical-align: middle;\n",
              "    }\n",
              "\n",
              "    .dataframe tbody tr th {\n",
              "        vertical-align: top;\n",
              "    }\n",
              "\n",
              "    .dataframe thead th {\n",
              "        text-align: right;\n",
              "    }\n",
              "</style>\n",
              "<table border=\"1\" class=\"dataframe\">\n",
              "  <thead>\n",
              "    <tr style=\"text-align: right;\">\n",
              "      <th></th>\n",
              "      <th>상호명</th>\n",
              "    </tr>\n",
              "    <tr>\n",
              "      <th>ID</th>\n",
              "      <th></th>\n",
              "    </tr>\n",
              "  </thead>\n",
              "  <tbody>\n",
              "    <tr>\n",
              "      <th>가평</th>\n",
              "      <td>2</td>\n",
              "    </tr>\n",
              "    <tr>\n",
              "      <th>강릉</th>\n",
              "      <td>5</td>\n",
              "    </tr>\n",
              "    <tr>\n",
              "      <th>거제</th>\n",
              "      <td>6</td>\n",
              "    </tr>\n",
              "    <tr>\n",
              "      <th>경산</th>\n",
              "      <td>8</td>\n",
              "    </tr>\n",
              "    <tr>\n",
              "      <th>경주</th>\n",
              "      <td>8</td>\n",
              "    </tr>\n",
              "  </tbody>\n",
              "</table>\n",
              "</div>"
            ],
            "text/plain": [
              "    상호명\n",
              "ID     \n",
              "가평    2\n",
              "강릉    5\n",
              "거제    6\n",
              "경산    8\n",
              "경주    8"
            ]
          },
          "metadata": {},
          "execution_count": 18
        }
      ]
    },
    {
      "cell_type": "code",
      "metadata": {
        "colab": {
          "base_uri": "https://localhost:8080/",
          "height": 204
        },
        "id": "U4t5j5OV6SEY",
        "outputId": "e78597e6-c7d8-453d-d60f-85e3521ca5ef"
      },
      "source": [
        "pt_sb.columns = ['스타벅스']\n",
        "pt_sb.reset_index(inplace=True)\n",
        "pt_sb.head()"
      ],
      "execution_count": 19,
      "outputs": [
        {
          "output_type": "execute_result",
          "data": {
            "text/html": [
              "<div>\n",
              "<style scoped>\n",
              "    .dataframe tbody tr th:only-of-type {\n",
              "        vertical-align: middle;\n",
              "    }\n",
              "\n",
              "    .dataframe tbody tr th {\n",
              "        vertical-align: top;\n",
              "    }\n",
              "\n",
              "    .dataframe thead th {\n",
              "        text-align: right;\n",
              "    }\n",
              "</style>\n",
              "<table border=\"1\" class=\"dataframe\">\n",
              "  <thead>\n",
              "    <tr style=\"text-align: right;\">\n",
              "      <th></th>\n",
              "      <th>ID</th>\n",
              "      <th>스타벅스</th>\n",
              "    </tr>\n",
              "  </thead>\n",
              "  <tbody>\n",
              "    <tr>\n",
              "      <th>0</th>\n",
              "      <td>가평</td>\n",
              "      <td>2</td>\n",
              "    </tr>\n",
              "    <tr>\n",
              "      <th>1</th>\n",
              "      <td>강릉</td>\n",
              "      <td>5</td>\n",
              "    </tr>\n",
              "    <tr>\n",
              "      <th>2</th>\n",
              "      <td>거제</td>\n",
              "      <td>6</td>\n",
              "    </tr>\n",
              "    <tr>\n",
              "      <th>3</th>\n",
              "      <td>경산</td>\n",
              "      <td>8</td>\n",
              "    </tr>\n",
              "    <tr>\n",
              "      <th>4</th>\n",
              "      <td>경주</td>\n",
              "      <td>8</td>\n",
              "    </tr>\n",
              "  </tbody>\n",
              "</table>\n",
              "</div>"
            ],
            "text/plain": [
              "   ID  스타벅스\n",
              "0  가평     2\n",
              "1  강릉     5\n",
              "2  거제     6\n",
              "3  경산     8\n",
              "4  경주     8"
            ]
          },
          "metadata": {},
          "execution_count": 19
        }
      ]
    },
    {
      "cell_type": "code",
      "metadata": {
        "colab": {
          "base_uri": "https://localhost:8080/",
          "height": 204
        },
        "id": "R_DD8mzS6rbc",
        "outputId": "6d358dc1-9451-40d8-9b07-2547436d4160"
      },
      "source": [
        "pt_cb = coffeebean.pivot_table('상호명', index='ID', aggfunc='count')\n",
        "pt_cb.columns = ['커피빈']\n",
        "pt_cb.reset_index(inplace=True)\n",
        "pt_cb.head()"
      ],
      "execution_count": 20,
      "outputs": [
        {
          "output_type": "execute_result",
          "data": {
            "text/html": [
              "<div>\n",
              "<style scoped>\n",
              "    .dataframe tbody tr th:only-of-type {\n",
              "        vertical-align: middle;\n",
              "    }\n",
              "\n",
              "    .dataframe tbody tr th {\n",
              "        vertical-align: top;\n",
              "    }\n",
              "\n",
              "    .dataframe thead th {\n",
              "        text-align: right;\n",
              "    }\n",
              "</style>\n",
              "<table border=\"1\" class=\"dataframe\">\n",
              "  <thead>\n",
              "    <tr style=\"text-align: right;\">\n",
              "      <th></th>\n",
              "      <th>ID</th>\n",
              "      <th>커피빈</th>\n",
              "    </tr>\n",
              "  </thead>\n",
              "  <tbody>\n",
              "    <tr>\n",
              "      <th>0</th>\n",
              "      <td>경주</td>\n",
              "      <td>2</td>\n",
              "    </tr>\n",
              "    <tr>\n",
              "      <th>1</th>\n",
              "      <td>고양 덕양</td>\n",
              "      <td>1</td>\n",
              "    </tr>\n",
              "    <tr>\n",
              "      <th>2</th>\n",
              "      <td>고양 일산동</td>\n",
              "      <td>5</td>\n",
              "    </tr>\n",
              "    <tr>\n",
              "      <th>3</th>\n",
              "      <td>고양 일산서</td>\n",
              "      <td>5</td>\n",
              "    </tr>\n",
              "    <tr>\n",
              "      <th>4</th>\n",
              "      <td>광명</td>\n",
              "      <td>1</td>\n",
              "    </tr>\n",
              "  </tbody>\n",
              "</table>\n",
              "</div>"
            ],
            "text/plain": [
              "       ID  커피빈\n",
              "0      경주    2\n",
              "1   고양 덕양    1\n",
              "2  고양 일산동    5\n",
              "3  고양 일산서    5\n",
              "4      광명    1"
            ]
          },
          "metadata": {},
          "execution_count": 20
        }
      ]
    },
    {
      "cell_type": "code",
      "metadata": {
        "colab": {
          "base_uri": "https://localhost:8080/",
          "height": 204
        },
        "id": "mG03bGCb7BoT",
        "outputId": "3167a87d-982b-40b6-87f1-f3f76e0d7344"
      },
      "source": [
        "pt_ed = ediya.pivot_table('상호명', index='ID', aggfunc='count')\n",
        "pt_ed.columns = ['이디야']\n",
        "pt_ed.reset_index(inplace=True)\n",
        "pt_ed.head()"
      ],
      "execution_count": 21,
      "outputs": [
        {
          "output_type": "execute_result",
          "data": {
            "text/html": [
              "<div>\n",
              "<style scoped>\n",
              "    .dataframe tbody tr th:only-of-type {\n",
              "        vertical-align: middle;\n",
              "    }\n",
              "\n",
              "    .dataframe tbody tr th {\n",
              "        vertical-align: top;\n",
              "    }\n",
              "\n",
              "    .dataframe thead th {\n",
              "        text-align: right;\n",
              "    }\n",
              "</style>\n",
              "<table border=\"1\" class=\"dataframe\">\n",
              "  <thead>\n",
              "    <tr style=\"text-align: right;\">\n",
              "      <th></th>\n",
              "      <th>ID</th>\n",
              "      <th>이디야</th>\n",
              "    </tr>\n",
              "  </thead>\n",
              "  <tbody>\n",
              "    <tr>\n",
              "      <th>0</th>\n",
              "      <td>가평</td>\n",
              "      <td>9</td>\n",
              "    </tr>\n",
              "    <tr>\n",
              "      <th>1</th>\n",
              "      <td>강릉</td>\n",
              "      <td>15</td>\n",
              "    </tr>\n",
              "    <tr>\n",
              "      <th>2</th>\n",
              "      <td>강진</td>\n",
              "      <td>1</td>\n",
              "    </tr>\n",
              "    <tr>\n",
              "      <th>3</th>\n",
              "      <td>거제</td>\n",
              "      <td>9</td>\n",
              "    </tr>\n",
              "    <tr>\n",
              "      <th>4</th>\n",
              "      <td>거창</td>\n",
              "      <td>1</td>\n",
              "    </tr>\n",
              "  </tbody>\n",
              "</table>\n",
              "</div>"
            ],
            "text/plain": [
              "   ID  이디야\n",
              "0  가평    9\n",
              "1  강릉   15\n",
              "2  강진    1\n",
              "3  거제    9\n",
              "4  거창    1"
            ]
          },
          "metadata": {},
          "execution_count": 21
        }
      ]
    },
    {
      "cell_type": "code",
      "metadata": {
        "colab": {
          "base_uri": "https://localhost:8080/",
          "height": 204
        },
        "id": "KBvx-VGQ7K-J",
        "outputId": "28c1c548-4150-4994-a8e2-ab123c0c561a"
      },
      "source": [
        "pt_bd = paik.pivot_table('상호명', index='ID', aggfunc='count')\n",
        "pt_bd.columns = ['빽다방']\n",
        "pt_bd.reset_index(inplace=True)\n",
        "pt_bd.head()"
      ],
      "execution_count": 22,
      "outputs": [
        {
          "output_type": "execute_result",
          "data": {
            "text/html": [
              "<div>\n",
              "<style scoped>\n",
              "    .dataframe tbody tr th:only-of-type {\n",
              "        vertical-align: middle;\n",
              "    }\n",
              "\n",
              "    .dataframe tbody tr th {\n",
              "        vertical-align: top;\n",
              "    }\n",
              "\n",
              "    .dataframe thead th {\n",
              "        text-align: right;\n",
              "    }\n",
              "</style>\n",
              "<table border=\"1\" class=\"dataframe\">\n",
              "  <thead>\n",
              "    <tr style=\"text-align: right;\">\n",
              "      <th></th>\n",
              "      <th>ID</th>\n",
              "      <th>빽다방</th>\n",
              "    </tr>\n",
              "  </thead>\n",
              "  <tbody>\n",
              "    <tr>\n",
              "      <th>0</th>\n",
              "      <td>강릉</td>\n",
              "      <td>2</td>\n",
              "    </tr>\n",
              "    <tr>\n",
              "      <th>1</th>\n",
              "      <td>거창</td>\n",
              "      <td>1</td>\n",
              "    </tr>\n",
              "    <tr>\n",
              "      <th>2</th>\n",
              "      <td>경산</td>\n",
              "      <td>4</td>\n",
              "    </tr>\n",
              "    <tr>\n",
              "      <th>3</th>\n",
              "      <td>경주</td>\n",
              "      <td>1</td>\n",
              "    </tr>\n",
              "    <tr>\n",
              "      <th>4</th>\n",
              "      <td>고성(경남)</td>\n",
              "      <td>2</td>\n",
              "    </tr>\n",
              "  </tbody>\n",
              "</table>\n",
              "</div>"
            ],
            "text/plain": [
              "       ID  빽다방\n",
              "0      강릉    2\n",
              "1      거창    1\n",
              "2      경산    4\n",
              "3      경주    1\n",
              "4  고성(경남)    2"
            ]
          },
          "metadata": {},
          "execution_count": 22
        }
      ]
    },
    {
      "cell_type": "markdown",
      "metadata": {
        "id": "EdmQjPug9CRC"
      },
      "source": [
        "## 커피샵 데이터 병합하고 커피지수 구하기"
      ]
    },
    {
      "cell_type": "code",
      "metadata": {
        "colab": {
          "base_uri": "https://localhost:8080/"
        },
        "id": "S8eGIyPW7Uqg",
        "outputId": "a5802b73-8902-432a-ea59-4c42ee97b8fb"
      },
      "source": [
        "cf = pd.merge(pt_ed, pt_sb, how='left')\n",
        "len(cf)"
      ],
      "execution_count": 23,
      "outputs": [
        {
          "output_type": "execute_result",
          "data": {
            "text/plain": [
              "236"
            ]
          },
          "metadata": {},
          "execution_count": 23
        }
      ]
    },
    {
      "cell_type": "code",
      "metadata": {
        "colab": {
          "base_uri": "https://localhost:8080/",
          "height": 204
        },
        "id": "aw3OdBKA9Sns",
        "outputId": "8fb334a4-442a-4e6e-cf22-56e7b0bcd088"
      },
      "source": [
        "cf = pd.merge(cf, pt_cb, how='left')\n",
        "cf = pd.merge(cf, pt_bd, how='left')\n",
        "cf.head()"
      ],
      "execution_count": 24,
      "outputs": [
        {
          "output_type": "execute_result",
          "data": {
            "text/html": [
              "<div>\n",
              "<style scoped>\n",
              "    .dataframe tbody tr th:only-of-type {\n",
              "        vertical-align: middle;\n",
              "    }\n",
              "\n",
              "    .dataframe tbody tr th {\n",
              "        vertical-align: top;\n",
              "    }\n",
              "\n",
              "    .dataframe thead th {\n",
              "        text-align: right;\n",
              "    }\n",
              "</style>\n",
              "<table border=\"1\" class=\"dataframe\">\n",
              "  <thead>\n",
              "    <tr style=\"text-align: right;\">\n",
              "      <th></th>\n",
              "      <th>ID</th>\n",
              "      <th>이디야</th>\n",
              "      <th>스타벅스</th>\n",
              "      <th>커피빈</th>\n",
              "      <th>빽다방</th>\n",
              "    </tr>\n",
              "  </thead>\n",
              "  <tbody>\n",
              "    <tr>\n",
              "      <th>0</th>\n",
              "      <td>가평</td>\n",
              "      <td>9</td>\n",
              "      <td>2.0</td>\n",
              "      <td>NaN</td>\n",
              "      <td>NaN</td>\n",
              "    </tr>\n",
              "    <tr>\n",
              "      <th>1</th>\n",
              "      <td>강릉</td>\n",
              "      <td>15</td>\n",
              "      <td>5.0</td>\n",
              "      <td>NaN</td>\n",
              "      <td>2.0</td>\n",
              "    </tr>\n",
              "    <tr>\n",
              "      <th>2</th>\n",
              "      <td>강진</td>\n",
              "      <td>1</td>\n",
              "      <td>NaN</td>\n",
              "      <td>NaN</td>\n",
              "      <td>NaN</td>\n",
              "    </tr>\n",
              "    <tr>\n",
              "      <th>3</th>\n",
              "      <td>거제</td>\n",
              "      <td>9</td>\n",
              "      <td>6.0</td>\n",
              "      <td>NaN</td>\n",
              "      <td>NaN</td>\n",
              "    </tr>\n",
              "    <tr>\n",
              "      <th>4</th>\n",
              "      <td>거창</td>\n",
              "      <td>1</td>\n",
              "      <td>NaN</td>\n",
              "      <td>NaN</td>\n",
              "      <td>1.0</td>\n",
              "    </tr>\n",
              "  </tbody>\n",
              "</table>\n",
              "</div>"
            ],
            "text/plain": [
              "   ID  이디야  스타벅스  커피빈  빽다방\n",
              "0  가평    9   2.0  NaN  NaN\n",
              "1  강릉   15   5.0  NaN  2.0\n",
              "2  강진    1   NaN  NaN  NaN\n",
              "3  거제    9   6.0  NaN  NaN\n",
              "4  거창    1   NaN  NaN  1.0"
            ]
          },
          "metadata": {},
          "execution_count": 24
        }
      ]
    },
    {
      "cell_type": "code",
      "metadata": {
        "colab": {
          "base_uri": "https://localhost:8080/",
          "height": 204
        },
        "id": "xWGWNK4z9qDn",
        "outputId": "fe06eefa-f943-4ce5-830b-01aa1b49300b"
      },
      "source": [
        "cf.fillna(0, inplace=True)\n",
        "cf.head()"
      ],
      "execution_count": 25,
      "outputs": [
        {
          "output_type": "execute_result",
          "data": {
            "text/html": [
              "<div>\n",
              "<style scoped>\n",
              "    .dataframe tbody tr th:only-of-type {\n",
              "        vertical-align: middle;\n",
              "    }\n",
              "\n",
              "    .dataframe tbody tr th {\n",
              "        vertical-align: top;\n",
              "    }\n",
              "\n",
              "    .dataframe thead th {\n",
              "        text-align: right;\n",
              "    }\n",
              "</style>\n",
              "<table border=\"1\" class=\"dataframe\">\n",
              "  <thead>\n",
              "    <tr style=\"text-align: right;\">\n",
              "      <th></th>\n",
              "      <th>ID</th>\n",
              "      <th>이디야</th>\n",
              "      <th>스타벅스</th>\n",
              "      <th>커피빈</th>\n",
              "      <th>빽다방</th>\n",
              "    </tr>\n",
              "  </thead>\n",
              "  <tbody>\n",
              "    <tr>\n",
              "      <th>0</th>\n",
              "      <td>가평</td>\n",
              "      <td>9</td>\n",
              "      <td>2.0</td>\n",
              "      <td>0.0</td>\n",
              "      <td>0.0</td>\n",
              "    </tr>\n",
              "    <tr>\n",
              "      <th>1</th>\n",
              "      <td>강릉</td>\n",
              "      <td>15</td>\n",
              "      <td>5.0</td>\n",
              "      <td>0.0</td>\n",
              "      <td>2.0</td>\n",
              "    </tr>\n",
              "    <tr>\n",
              "      <th>2</th>\n",
              "      <td>강진</td>\n",
              "      <td>1</td>\n",
              "      <td>0.0</td>\n",
              "      <td>0.0</td>\n",
              "      <td>0.0</td>\n",
              "    </tr>\n",
              "    <tr>\n",
              "      <th>3</th>\n",
              "      <td>거제</td>\n",
              "      <td>9</td>\n",
              "      <td>6.0</td>\n",
              "      <td>0.0</td>\n",
              "      <td>0.0</td>\n",
              "    </tr>\n",
              "    <tr>\n",
              "      <th>4</th>\n",
              "      <td>거창</td>\n",
              "      <td>1</td>\n",
              "      <td>0.0</td>\n",
              "      <td>0.0</td>\n",
              "      <td>1.0</td>\n",
              "    </tr>\n",
              "  </tbody>\n",
              "</table>\n",
              "</div>"
            ],
            "text/plain": [
              "   ID  이디야  스타벅스  커피빈  빽다방\n",
              "0  가평    9   2.0  0.0  0.0\n",
              "1  강릉   15   5.0  0.0  2.0\n",
              "2  강진    1   0.0  0.0  0.0\n",
              "3  거제    9   6.0  0.0  0.0\n",
              "4  거창    1   0.0  0.0  1.0"
            ]
          },
          "metadata": {},
          "execution_count": 25
        }
      ]
    },
    {
      "cell_type": "code",
      "metadata": {
        "colab": {
          "base_uri": "https://localhost:8080/",
          "height": 204
        },
        "id": "VqlYHv2G91m5",
        "outputId": "754d1fc9-0eaa-4efd-f342-3f096404391c"
      },
      "source": [
        "cf['스타벅스'] = cf.스타벅스.astype(int)\n",
        "cf['커피빈'] = cf.커피빈.astype(int)\n",
        "cf['빽다방'] = cf.빽다방.astype(int)\n",
        "cf.head()"
      ],
      "execution_count": 26,
      "outputs": [
        {
          "output_type": "execute_result",
          "data": {
            "text/html": [
              "<div>\n",
              "<style scoped>\n",
              "    .dataframe tbody tr th:only-of-type {\n",
              "        vertical-align: middle;\n",
              "    }\n",
              "\n",
              "    .dataframe tbody tr th {\n",
              "        vertical-align: top;\n",
              "    }\n",
              "\n",
              "    .dataframe thead th {\n",
              "        text-align: right;\n",
              "    }\n",
              "</style>\n",
              "<table border=\"1\" class=\"dataframe\">\n",
              "  <thead>\n",
              "    <tr style=\"text-align: right;\">\n",
              "      <th></th>\n",
              "      <th>ID</th>\n",
              "      <th>이디야</th>\n",
              "      <th>스타벅스</th>\n",
              "      <th>커피빈</th>\n",
              "      <th>빽다방</th>\n",
              "    </tr>\n",
              "  </thead>\n",
              "  <tbody>\n",
              "    <tr>\n",
              "      <th>0</th>\n",
              "      <td>가평</td>\n",
              "      <td>9</td>\n",
              "      <td>2</td>\n",
              "      <td>0</td>\n",
              "      <td>0</td>\n",
              "    </tr>\n",
              "    <tr>\n",
              "      <th>1</th>\n",
              "      <td>강릉</td>\n",
              "      <td>15</td>\n",
              "      <td>5</td>\n",
              "      <td>0</td>\n",
              "      <td>2</td>\n",
              "    </tr>\n",
              "    <tr>\n",
              "      <th>2</th>\n",
              "      <td>강진</td>\n",
              "      <td>1</td>\n",
              "      <td>0</td>\n",
              "      <td>0</td>\n",
              "      <td>0</td>\n",
              "    </tr>\n",
              "    <tr>\n",
              "      <th>3</th>\n",
              "      <td>거제</td>\n",
              "      <td>9</td>\n",
              "      <td>6</td>\n",
              "      <td>0</td>\n",
              "      <td>0</td>\n",
              "    </tr>\n",
              "    <tr>\n",
              "      <th>4</th>\n",
              "      <td>거창</td>\n",
              "      <td>1</td>\n",
              "      <td>0</td>\n",
              "      <td>0</td>\n",
              "      <td>1</td>\n",
              "    </tr>\n",
              "  </tbody>\n",
              "</table>\n",
              "</div>"
            ],
            "text/plain": [
              "   ID  이디야  스타벅스  커피빈  빽다방\n",
              "0  가평    9     2    0    0\n",
              "1  강릉   15     5    0    2\n",
              "2  강진    1     0    0    0\n",
              "3  거제    9     6    0    0\n",
              "4  거창    1     0    0    1"
            ]
          },
          "metadata": {},
          "execution_count": 26
        }
      ]
    },
    {
      "cell_type": "code",
      "metadata": {
        "colab": {
          "base_uri": "https://localhost:8080/",
          "height": 204
        },
        "id": "NnsDSTdH-Izz",
        "outputId": "e7bd449e-511c-46d2-f4f0-0e95ca2ea367"
      },
      "source": [
        "cf['커피지수'] = (cf.스타벅스 + cf.커피빈) / (cf.이디야 + cf.빽다방)\n",
        "cf.head()"
      ],
      "execution_count": 27,
      "outputs": [
        {
          "output_type": "execute_result",
          "data": {
            "text/html": [
              "<div>\n",
              "<style scoped>\n",
              "    .dataframe tbody tr th:only-of-type {\n",
              "        vertical-align: middle;\n",
              "    }\n",
              "\n",
              "    .dataframe tbody tr th {\n",
              "        vertical-align: top;\n",
              "    }\n",
              "\n",
              "    .dataframe thead th {\n",
              "        text-align: right;\n",
              "    }\n",
              "</style>\n",
              "<table border=\"1\" class=\"dataframe\">\n",
              "  <thead>\n",
              "    <tr style=\"text-align: right;\">\n",
              "      <th></th>\n",
              "      <th>ID</th>\n",
              "      <th>이디야</th>\n",
              "      <th>스타벅스</th>\n",
              "      <th>커피빈</th>\n",
              "      <th>빽다방</th>\n",
              "      <th>커피지수</th>\n",
              "    </tr>\n",
              "  </thead>\n",
              "  <tbody>\n",
              "    <tr>\n",
              "      <th>0</th>\n",
              "      <td>가평</td>\n",
              "      <td>9</td>\n",
              "      <td>2</td>\n",
              "      <td>0</td>\n",
              "      <td>0</td>\n",
              "      <td>0.222222</td>\n",
              "    </tr>\n",
              "    <tr>\n",
              "      <th>1</th>\n",
              "      <td>강릉</td>\n",
              "      <td>15</td>\n",
              "      <td>5</td>\n",
              "      <td>0</td>\n",
              "      <td>2</td>\n",
              "      <td>0.294118</td>\n",
              "    </tr>\n",
              "    <tr>\n",
              "      <th>2</th>\n",
              "      <td>강진</td>\n",
              "      <td>1</td>\n",
              "      <td>0</td>\n",
              "      <td>0</td>\n",
              "      <td>0</td>\n",
              "      <td>0.000000</td>\n",
              "    </tr>\n",
              "    <tr>\n",
              "      <th>3</th>\n",
              "      <td>거제</td>\n",
              "      <td>9</td>\n",
              "      <td>6</td>\n",
              "      <td>0</td>\n",
              "      <td>0</td>\n",
              "      <td>0.666667</td>\n",
              "    </tr>\n",
              "    <tr>\n",
              "      <th>4</th>\n",
              "      <td>거창</td>\n",
              "      <td>1</td>\n",
              "      <td>0</td>\n",
              "      <td>0</td>\n",
              "      <td>1</td>\n",
              "      <td>0.000000</td>\n",
              "    </tr>\n",
              "  </tbody>\n",
              "</table>\n",
              "</div>"
            ],
            "text/plain": [
              "   ID  이디야  스타벅스  커피빈  빽다방      커피지수\n",
              "0  가평    9     2    0    0  0.222222\n",
              "1  강릉   15     5    0    2  0.294118\n",
              "2  강진    1     0    0    0  0.000000\n",
              "3  거제    9     6    0    0  0.666667\n",
              "4  거창    1     0    0    1  0.000000"
            ]
          },
          "metadata": {},
          "execution_count": 27
        }
      ]
    },
    {
      "cell_type": "code",
      "metadata": {
        "id": "ahVdBYiiF1O4"
      },
      "source": [
        "cf.to_csv(f'{result_dir}/커피지수.csv', index=False)"
      ],
      "execution_count": 28,
      "outputs": []
    },
    {
      "cell_type": "code",
      "metadata": {
        "id": "hWYZQQb5GGdy"
      },
      "source": [
        ""
      ],
      "execution_count": null,
      "outputs": []
    }
  ]
}