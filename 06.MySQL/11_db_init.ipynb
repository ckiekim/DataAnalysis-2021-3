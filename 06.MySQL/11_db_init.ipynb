{
  "nbformat": 4,
  "nbformat_minor": 2,
  "metadata": {
    "colab": {
      "name": "11_db_init.ipynb",
      "provenance": []
    },
    "kernelspec": {
      "name": "python3",
      "display_name": "Python 3"
    },
    "language_info": {
      "name": "python"
    }
  },
  "cells": [
    {
      "cell_type": "markdown",
      "source": [
        "# DB 초기화 프로그램"
      ],
      "metadata": {
        "id": "PmmoY5J59DLi"
      }
    },
    {
      "cell_type": "code",
      "execution_count": 1,
      "source": [
        "!pip install pymysql > /dev/null"
      ],
      "outputs": [],
      "metadata": {
        "id": "h1lATVVp88Ci"
      }
    },
    {
      "cell_type": "code",
      "execution_count": 2,
      "source": [
        "from google.colab import files\n",
        "uploaded = files.upload()\n",
        "filename = list(uploaded.keys())[0]"
      ],
      "outputs": [
        {
          "output_type": "display_data",
          "data": {
            "text/plain": [
              "<IPython.core.display.HTML object>"
            ],
            "text/html": [
              "\n",
              "     <input type=\"file\" id=\"files-abdcc08a-6c39-4c83-aa83-a108f8246e2c\" name=\"files[]\" multiple disabled\n",
              "        style=\"border:none\" />\n",
              "     <output id=\"result-abdcc08a-6c39-4c83-aa83-a108f8246e2c\">\n",
              "      Upload widget is only available when the cell has been executed in the\n",
              "      current browser session. Please rerun this cell to enable.\n",
              "      </output>\n",
              "      <script src=\"/nbextensions/google.colab/files.js\"></script> "
            ]
          },
          "metadata": {}
        },
        {
          "output_type": "stream",
          "name": "stdout",
          "text": [
            "Saving mysql.json to mysql.json\n"
          ]
        }
      ],
      "metadata": {
        "colab": {
          "resources": {
            "http://localhost:8080/nbextensions/google.colab/files.js": {
              "data": "Ly8gQ29weXJpZ2h0IDIwMTcgR29vZ2xlIExMQwovLwovLyBMaWNlbnNlZCB1bmRlciB0aGUgQXBhY2hlIExpY2Vuc2UsIFZlcnNpb24gMi4wICh0aGUgIkxpY2Vuc2UiKTsKLy8geW91IG1heSBub3QgdXNlIHRoaXMgZmlsZSBleGNlcHQgaW4gY29tcGxpYW5jZSB3aXRoIHRoZSBMaWNlbnNlLgovLyBZb3UgbWF5IG9idGFpbiBhIGNvcHkgb2YgdGhlIExpY2Vuc2UgYXQKLy8KLy8gICAgICBodHRwOi8vd3d3LmFwYWNoZS5vcmcvbGljZW5zZXMvTElDRU5TRS0yLjAKLy8KLy8gVW5sZXNzIHJlcXVpcmVkIGJ5IGFwcGxpY2FibGUgbGF3IG9yIGFncmVlZCB0byBpbiB3cml0aW5nLCBzb2Z0d2FyZQovLyBkaXN0cmlidXRlZCB1bmRlciB0aGUgTGljZW5zZSBpcyBkaXN0cmlidXRlZCBvbiBhbiAiQVMgSVMiIEJBU0lTLAovLyBXSVRIT1VUIFdBUlJBTlRJRVMgT1IgQ09ORElUSU9OUyBPRiBBTlkgS0lORCwgZWl0aGVyIGV4cHJlc3Mgb3IgaW1wbGllZC4KLy8gU2VlIHRoZSBMaWNlbnNlIGZvciB0aGUgc3BlY2lmaWMgbGFuZ3VhZ2UgZ292ZXJuaW5nIHBlcm1pc3Npb25zIGFuZAovLyBsaW1pdGF0aW9ucyB1bmRlciB0aGUgTGljZW5zZS4KCi8qKgogKiBAZmlsZW92ZXJ2aWV3IEhlbHBlcnMgZm9yIGdvb2dsZS5jb2xhYiBQeXRob24gbW9kdWxlLgogKi8KKGZ1bmN0aW9uKHNjb3BlKSB7CmZ1bmN0aW9uIHNwYW4odGV4dCwgc3R5bGVBdHRyaWJ1dGVzID0ge30pIHsKICBjb25zdCBlbGVtZW50ID0gZG9jdW1lbnQuY3JlYXRlRWxlbWVudCgnc3BhbicpOwogIGVsZW1lbnQudGV4dENvbnRlbnQgPSB0ZXh0OwogIGZvciAoY29uc3Qga2V5IG9mIE9iamVjdC5rZXlzKHN0eWxlQXR0cmlidXRlcykpIHsKICAgIGVsZW1lbnQuc3R5bGVba2V5XSA9IHN0eWxlQXR0cmlidXRlc1trZXldOwogIH0KICByZXR1cm4gZWxlbWVudDsKfQoKLy8gTWF4IG51bWJlciBvZiBieXRlcyB3aGljaCB3aWxsIGJlIHVwbG9hZGVkIGF0IGEgdGltZS4KY29uc3QgTUFYX1BBWUxPQURfU0laRSA9IDEwMCAqIDEwMjQ7CgpmdW5jdGlvbiBfdXBsb2FkRmlsZXMoaW5wdXRJZCwgb3V0cHV0SWQpIHsKICBjb25zdCBzdGVwcyA9IHVwbG9hZEZpbGVzU3RlcChpbnB1dElkLCBvdXRwdXRJZCk7CiAgY29uc3Qgb3V0cHV0RWxlbWVudCA9IGRvY3VtZW50LmdldEVsZW1lbnRCeUlkKG91dHB1dElkKTsKICAvLyBDYWNoZSBzdGVwcyBvbiB0aGUgb3V0cHV0RWxlbWVudCB0byBtYWtlIGl0IGF2YWlsYWJsZSBmb3IgdGhlIG5leHQgY2FsbAogIC8vIHRvIHVwbG9hZEZpbGVzQ29udGludWUgZnJvbSBQeXRob24uCiAgb3V0cHV0RWxlbWVudC5zdGVwcyA9IHN0ZXBzOwoKICByZXR1cm4gX3VwbG9hZEZpbGVzQ29udGludWUob3V0cHV0SWQpOwp9CgovLyBUaGlzIGlzIHJvdWdobHkgYW4gYXN5bmMgZ2VuZXJhdG9yIChub3Qgc3VwcG9ydGVkIGluIHRoZSBicm93c2VyIHlldCksCi8vIHdoZXJlIHRoZXJlIGFyZSBtdWx0aXBsZSBhc3luY2hyb25vdXMgc3RlcHMgYW5kIHRoZSBQeXRob24gc2lkZSBpcyBnb2luZwovLyB0byBwb2xsIGZvciBjb21wbGV0aW9uIG9mIGVhY2ggc3RlcC4KLy8gVGhpcyB1c2VzIGEgUHJvbWlzZSB0byBibG9jayB0aGUgcHl0aG9uIHNpZGUgb24gY29tcGxldGlvbiBvZiBlYWNoIHN0ZXAsCi8vIHRoZW4gcGFzc2VzIHRoZSByZXN1bHQgb2YgdGhlIHByZXZpb3VzIHN0ZXAgYXMgdGhlIGlucHV0IHRvIHRoZSBuZXh0IHN0ZXAuCmZ1bmN0aW9uIF91cGxvYWRGaWxlc0NvbnRpbnVlKG91dHB1dElkKSB7CiAgY29uc3Qgb3V0cHV0RWxlbWVudCA9IGRvY3VtZW50LmdldEVsZW1lbnRCeUlkKG91dHB1dElkKTsKICBjb25zdCBzdGVwcyA9IG91dHB1dEVsZW1lbnQuc3RlcHM7CgogIGNvbnN0IG5leHQgPSBzdGVwcy5uZXh0KG91dHB1dEVsZW1lbnQubGFzdFByb21pc2VWYWx1ZSk7CiAgcmV0dXJuIFByb21pc2UucmVzb2x2ZShuZXh0LnZhbHVlLnByb21pc2UpLnRoZW4oKHZhbHVlKSA9PiB7CiAgICAvLyBDYWNoZSB0aGUgbGFzdCBwcm9taXNlIHZhbHVlIHRvIG1ha2UgaXQgYXZhaWxhYmxlIHRvIHRoZSBuZXh0CiAgICAvLyBzdGVwIG9mIHRoZSBnZW5lcmF0b3IuCiAgICBvdXRwdXRFbGVtZW50Lmxhc3RQcm9taXNlVmFsdWUgPSB2YWx1ZTsKICAgIHJldHVybiBuZXh0LnZhbHVlLnJlc3BvbnNlOwogIH0pOwp9CgovKioKICogR2VuZXJhdG9yIGZ1bmN0aW9uIHdoaWNoIGlzIGNhbGxlZCBiZXR3ZWVuIGVhY2ggYXN5bmMgc3RlcCBvZiB0aGUgdXBsb2FkCiAqIHByb2Nlc3MuCiAqIEBwYXJhbSB7c3RyaW5nfSBpbnB1dElkIEVsZW1lbnQgSUQgb2YgdGhlIGlucHV0IGZpbGUgcGlja2VyIGVsZW1lbnQuCiAqIEBwYXJhbSB7c3RyaW5nfSBvdXRwdXRJZCBFbGVtZW50IElEIG9mIHRoZSBvdXRwdXQgZGlzcGxheS4KICogQHJldHVybiB7IUl0ZXJhYmxlPCFPYmplY3Q+fSBJdGVyYWJsZSBvZiBuZXh0IHN0ZXBzLgogKi8KZnVuY3Rpb24qIHVwbG9hZEZpbGVzU3RlcChpbnB1dElkLCBvdXRwdXRJZCkgewogIGNvbnN0IGlucHV0RWxlbWVudCA9IGRvY3VtZW50LmdldEVsZW1lbnRCeUlkKGlucHV0SWQpOwogIGlucHV0RWxlbWVudC5kaXNhYmxlZCA9IGZhbHNlOwoKICBjb25zdCBvdXRwdXRFbGVtZW50ID0gZG9jdW1lbnQuZ2V0RWxlbWVudEJ5SWQob3V0cHV0SWQpOwogIG91dHB1dEVsZW1lbnQuaW5uZXJIVE1MID0gJyc7CgogIGNvbnN0IHBpY2tlZFByb21pc2UgPSBuZXcgUHJvbWlzZSgocmVzb2x2ZSkgPT4gewogICAgaW5wdXRFbGVtZW50LmFkZEV2ZW50TGlzdGVuZXIoJ2NoYW5nZScsIChlKSA9PiB7CiAgICAgIHJlc29sdmUoZS50YXJnZXQuZmlsZXMpOwogICAgfSk7CiAgfSk7CgogIGNvbnN0IGNhbmNlbCA9IGRvY3VtZW50LmNyZWF0ZUVsZW1lbnQoJ2J1dHRvbicpOwogIGlucHV0RWxlbWVudC5wYXJlbnRFbGVtZW50LmFwcGVuZENoaWxkKGNhbmNlbCk7CiAgY2FuY2VsLnRleHRDb250ZW50ID0gJ0NhbmNlbCB1cGxvYWQnOwogIGNvbnN0IGNhbmNlbFByb21pc2UgPSBuZXcgUHJvbWlzZSgocmVzb2x2ZSkgPT4gewogICAgY2FuY2VsLm9uY2xpY2sgPSAoKSA9PiB7CiAgICAgIHJlc29sdmUobnVsbCk7CiAgICB9OwogIH0pOwoKICAvLyBXYWl0IGZvciB0aGUgdXNlciB0byBwaWNrIHRoZSBmaWxlcy4KICBjb25zdCBmaWxlcyA9IHlpZWxkIHsKICAgIHByb21pc2U6IFByb21pc2UucmFjZShbcGlja2VkUHJvbWlzZSwgY2FuY2VsUHJvbWlzZV0pLAogICAgcmVzcG9uc2U6IHsKICAgICAgYWN0aW9uOiAnc3RhcnRpbmcnLAogICAgfQogIH07CgogIGNhbmNlbC5yZW1vdmUoKTsKCiAgLy8gRGlzYWJsZSB0aGUgaW5wdXQgZWxlbWVudCBzaW5jZSBmdXJ0aGVyIHBpY2tzIGFyZSBub3QgYWxsb3dlZC4KICBpbnB1dEVsZW1lbnQuZGlzYWJsZWQgPSB0cnVlOwoKICBpZiAoIWZpbGVzKSB7CiAgICByZXR1cm4gewogICAgICByZXNwb25zZTogewogICAgICAgIGFjdGlvbjogJ2NvbXBsZXRlJywKICAgICAgfQogICAgfTsKICB9CgogIGZvciAoY29uc3QgZmlsZSBvZiBmaWxlcykgewogICAgY29uc3QgbGkgPSBkb2N1bWVudC5jcmVhdGVFbGVtZW50KCdsaScpOwogICAgbGkuYXBwZW5kKHNwYW4oZmlsZS5uYW1lLCB7Zm9udFdlaWdodDogJ2JvbGQnfSkpOwogICAgbGkuYXBwZW5kKHNwYW4oCiAgICAgICAgYCgke2ZpbGUudHlwZSB8fCAnbi9hJ30pIC0gJHtmaWxlLnNpemV9IGJ5dGVzLCBgICsKICAgICAgICBgbGFzdCBtb2RpZmllZDogJHsKICAgICAgICAgICAgZmlsZS5sYXN0TW9kaWZpZWREYXRlID8gZmlsZS5sYXN0TW9kaWZpZWREYXRlLnRvTG9jYWxlRGF0ZVN0cmluZygpIDoKICAgICAgICAgICAgICAgICAgICAgICAgICAgICAgICAgICAgJ24vYSd9IC0gYCkpOwogICAgY29uc3QgcGVyY2VudCA9IHNwYW4oJzAlIGRvbmUnKTsKICAgIGxpLmFwcGVuZENoaWxkKHBlcmNlbnQpOwoKICAgIG91dHB1dEVsZW1lbnQuYXBwZW5kQ2hpbGQobGkpOwoKICAgIGNvbnN0IGZpbGVEYXRhUHJvbWlzZSA9IG5ldyBQcm9taXNlKChyZXNvbHZlKSA9PiB7CiAgICAgIGNvbnN0IHJlYWRlciA9IG5ldyBGaWxlUmVhZGVyKCk7CiAgICAgIHJlYWRlci5vbmxvYWQgPSAoZSkgPT4gewogICAgICAgIHJlc29sdmUoZS50YXJnZXQucmVzdWx0KTsKICAgICAgfTsKICAgICAgcmVhZGVyLnJlYWRBc0FycmF5QnVmZmVyKGZpbGUpOwogICAgfSk7CiAgICAvLyBXYWl0IGZvciB0aGUgZGF0YSB0byBiZSByZWFkeS4KICAgIGxldCBmaWxlRGF0YSA9IHlpZWxkIHsKICAgICAgcHJvbWlzZTogZmlsZURhdGFQcm9taXNlLAogICAgICByZXNwb25zZTogewogICAgICAgIGFjdGlvbjogJ2NvbnRpbnVlJywKICAgICAgfQogICAgfTsKCiAgICAvLyBVc2UgYSBjaHVua2VkIHNlbmRpbmcgdG8gYXZvaWQgbWVzc2FnZSBzaXplIGxpbWl0cy4gU2VlIGIvNjIxMTU2NjAuCiAgICBsZXQgcG9zaXRpb24gPSAwOwogICAgZG8gewogICAgICBjb25zdCBsZW5ndGggPSBNYXRoLm1pbihmaWxlRGF0YS5ieXRlTGVuZ3RoIC0gcG9zaXRpb24sIE1BWF9QQVlMT0FEX1NJWkUpOwogICAgICBjb25zdCBjaHVuayA9IG5ldyBVaW50OEFycmF5KGZpbGVEYXRhLCBwb3NpdGlvbiwgbGVuZ3RoKTsKICAgICAgcG9zaXRpb24gKz0gbGVuZ3RoOwoKICAgICAgY29uc3QgYmFzZTY0ID0gYnRvYShTdHJpbmcuZnJvbUNoYXJDb2RlLmFwcGx5KG51bGwsIGNodW5rKSk7CiAgICAgIHlpZWxkIHsKICAgICAgICByZXNwb25zZTogewogICAgICAgICAgYWN0aW9uOiAnYXBwZW5kJywKICAgICAgICAgIGZpbGU6IGZpbGUubmFtZSwKICAgICAgICAgIGRhdGE6IGJhc2U2NCwKICAgICAgICB9LAogICAgICB9OwoKICAgICAgbGV0IHBlcmNlbnREb25lID0gZmlsZURhdGEuYnl0ZUxlbmd0aCA9PT0gMCA/CiAgICAgICAgICAxMDAgOgogICAgICAgICAgTWF0aC5yb3VuZCgocG9zaXRpb24gLyBmaWxlRGF0YS5ieXRlTGVuZ3RoKSAqIDEwMCk7CiAgICAgIHBlcmNlbnQudGV4dENvbnRlbnQgPSBgJHtwZXJjZW50RG9uZX0lIGRvbmVgOwoKICAgIH0gd2hpbGUgKHBvc2l0aW9uIDwgZmlsZURhdGEuYnl0ZUxlbmd0aCk7CiAgfQoKICAvLyBBbGwgZG9uZS4KICB5aWVsZCB7CiAgICByZXNwb25zZTogewogICAgICBhY3Rpb246ICdjb21wbGV0ZScsCiAgICB9CiAgfTsKfQoKc2NvcGUuZ29vZ2xlID0gc2NvcGUuZ29vZ2xlIHx8IHt9OwpzY29wZS5nb29nbGUuY29sYWIgPSBzY29wZS5nb29nbGUuY29sYWIgfHwge307CnNjb3BlLmdvb2dsZS5jb2xhYi5fZmlsZXMgPSB7CiAgX3VwbG9hZEZpbGVzLAogIF91cGxvYWRGaWxlc0NvbnRpbnVlLAp9Owp9KShzZWxmKTsK",
              "ok": true,
              "headers": [
                [
                  "content-type",
                  "application/javascript"
                ]
              ],
              "status": 200,
              "status_text": ""
            }
          },
          "base_uri": "https://localhost:8080/",
          "height": 76
        },
        "id": "1dK2aDv39NWo",
        "outputId": "1abf153f-60b1-4455-b052-b8ec4efab08c"
      }
    },
    {
      "cell_type": "code",
      "execution_count": 3,
      "source": [
        "import json, pymysql\n",
        "with open(filename) as fp:\n",
        "    config_str = fp.read()\n",
        "config = json.loads(config_str)\n",
        "\n",
        "conn = pymysql.connect(**config)    # dictionary unpacking"
      ],
      "outputs": [],
      "metadata": {
        "id": "WHR7uytD9SlA"
      }
    },
    {
      "cell_type": "code",
      "execution_count": 4,
      "source": [
        "import random\r\n",
        "random.seed(2021)"
      ],
      "outputs": [],
      "metadata": {
        "id": "z0zLM4fg-N47"
      }
    },
    {
      "cell_type": "markdown",
      "source": [
        "## products 테이블"
      ],
      "metadata": {
        "id": "KkmuIt_D9iLE"
      }
    },
    {
      "cell_type": "code",
      "execution_count": 5,
      "source": [
        "# products 테이블 생성 sql\r\n",
        "sql = \"\"\"\r\n",
        "    CREATE TABLE if NOT exists products(\r\n",
        "        pid INT PRIMARY KEY AUTO_INCREMENT,\r\n",
        "        pname VARCHAR(40) NOT NULL,\r\n",
        "        pprice INT UNSIGNED NOT NULL,\r\n",
        "        pcategory VARCHAR(20) NOT NULL,\r\n",
        "        pcost INT UNSIGNED NOT NULL\r\n",
        "    ) AUTO_INCREMENT=11;\r\n",
        "\"\"\""
      ],
      "outputs": [],
      "metadata": {
        "id": "nCMl5hqR9eoM"
      }
    },
    {
      "cell_type": "code",
      "execution_count": 6,
      "source": [
        "cur = conn.cursor()\r\n",
        "cur.execute(sql)"
      ],
      "outputs": [
        {
          "output_type": "execute_result",
          "data": {
            "text/plain": [
              "0"
            ]
          },
          "metadata": {},
          "execution_count": 6
        }
      ],
      "metadata": {
        "colab": {
          "base_uri": "https://localhost:8080/"
        },
        "id": "a4Vbb3Qj-BAo",
        "outputId": "7f36261f-7aa9-41f9-b702-26bff1dee9a4"
      }
    },
    {
      "cell_type": "code",
      "execution_count": 7,
      "source": [
        "camping_goods = ['텐트','타프','천막','침낭','매트','랜턴','취사용품',\r\n",
        "                 '아이스박스','보조배터리','워터저그']\r\n",
        "car_goods = ['블랙박스','내비게이션','하이패스','후방카메라','자동차TV',\r\n",
        "             '카오디오','핸즈프리','헤드유닛','방진매트','윤활방청제']\r\n",
        "health_goods = ['러닝머신','웨이트기구','복근운동기구','벨트','거꾸리',\r\n",
        "                '훌라후프','트램펄린','스텝퍼','로잉머신','헬스사이클']\r\n",
        "category_names = ['캠핑용품','자동차용품','헬스용품']"
      ],
      "outputs": [],
      "metadata": {
        "id": "ifh3Arc_-XoF"
      }
    },
    {
      "cell_type": "code",
      "execution_count": 11,
      "source": [
        "for item in camping_goods:\r\n",
        "    price = random.randint(100,999) * 100\r\n",
        "    rate = random.randint(85, 98)\r\n",
        "    cost = int(round(price * rate / 1000) * 10)\r\n",
        "    print(item, price, '캠핑', cost)"
      ],
      "outputs": [
        {
          "output_type": "stream",
          "name": "stdout",
          "text": [
            "텐트 94100 캠핑 83750\n",
            "타프 15400 캠핑 13710\n",
            "천막 17800 캠핑 15310\n",
            "침낭 27900 캠핑 26230\n",
            "매트 56100 캠핑 53860\n",
            "랜턴 32500 캠핑 30550\n",
            "취사용품 24000 캠핑 22800\n",
            "아이스박스 53900 캠핑 49050\n",
            "보조배터리 89500 캠핑 79660\n",
            "워터저그 54600 캠핑 47500\n"
          ]
        }
      ],
      "metadata": {
        "colab": {
          "base_uri": "https://localhost:8080/"
        },
        "id": "HUpIZgrnCNDq",
        "outputId": "51a99c4e-5558-4a15-80dd-5c01992d2457"
      }
    },
    {
      "cell_type": "code",
      "execution_count": 9,
      "source": [
        "sql = \"insert into products(pname,pprice,pcategory,pcost) values(%s,%s,%s,%s);\"\r\n",
        "for i, item_list in enumerate([camping_goods, car_goods, health_goods]):\r\n",
        "    for item in item_list:\r\n",
        "        price = random.randint(100,999) * 100\r\n",
        "        rate = random.randint(85, 98)\r\n",
        "        cost = int(round(price * rate / 1000) * 10)\r\n",
        "        cur.execute(sql, (item, price, category_names[i], cost))\r\n",
        "conn.commit()"
      ],
      "outputs": [],
      "metadata": {
        "id": "PYmVDM6jDfQS"
      }
    },
    {
      "cell_type": "markdown",
      "source": [
        "## sales 테이블"
      ],
      "metadata": {
        "id": "kj68tc4WIEUv"
      }
    },
    {
      "cell_type": "code",
      "execution_count": 13,
      "source": [
        "# spid를 외래키(foreign key)로 설정\r\n",
        "sql = \"\"\"\r\n",
        "    CREATE TABLE if NOT EXISTS sales(\r\n",
        "        sid INT PRIMARY KEY AUTO_INCREMENT,\r\n",
        "        sdate DATE NOT NULL,\r\n",
        "        scompany VARCHAR(20) NOT NULL,\r\n",
        "        spid INT NOT NULL,\r\n",
        "        sunit INT NOT NULL,\r\n",
        "        FOREIGN KEY(spid) REFERENCES products(pid)\r\n",
        "    ) AUTO_INCREMENT=101;\r\n",
        "\"\"\""
      ],
      "outputs": [],
      "metadata": {
        "id": "k3kCseUODqoV"
      }
    },
    {
      "cell_type": "code",
      "execution_count": 14,
      "source": [
        "cur = conn.cursor()\r\n",
        "cur.execute(sql)"
      ],
      "outputs": [
        {
          "output_type": "execute_result",
          "data": {
            "text/plain": [
              "0"
            ]
          },
          "metadata": {},
          "execution_count": 14
        }
      ],
      "metadata": {
        "colab": {
          "base_uri": "https://localhost:8080/"
        },
        "id": "-3GLUKg3Rmat",
        "outputId": "de47c030-ce8f-42a7-b3a6-f66158a3aa62"
      }
    },
    {
      "cell_type": "code",
      "execution_count": 15,
      "source": [
        "calendar = {1:31,2:29,3:31,4:30,5:31,6:30,7:31,8:31,9:30,10:31,11:30,12:31}\r\n",
        "company_list = ['멀티캠퍼스','한경아카데미','표준협회','생산성본부','테크브루']\r\n",
        "for i in range(10):\r\n",
        "    date = f'2020-1-{random.randint(1,31)}'\r\n",
        "    company = company_list[random.randint(0,4)]\r\n",
        "    pid = random.randint(11,40)\r\n",
        "    unit = random.randint(1,20)\r\n",
        "    print(date,company,pid,unit)"
      ],
      "outputs": [
        {
          "output_type": "stream",
          "name": "stdout",
          "text": [
            "2020-1-18 멀티캠퍼스 28 9\n",
            "2020-1-30 멀티캠퍼스 28 19\n",
            "2020-1-24 생산성본부 16 4\n",
            "2020-1-2 멀티캠퍼스 24 11\n",
            "2020-1-2 테크브루 23 17\n",
            "2020-1-31 생산성본부 22 18\n",
            "2020-1-8 표준협회 30 17\n",
            "2020-1-9 표준협회 16 14\n",
            "2020-1-19 표준협회 27 13\n",
            "2020-1-6 테크브루 21 3\n"
          ]
        }
      ],
      "metadata": {
        "colab": {
          "base_uri": "https://localhost:8080/"
        },
        "id": "CyhbMLBvLC81",
        "outputId": "fdd74297-ecab-4a1e-bd67-169d177059ac"
      }
    },
    {
      "cell_type": "code",
      "execution_count": 17,
      "source": [
        "sql = \"insert into sales values(default,%s,%s,%s,%s);\"\r\n",
        "for month, day in calendar.items():\r\n",
        "    for i in range(10):\r\n",
        "        date = f'2020-{month}-{random.randint(1,day)}'\r\n",
        "        company = company_list[random.randint(0,4)]\r\n",
        "        pid = random.randint(11,40)\r\n",
        "        unit = random.randint(1,20)\r\n",
        "        cur.execute(sql, (date, company, pid, unit))\r\n",
        "conn.commit()"
      ],
      "outputs": [],
      "metadata": {
        "id": "g64xD5WPLOUY"
      }
    },
    {
      "cell_type": "markdown",
      "source": [
        "## 두 테이블을 Join 한 View 생성"
      ],
      "metadata": {
        "id": "nEsoglbiTQKC"
      }
    },
    {
      "cell_type": "code",
      "execution_count": 18,
      "source": [
        "sql = \"\"\"\r\n",
        "    CREATE VIEW sales_book as\r\n",
        "        SELECT sid, sdate, scompany, pid, pname, pcategory, pprice, sunit, pcost,\r\n",
        "            pprice*sunit AS revenue, (pprice-pcost)*sunit AS profit\r\n",
        "        FROM sales\r\n",
        "        JOIN products\r\n",
        "        ON sales.spid = products.pid\r\n",
        "        ORDER BY sdate;\r\n",
        "\"\"\""
      ],
      "outputs": [],
      "metadata": {
        "id": "EGSRX6uJSfK1"
      }
    },
    {
      "cell_type": "code",
      "execution_count": 19,
      "source": [
        "cur = conn.cursor()\r\n",
        "cur.execute(sql)"
      ],
      "outputs": [
        {
          "output_type": "execute_result",
          "data": {
            "text/plain": [
              "0"
            ]
          },
          "metadata": {},
          "execution_count": 19
        }
      ],
      "metadata": {
        "colab": {
          "base_uri": "https://localhost:8080/"
        },
        "id": "dF3HuZWBeWvl",
        "outputId": "88009859-6930-4df8-867f-232af6bbdb8a"
      }
    },
    {
      "cell_type": "markdown",
      "source": [
        "- 데이터를 sales_book.csv로 저장"
      ],
      "metadata": {
        "id": "yWUtZMCfenoH"
      }
    },
    {
      "cell_type": "code",
      "execution_count": 25,
      "source": [
        "sql = 'select * from sales_book'\r\n",
        "cur.execute(sql)\r\n",
        "results = cur.fetchall()"
      ],
      "outputs": [],
      "metadata": {
        "id": "iGTu39b3eeD8"
      }
    },
    {
      "cell_type": "code",
      "execution_count": 26,
      "source": [
        "import pandas as pd\r\n",
        "\r\n",
        "df = pd.DataFrame(results)\r\n",
        "df.head()"
      ],
      "outputs": [
        {
          "output_type": "execute_result",
          "data": {
            "text/plain": [
              "    0           1       2   3      4      5      6   7      8        9       10\n",
              "0  101  2020-01-06  한경아카데미  11     텐트   캠핑용품  94900  20  80660  1898000  284800\n",
              "1  106  2020-01-06    표준협회  17   취사용품   캠핑용품  57800   1  49710    57800    8090\n",
              "2  108  2020-01-07   생산성본부  29   방진매트  자동차용품  65500   3  57640   196500   23580\n",
              "3  109  2020-01-10  한경아카데미  24  후방카메라  자동차용품  50400  17  48380   856800   34340\n",
              "4  107  2020-01-12    표준협회  40  헬스사이클   헬스용품  47600   2  45700    95200    3800"
            ],
            "text/html": [
              "<div>\n",
              "<style scoped>\n",
              "    .dataframe tbody tr th:only-of-type {\n",
              "        vertical-align: middle;\n",
              "    }\n",
              "\n",
              "    .dataframe tbody tr th {\n",
              "        vertical-align: top;\n",
              "    }\n",
              "\n",
              "    .dataframe thead th {\n",
              "        text-align: right;\n",
              "    }\n",
              "</style>\n",
              "<table border=\"1\" class=\"dataframe\">\n",
              "  <thead>\n",
              "    <tr style=\"text-align: right;\">\n",
              "      <th></th>\n",
              "      <th>0</th>\n",
              "      <th>1</th>\n",
              "      <th>2</th>\n",
              "      <th>3</th>\n",
              "      <th>4</th>\n",
              "      <th>5</th>\n",
              "      <th>6</th>\n",
              "      <th>7</th>\n",
              "      <th>8</th>\n",
              "      <th>9</th>\n",
              "      <th>10</th>\n",
              "    </tr>\n",
              "  </thead>\n",
              "  <tbody>\n",
              "    <tr>\n",
              "      <th>0</th>\n",
              "      <td>101</td>\n",
              "      <td>2020-01-06</td>\n",
              "      <td>한경아카데미</td>\n",
              "      <td>11</td>\n",
              "      <td>텐트</td>\n",
              "      <td>캠핑용품</td>\n",
              "      <td>94900</td>\n",
              "      <td>20</td>\n",
              "      <td>80660</td>\n",
              "      <td>1898000</td>\n",
              "      <td>284800</td>\n",
              "    </tr>\n",
              "    <tr>\n",
              "      <th>1</th>\n",
              "      <td>106</td>\n",
              "      <td>2020-01-06</td>\n",
              "      <td>표준협회</td>\n",
              "      <td>17</td>\n",
              "      <td>취사용품</td>\n",
              "      <td>캠핑용품</td>\n",
              "      <td>57800</td>\n",
              "      <td>1</td>\n",
              "      <td>49710</td>\n",
              "      <td>57800</td>\n",
              "      <td>8090</td>\n",
              "    </tr>\n",
              "    <tr>\n",
              "      <th>2</th>\n",
              "      <td>108</td>\n",
              "      <td>2020-01-07</td>\n",
              "      <td>생산성본부</td>\n",
              "      <td>29</td>\n",
              "      <td>방진매트</td>\n",
              "      <td>자동차용품</td>\n",
              "      <td>65500</td>\n",
              "      <td>3</td>\n",
              "      <td>57640</td>\n",
              "      <td>196500</td>\n",
              "      <td>23580</td>\n",
              "    </tr>\n",
              "    <tr>\n",
              "      <th>3</th>\n",
              "      <td>109</td>\n",
              "      <td>2020-01-10</td>\n",
              "      <td>한경아카데미</td>\n",
              "      <td>24</td>\n",
              "      <td>후방카메라</td>\n",
              "      <td>자동차용품</td>\n",
              "      <td>50400</td>\n",
              "      <td>17</td>\n",
              "      <td>48380</td>\n",
              "      <td>856800</td>\n",
              "      <td>34340</td>\n",
              "    </tr>\n",
              "    <tr>\n",
              "      <th>4</th>\n",
              "      <td>107</td>\n",
              "      <td>2020-01-12</td>\n",
              "      <td>표준협회</td>\n",
              "      <td>40</td>\n",
              "      <td>헬스사이클</td>\n",
              "      <td>헬스용품</td>\n",
              "      <td>47600</td>\n",
              "      <td>2</td>\n",
              "      <td>45700</td>\n",
              "      <td>95200</td>\n",
              "      <td>3800</td>\n",
              "    </tr>\n",
              "  </tbody>\n",
              "</table>\n",
              "</div>"
            ]
          },
          "metadata": {},
          "execution_count": 26
        }
      ],
      "metadata": {
        "colab": {
          "base_uri": "https://localhost:8080/",
          "height": 204
        },
        "id": "Q3k630UifCIp",
        "outputId": "d460096e-d485-494c-f3e2-a69aa0e1d0d3"
      }
    },
    {
      "cell_type": "code",
      "execution_count": 27,
      "source": [
        "del df[3]\r\n",
        "del df[0]"
      ],
      "outputs": [],
      "metadata": {
        "id": "yVBpFYksfozF"
      }
    },
    {
      "cell_type": "code",
      "execution_count": 28,
      "source": [
        "df.columns = ['판매일자','판매처','상품명','카테고리','단가','수량','원가','매출','이익']\r\n",
        "df.head()"
      ],
      "outputs": [
        {
          "output_type": "execute_result",
          "data": {
            "text/plain": [
              "         판매일자     판매처    상품명   카테고리     단가  수량     원가      매출액      이익\n",
              "0  2020-01-06  한경아카데미     텐트   캠핑용품  94900  20  80660  1898000  284800\n",
              "1  2020-01-06    표준협회   취사용품   캠핑용품  57800   1  49710    57800    8090\n",
              "2  2020-01-07   생산성본부   방진매트  자동차용품  65500   3  57640   196500   23580\n",
              "3  2020-01-10  한경아카데미  후방카메라  자동차용품  50400  17  48380   856800   34340\n",
              "4  2020-01-12    표준협회  헬스사이클   헬스용품  47600   2  45700    95200    3800"
            ],
            "text/html": [
              "<div>\n",
              "<style scoped>\n",
              "    .dataframe tbody tr th:only-of-type {\n",
              "        vertical-align: middle;\n",
              "    }\n",
              "\n",
              "    .dataframe tbody tr th {\n",
              "        vertical-align: top;\n",
              "    }\n",
              "\n",
              "    .dataframe thead th {\n",
              "        text-align: right;\n",
              "    }\n",
              "</style>\n",
              "<table border=\"1\" class=\"dataframe\">\n",
              "  <thead>\n",
              "    <tr style=\"text-align: right;\">\n",
              "      <th></th>\n",
              "      <th>판매일자</th>\n",
              "      <th>판매처</th>\n",
              "      <th>상품명</th>\n",
              "      <th>카테고리</th>\n",
              "      <th>단가</th>\n",
              "      <th>수량</th>\n",
              "      <th>원가</th>\n",
              "      <th>매출액</th>\n",
              "      <th>이익</th>\n",
              "    </tr>\n",
              "  </thead>\n",
              "  <tbody>\n",
              "    <tr>\n",
              "      <th>0</th>\n",
              "      <td>2020-01-06</td>\n",
              "      <td>한경아카데미</td>\n",
              "      <td>텐트</td>\n",
              "      <td>캠핑용품</td>\n",
              "      <td>94900</td>\n",
              "      <td>20</td>\n",
              "      <td>80660</td>\n",
              "      <td>1898000</td>\n",
              "      <td>284800</td>\n",
              "    </tr>\n",
              "    <tr>\n",
              "      <th>1</th>\n",
              "      <td>2020-01-06</td>\n",
              "      <td>표준협회</td>\n",
              "      <td>취사용품</td>\n",
              "      <td>캠핑용품</td>\n",
              "      <td>57800</td>\n",
              "      <td>1</td>\n",
              "      <td>49710</td>\n",
              "      <td>57800</td>\n",
              "      <td>8090</td>\n",
              "    </tr>\n",
              "    <tr>\n",
              "      <th>2</th>\n",
              "      <td>2020-01-07</td>\n",
              "      <td>생산성본부</td>\n",
              "      <td>방진매트</td>\n",
              "      <td>자동차용품</td>\n",
              "      <td>65500</td>\n",
              "      <td>3</td>\n",
              "      <td>57640</td>\n",
              "      <td>196500</td>\n",
              "      <td>23580</td>\n",
              "    </tr>\n",
              "    <tr>\n",
              "      <th>3</th>\n",
              "      <td>2020-01-10</td>\n",
              "      <td>한경아카데미</td>\n",
              "      <td>후방카메라</td>\n",
              "      <td>자동차용품</td>\n",
              "      <td>50400</td>\n",
              "      <td>17</td>\n",
              "      <td>48380</td>\n",
              "      <td>856800</td>\n",
              "      <td>34340</td>\n",
              "    </tr>\n",
              "    <tr>\n",
              "      <th>4</th>\n",
              "      <td>2020-01-12</td>\n",
              "      <td>표준협회</td>\n",
              "      <td>헬스사이클</td>\n",
              "      <td>헬스용품</td>\n",
              "      <td>47600</td>\n",
              "      <td>2</td>\n",
              "      <td>45700</td>\n",
              "      <td>95200</td>\n",
              "      <td>3800</td>\n",
              "    </tr>\n",
              "  </tbody>\n",
              "</table>\n",
              "</div>"
            ]
          },
          "metadata": {},
          "execution_count": 28
        }
      ],
      "metadata": {
        "colab": {
          "base_uri": "https://localhost:8080/",
          "height": 204
        },
        "id": "O1WqGWo_fK3U",
        "outputId": "92290d70-d665-4196-dc8d-8ca7c227b251"
      }
    },
    {
      "cell_type": "code",
      "execution_count": 29,
      "source": [
        "df.to_csv('sales_book.csv', index=False)"
      ],
      "outputs": [],
      "metadata": {
        "id": "h_D3GOcFfwnV"
      }
    },
    {
      "cell_type": "markdown",
      "source": [
        "## 마무리"
      ],
      "metadata": {
        "id": "hn3UkfFhgkYl"
      }
    },
    {
      "cell_type": "code",
      "execution_count": 30,
      "source": [
        "cur.close()\n",
        "conn.close()"
      ],
      "outputs": [],
      "metadata": {
        "id": "ZaOl9zKhgjkL"
      }
    },
    {
      "cell_type": "code",
      "execution_count": null,
      "source": [],
      "outputs": [],
      "metadata": {
        "id": "lBpSJTqOgpOV"
      }
    }
  ]
}