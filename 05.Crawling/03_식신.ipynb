{
  "nbformat": 4,
  "nbformat_minor": 0,
  "metadata": {
    "colab": {
      "name": "03_식신.ipynb",
      "provenance": [],
      "collapsed_sections": []
    },
    "kernelspec": {
      "name": "python3",
      "display_name": "Python 3"
    },
    "language_info": {
      "name": "python"
    }
  },
  "cells": [
    {
      "cell_type": "markdown",
      "metadata": {
        "id": "nLlkwf5rtRzJ"
      },
      "source": [
        "# 식신 - 양재역으로 검색\n",
        "- 명칭, 주요메뉴, 평점, 전화번호, 주소"
      ]
    },
    {
      "cell_type": "code",
      "metadata": {
        "id": "TSIpGyzJtNas"
      },
      "source": [
        "import requests\n",
        "import pandas as pd\n",
        "from urllib.parse import quote"
      ],
      "execution_count": 2,
      "outputs": []
    },
    {
      "cell_type": "markdown",
      "metadata": {
        "id": "GGlMF_JLt27j"
      },
      "source": [
        "- 데이터 가져오기"
      ]
    },
    {
      "cell_type": "code",
      "metadata": {
        "id": "H03zDGg-tqE0"
      },
      "source": [
        "base_url = 'https://www.siksinhot.com'\n",
        "url = f'{base_url}/search?keywords={quote(\"양재역\")}'\n",
        "req = requests.get(url)\n",
        "html = req.text\n",
        "#html"
      ],
      "execution_count": 11,
      "outputs": []
    },
    {
      "cell_type": "code",
      "metadata": {
        "id": "VptdsS2Ru6Z1"
      },
      "source": [
        "from bs4 import BeautifulSoup\n",
        "\n",
        "soup = BeautifulSoup(html, 'html.parser')"
      ],
      "execution_count": 5,
      "outputs": []
    },
    {
      "cell_type": "markdown",
      "metadata": {
        "id": "qv16AK4RusPT"
      },
      "source": [
        "- 찾으려고 하는 데이터의 태그 찾기"
      ]
    },
    {
      "cell_type": "code",
      "metadata": {
        "colab": {
          "base_uri": "https://localhost:8080/"
        },
        "id": "gUPE-BVsuQbL",
        "outputId": "7f62f1b4-ba77-4c51-88a3-309ae7837340"
      },
      "source": [
        "lis = soup.select('div.listTy1 > ul > li')\n",
        "len(lis)"
      ],
      "execution_count": 9,
      "outputs": [
        {
          "output_type": "execute_result",
          "data": {
            "text/plain": [
              "12"
            ]
          },
          "metadata": {
            "tags": []
          },
          "execution_count": 9
        }
      ]
    },
    {
      "cell_type": "markdown",
      "metadata": {
        "id": "tMdCS9unwoQ-"
      },
      "source": [
        "- 여러개의 데이터중 하나를 선택해서 원하는 정보 추출"
      ]
    },
    {
      "cell_type": "code",
      "metadata": {
        "colab": {
          "base_uri": "https://localhost:8080/",
          "height": 35
        },
        "id": "on057H1SwpJ3",
        "outputId": "f3e94db4-3dfa-492c-cc2a-2f2e20a92e5a"
      },
      "source": [
        "li = lis[0]\n",
        "href = li.select_one('a')['href']\n",
        "href"
      ],
      "execution_count": 12,
      "outputs": [
        {
          "output_type": "execute_result",
          "data": {
            "application/vnd.google.colaboratory.intrinsic+json": {
              "type": "string"
            },
            "text/plain": [
              "'/P/358859'"
            ]
          },
          "metadata": {
            "tags": []
          },
          "execution_count": 12
        }
      ]
    },
    {
      "cell_type": "code",
      "metadata": {
        "id": "MaYTYQKixO28"
      },
      "source": [
        "url = base_url + href\n",
        "req = requests.get(url)\n",
        "sub_soup = BeautifulSoup(req.text, 'html.parser')"
      ],
      "execution_count": 13,
      "outputs": []
    },
    {
      "cell_type": "code",
      "metadata": {
        "colab": {
          "base_uri": "https://localhost:8080/",
          "height": 35
        },
        "id": "e1AYu0-6yxQH",
        "outputId": "049a50f0-eda7-48db-eadd-d89167dbcf7b"
      },
      "source": [
        "store = sub_soup.select_one('.title')\n",
        "info = store.find('h3').get_text()\n",
        "info"
      ],
      "execution_count": 15,
      "outputs": [
        {
          "output_type": "execute_result",
          "data": {
            "application/vnd.google.colaboratory.intrinsic+json": {
              "type": "string"
            },
            "text/plain": [
              "'그릭슈바인 양재역점3.6HOT'"
            ]
          },
          "metadata": {
            "tags": []
          },
          "execution_count": 15
        }
      ]
    },
    {
      "cell_type": "code",
      "metadata": {
        "colab": {
          "base_uri": "https://localhost:8080/",
          "height": 35
        },
        "id": "YGK-qVLizJg4",
        "outputId": "59995bc0-113b-4548-8fa1-9dc2091553f4"
      },
      "source": [
        "score = store.select_one('h3 > strong').string\n",
        "score"
      ],
      "execution_count": 17,
      "outputs": [
        {
          "output_type": "execute_result",
          "data": {
            "application/vnd.google.colaboratory.intrinsic+json": {
              "type": "string"
            },
            "text/plain": [
              "'3.6'"
            ]
          },
          "metadata": {
            "tags": []
          },
          "execution_count": 17
        }
      ]
    },
    {
      "cell_type": "code",
      "metadata": {
        "colab": {
          "base_uri": "https://localhost:8080/"
        },
        "id": "KiYLwXynzm4P",
        "outputId": "09f80649-fd67-4a6f-ef3e-2520843ed521"
      },
      "source": [
        "info.find(score)"
      ],
      "execution_count": 18,
      "outputs": [
        {
          "output_type": "execute_result",
          "data": {
            "text/plain": [
              "10"
            ]
          },
          "metadata": {
            "tags": []
          },
          "execution_count": 18
        }
      ]
    },
    {
      "cell_type": "code",
      "metadata": {
        "colab": {
          "base_uri": "https://localhost:8080/",
          "height": 35
        },
        "id": "JZgnqfGnzxSL",
        "outputId": "ce623009-a130-4cea-9952-894c350a244a"
      },
      "source": [
        "name = info[:info.find(score)]\n",
        "name"
      ],
      "execution_count": 19,
      "outputs": [
        {
          "output_type": "execute_result",
          "data": {
            "application/vnd.google.colaboratory.intrinsic+json": {
              "type": "string"
            },
            "text/plain": [
              "'그릭슈바인 양재역점'"
            ]
          },
          "metadata": {
            "tags": []
          },
          "execution_count": 19
        }
      ]
    },
    {
      "cell_type": "code",
      "metadata": {
        "colab": {
          "base_uri": "https://localhost:8080/",
          "height": 35
        },
        "id": "_SCN9dGS0C4V",
        "outputId": "1755b16e-3da8-46f9-cd09-ec13f0b6ba29"
      },
      "source": [
        "menu = sub_soup.select('.store_info p')[1].get_text()\n",
        "menu"
      ],
      "execution_count": 22,
      "outputs": [
        {
          "output_type": "execute_result",
          "data": {
            "application/vnd.google.colaboratory.intrinsic+json": {
              "type": "string"
            },
            "text/plain": [
              "'나이트라이프 > 맥주/호프'"
            ]
          },
          "metadata": {
            "tags": []
          },
          "execution_count": 22
        }
      ]
    },
    {
      "cell_type": "code",
      "metadata": {
        "colab": {
          "base_uri": "https://localhost:8080/",
          "height": 35
        },
        "id": "Vkg0hK780vG0",
        "outputId": "2b883537-f389-404d-f7e8-b8556e9c7e72"
      },
      "source": [
        "tel = sub_soup.select_one('.p_tel p').get_text()\n",
        "tel"
      ],
      "execution_count": 26,
      "outputs": [
        {
          "output_type": "execute_result",
          "data": {
            "application/vnd.google.colaboratory.intrinsic+json": {
              "type": "string"
            },
            "text/plain": [
              "'02-572-6100'"
            ]
          },
          "metadata": {
            "tags": []
          },
          "execution_count": 26
        }
      ]
    },
    {
      "cell_type": "code",
      "metadata": {
        "colab": {
          "base_uri": "https://localhost:8080/",
          "height": 35
        },
        "id": "oGTuoCrK1R0Z",
        "outputId": "4798bfb4-9c35-429a-8e15-716212bb5ac4"
      },
      "source": [
        "addr = sub_soup.select_one('.txt_adr').string\n",
        "addr"
      ],
      "execution_count": 28,
      "outputs": [
        {
          "output_type": "execute_result",
          "data": {
            "application/vnd.google.colaboratory.intrinsic+json": {
              "type": "string"
            },
            "text/plain": [
              "'서울특별시 서초구 강남대로 224'"
            ]
          },
          "metadata": {
            "tags": []
          },
          "execution_count": 28
        }
      ]
    },
    {
      "cell_type": "markdown",
      "metadata": {
        "id": "C4paUG2X2Nyb"
      },
      "source": [
        "- 한 페이지에 있는 모든 데이터를 반복문으로 가져오기"
      ]
    },
    {
      "cell_type": "code",
      "metadata": {
        "colab": {
          "base_uri": "https://localhost:8080/"
        },
        "id": "dmyvHS7s2AUl",
        "outputId": "aa059638-7625-4177-a9f3-5388865734b7"
      },
      "source": [
        "name_list, score_list, menu_list, tel_list, addr_list = [],[],[],[],[]\n",
        "for i, li in enumerate(lis):\n",
        "    href = li.select_one('a')['href']\n",
        "    url = base_url + href\n",
        "    req = requests.get(url)\n",
        "    sub_soup = BeautifulSoup(req.text, 'html.parser')\n",
        "\n",
        "    try:\n",
        "        store = sub_soup.select_one('.title')\n",
        "        info = store.find('h3').get_text()\n",
        "        score = store.select_one('h3 > strong').string\n",
        "        name = info[:info.find(score)]\n",
        "        menu = sub_soup.select('.store_info p')[1].get_text()\n",
        "        tel = sub_soup.select_one('.p_tel p').get_text()\n",
        "        addr = sub_soup.select_one('.txt_adr').string\n",
        "\n",
        "        name_list.append(name)\n",
        "        score_list.append(float(score))\n",
        "        menu_list.append(menu)\n",
        "        tel_list.append(tel)\n",
        "        addr_list.append(addr)\n",
        "    except:\n",
        "        print(i)\n"
      ],
      "execution_count": 31,
      "outputs": [
        {
          "output_type": "stream",
          "text": [
            "3\n",
            "4\n"
          ],
          "name": "stdout"
        }
      ]
    },
    {
      "cell_type": "code",
      "metadata": {
        "id": "6PHgzmOy3grT"
      },
      "source": [
        ""
      ],
      "execution_count": null,
      "outputs": []
    }
  ]
}