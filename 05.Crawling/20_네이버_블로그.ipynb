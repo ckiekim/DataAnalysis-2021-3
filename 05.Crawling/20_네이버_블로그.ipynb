{
 "cells": [
  {
   "cell_type": "markdown",
   "source": [
    "# 네이버 블로그 크롤링 - 스마트폰"
   ],
   "metadata": {}
  },
  {
   "cell_type": "code",
   "execution_count": 1,
   "source": [
    "import pandas as pd\r\n",
    "import time\r\n",
    "from urllib.parse import quote\r\n",
    "from selenium import webdriver\r\n",
    "from selenium.webdriver.common.keys import Keys"
   ],
   "outputs": [],
   "metadata": {}
  },
  {
   "cell_type": "code",
   "execution_count": 2,
   "source": [
    "base_url ='https://search.naver.com/search.naver?where=view&sm=tab_jum&query='\r\n",
    "url = base_url + quote('스마트폰')"
   ],
   "outputs": [],
   "metadata": {}
  },
  {
   "cell_type": "code",
   "execution_count": 7,
   "source": [
    "driver = webdriver.Chrome('../../chromedriver.exe')\r\n",
    "driver.get(url)"
   ],
   "outputs": [],
   "metadata": {}
  },
  {
   "cell_type": "code",
   "execution_count": 8,
   "source": [
    "# blog 페이지를 아래로 내려서 많은 데이터 확보\r\n",
    "body = driver.find_element_by_css_selector('body')\r\n",
    "for i in range(30):\r\n",
    "    body.send_keys(Keys.PAGE_DOWN)\r\n",
    "    time.sleep(1)"
   ],
   "outputs": [],
   "metadata": {}
  },
  {
   "cell_type": "code",
   "execution_count": 9,
   "source": [
    "from bs4 import BeautifulSoup\r\n",
    "html = driver.page_source\r\n",
    "soup = BeautifulSoup(html, 'html.parser')"
   ],
   "outputs": [],
   "metadata": {}
  },
  {
   "cell_type": "code",
   "execution_count": 10,
   "source": [
    "lis = soup.select('li.bx._svp_item')\r\n",
    "len(lis)"
   ],
   "outputs": [
    {
     "output_type": "execute_result",
     "data": {
      "text/plain": [
       "101"
      ]
     },
     "metadata": {},
     "execution_count": 10
    }
   ],
   "metadata": {}
  },
  {
   "cell_type": "code",
   "execution_count": 11,
   "source": [
    "li = lis[0]\r\n",
    "atag = li.select_one('a.api_txt_lines.total_tit._cross_trigger')\r\n",
    "title = atag.get_text()\r\n",
    "content = li.select_one('a.total_dsc._cross_trigger').get_text()\r\n",
    "title"
   ],
   "outputs": [
    {
     "output_type": "execute_result",
     "data": {
      "text/plain": [
       "'[스마트폰] 삼성 갤럭시Z 플립3 언박싱 후기'"
      ]
     },
     "metadata": {},
     "execution_count": 11
    }
   ],
   "metadata": {}
  },
  {
   "cell_type": "code",
   "execution_count": 12,
   "source": [
    "content"
   ],
   "outputs": [
    {
     "output_type": "execute_result",
     "data": {
      "text/plain": [
       "' 진짜 역대급으로 나온 스마트폰, 삼성 갤럭시Z 플립3 언박싱 후기 함께 공개된 삼성 갤럭시Z 폴드3가 기대... 아무래도 기존 스마트폰과 거의 비슷한 비율과 함께 큰 화면을 반으로 접어서 가지고 다니면서 컴팩트하게... '"
      ]
     },
     "metadata": {},
     "execution_count": 12
    }
   ],
   "metadata": {}
  },
  {
   "cell_type": "code",
   "execution_count": 13,
   "source": [
    "title_list, content_list = [], []\r\n",
    "for i, li in enumerate(lis):\r\n",
    "    try:\r\n",
    "        title = li.select_one('a.api_txt_lines.total_tit').get_text()\r\n",
    "        content = li.select_one('a.total_dsc').get_text()\r\n",
    "        title_list.append(title)\r\n",
    "        content_list.append(content)\r\n",
    "    except:\r\n",
    "        print(i)"
   ],
   "outputs": [],
   "metadata": {}
  },
  {
   "cell_type": "code",
   "execution_count": 14,
   "source": [
    "len(title_list)"
   ],
   "outputs": [
    {
     "output_type": "execute_result",
     "data": {
      "text/plain": [
       "101"
      ]
     },
     "metadata": {},
     "execution_count": 14
    }
   ],
   "metadata": {}
  },
  {
   "cell_type": "code",
   "execution_count": 15,
   "source": [
    "df = pd.DataFrame({\r\n",
    "    'title': title_list, 'content': content_list\r\n",
    "})\r\n",
    "df.head()"
   ],
   "outputs": [
    {
     "output_type": "execute_result",
     "data": {
      "text/plain": [
       "                                    title  \\\n",
       "0               [스마트폰] 삼성 갤럭시Z 플립3 언박싱 후기   \n",
       "1  갤럭시 A03s의 출시소식과 상세 정보: 개발도상국용 초저가 스마트폰   \n",
       "2              에어팟 프로 안드로이드 스마트폰과 연결하는 방법   \n",
       "3         삼성 갤럭시노트10 가격 2021년에도 매력적인 스마트폰   \n",
       "4            갤럭시 굿락 루틴+ 스마트폰 배터리 충전 구간 알림   \n",
       "\n",
       "                                             content  \n",
       "0   진짜 역대급으로 나온 스마트폰, 삼성 갤럭시Z 플립3 언박싱 후기 함께 공개된 삼...  \n",
       "1   삼성이 인도시장 등 개발도상국용 초저가 스마트폰인 A0x 시리즈를 지난 2019년...  \n",
       "2   그러면 이때 스마트폰 블루투스 메뉴로 가줍니다. 찾기를 눌러주면, 이렇게 검색이 ...  \n",
       "3   일상에서 스마트폰 사용량은 점점 늘어나고 있습니다. 카카오톡, 라인 같은 기본적인...  \n",
       "4   갤럭시 스마트폰을 사용하고 있다면 굿락 앱은 꼭 써볼 것을 추천드려요. 지속적인 ...  "
      ],
      "text/html": [
       "<div>\n",
       "<style scoped>\n",
       "    .dataframe tbody tr th:only-of-type {\n",
       "        vertical-align: middle;\n",
       "    }\n",
       "\n",
       "    .dataframe tbody tr th {\n",
       "        vertical-align: top;\n",
       "    }\n",
       "\n",
       "    .dataframe thead th {\n",
       "        text-align: right;\n",
       "    }\n",
       "</style>\n",
       "<table border=\"1\" class=\"dataframe\">\n",
       "  <thead>\n",
       "    <tr style=\"text-align: right;\">\n",
       "      <th></th>\n",
       "      <th>title</th>\n",
       "      <th>content</th>\n",
       "    </tr>\n",
       "  </thead>\n",
       "  <tbody>\n",
       "    <tr>\n",
       "      <th>0</th>\n",
       "      <td>[스마트폰] 삼성 갤럭시Z 플립3 언박싱 후기</td>\n",
       "      <td>진짜 역대급으로 나온 스마트폰, 삼성 갤럭시Z 플립3 언박싱 후기 함께 공개된 삼...</td>\n",
       "    </tr>\n",
       "    <tr>\n",
       "      <th>1</th>\n",
       "      <td>갤럭시 A03s의 출시소식과 상세 정보: 개발도상국용 초저가 스마트폰</td>\n",
       "      <td>삼성이 인도시장 등 개발도상국용 초저가 스마트폰인 A0x 시리즈를 지난 2019년...</td>\n",
       "    </tr>\n",
       "    <tr>\n",
       "      <th>2</th>\n",
       "      <td>에어팟 프로 안드로이드 스마트폰과 연결하는 방법</td>\n",
       "      <td>그러면 이때 스마트폰 블루투스 메뉴로 가줍니다. 찾기를 눌러주면, 이렇게 검색이 ...</td>\n",
       "    </tr>\n",
       "    <tr>\n",
       "      <th>3</th>\n",
       "      <td>삼성 갤럭시노트10 가격 2021년에도 매력적인 스마트폰</td>\n",
       "      <td>일상에서 스마트폰 사용량은 점점 늘어나고 있습니다. 카카오톡, 라인 같은 기본적인...</td>\n",
       "    </tr>\n",
       "    <tr>\n",
       "      <th>4</th>\n",
       "      <td>갤럭시 굿락 루틴+ 스마트폰 배터리 충전 구간 알림</td>\n",
       "      <td>갤럭시 스마트폰을 사용하고 있다면 굿락 앱은 꼭 써볼 것을 추천드려요. 지속적인 ...</td>\n",
       "    </tr>\n",
       "  </tbody>\n",
       "</table>\n",
       "</div>"
      ]
     },
     "metadata": {},
     "execution_count": 15
    }
   ],
   "metadata": {}
  },
  {
   "cell_type": "code",
   "execution_count": 16,
   "source": [
    "driver.close()"
   ],
   "outputs": [],
   "metadata": {}
  },
  {
   "cell_type": "code",
   "execution_count": null,
   "source": [],
   "outputs": [],
   "metadata": {}
  }
 ],
 "metadata": {
  "orig_nbformat": 4,
  "language_info": {
   "name": "python",
   "version": "3.7.7",
   "mimetype": "text/x-python",
   "codemirror_mode": {
    "name": "ipython",
    "version": 3
   },
   "pygments_lexer": "ipython3",
   "nbconvert_exporter": "python",
   "file_extension": ".py"
  },
  "kernelspec": {
   "name": "python3",
   "display_name": "Python 3.7.7 64-bit ('vsc': conda)"
  },
  "interpreter": {
   "hash": "5a1baeb1610b05443f415525bf52a486212d0ee94c2d320214bf0d7d56e225dd"
  }
 },
 "nbformat": 4,
 "nbformat_minor": 2
}