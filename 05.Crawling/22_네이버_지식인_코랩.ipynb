{
  "nbformat": 4,
  "nbformat_minor": 0,
  "metadata": {
    "colab": {
      "name": "08_네이버_지식인_크롤링_코랩.ipynb",
      "provenance": [],
      "collapsed_sections": []
    },
    "kernelspec": {
      "name": "python3",
      "display_name": "Python 3"
    },
    "language_info": {
      "name": "python"
    }
  },
  "cells": [
    {
      "cell_type": "markdown",
      "metadata": {
        "id": "14pKucIHxaSf"
      },
      "source": [
        "# 네이버 지식인 크롤링 - 여친선물"
      ]
    },
    {
      "cell_type": "code",
      "metadata": {
        "colab": {
          "base_uri": "https://localhost:8080/"
        },
        "id": "BvZhop15xIuc",
        "outputId": "b2e13e37-91d8-4803-a244-fba11baca6f4"
      },
      "source": [
        "!apt-get update > /dev/null\n",
        "!pip install selenium > /dev/null\n",
        "!apt install chromium-chromedriver > /dev/null"
      ],
      "execution_count": 1,
      "outputs": [
        {
          "output_type": "stream",
          "name": "stdout",
          "text": [
            "\n",
            "WARNING: apt does not have a stable CLI interface. Use with caution in scripts.\n",
            "\n"
          ]
        }
      ]
    },
    {
      "cell_type": "code",
      "metadata": {
        "id": "nFojwwM6xhHn"
      },
      "source": [
        "from selenium import webdriver\n",
        "from bs4 import BeautifulSoup\n",
        "import time\n",
        "from urllib.parse import quote"
      ],
      "execution_count": 2,
      "outputs": []
    },
    {
      "cell_type": "code",
      "metadata": {
        "id": "4RMSSmlYxykz"
      },
      "source": [
        "options = webdriver.ChromeOptions()\n",
        "options.add_argument('--headless')   # 화면없이 실행\n",
        "options.add_argument('--no-sandbox')\n",
        "options.add_argument(\"--single-process\")\n",
        "options.add_argument(\"--disable-dev-shm-usage\")\n",
        "driver = webdriver.Chrome('chromedriver', options=options)"
      ],
      "execution_count": 3,
      "outputs": []
    },
    {
      "cell_type": "code",
      "metadata": {
        "id": "KQD75x1ax2wc"
      },
      "source": [
        "base_url = 'https://kin.naver.com/search/list.naver?query='\n",
        "url = base_url + quote('여친선물')\n",
        "driver.get(url)"
      ],
      "execution_count": 5,
      "outputs": []
    },
    {
      "cell_type": "code",
      "metadata": {
        "colab": {
          "base_uri": "https://localhost:8080/"
        },
        "id": "jh9NpiDfx9ZG",
        "outputId": "0e5b6770-51de-4a3c-cb91-2dffc0b5af67"
      },
      "source": [
        "answer_list = []\n",
        "for page in range(1,11):\n",
        "    print('page', page)\n",
        "    url = f\"{base_url}{quote('여친선물')}&page={page}\"\n",
        "    driver.get(url)\n",
        "    time.sleep(2)\n",
        "\n",
        "    html = driver.page_source\n",
        "    soup = BeautifulSoup(html, 'html.parser')\n",
        "    lis = soup.select('ul.basic1 > li')\n",
        "\n",
        "    for li in lis:\n",
        "        sub_url = li.select_one('a._searchListTitleAnchor')['href']\n",
        "        driver.get(sub_url)\n",
        "        time.sleep(2)\n",
        "\n",
        "        count = int(driver.find_element_by_css_selector('._answerCount.num').text)\n",
        "        answer_page = (count - 1) // 5\n",
        "        #print(count, end=', ')\n",
        "        for i in range(answer_page):\n",
        "            driver.find_element_by_id('nextPageButton').click()\n",
        "            time.sleep(2)\n",
        "\n",
        "        html = driver.page_source\n",
        "        soup = BeautifulSoup(html, 'html.parser')\n",
        "        divs = soup.select('div.answer-content__item._contentWrap._answer')\n",
        "        #print(len(divs))\n",
        "        for div in divs:\n",
        "            ps = div.select('p.se-text-paragraph')\n",
        "            for p in ps:\n",
        "                text = p.get_text()\n",
        "                if text == ' ' or text == '\\u200b':\n",
        "                    continue\n",
        "                answer_list.append(text)\n",
        "\n",
        "        driver.back()\n",
        "        time.sleep(2)"
      ],
      "execution_count": 6,
      "outputs": [
        {
          "output_type": "stream",
          "name": "stdout",
          "text": [
            "page 1\n",
            "page 2\n",
            "page 3\n",
            "page 4\n",
            "page 5\n",
            "page 6\n",
            "page 7\n",
            "page 8\n",
            "page 9\n",
            "page 10\n"
          ]
        }
      ]
    },
    {
      "cell_type": "code",
      "metadata": {
        "colab": {
          "base_uri": "https://localhost:8080/"
        },
        "id": "H5Jqyvi4yRT8",
        "outputId": "aeb8314b-b776-42ff-f328-01d877d645e4"
      },
      "source": [
        "len(answer_list)"
      ],
      "execution_count": 7,
      "outputs": [
        {
          "output_type": "execute_result",
          "data": {
            "text/plain": [
              "4834"
            ]
          },
          "metadata": {},
          "execution_count": 7
        }
      ]
    },
    {
      "cell_type": "code",
      "metadata": {
        "id": "8IVKPZVq2i-E"
      },
      "source": [
        "with open('new_gift.txt', 'w', encoding='utf-8') as fp:\n",
        "    for answer in answer_list:\n",
        "        fp.write(answer+'\\n')"
      ],
      "execution_count": 8,
      "outputs": []
    },
    {
      "cell_type": "code",
      "metadata": {
        "id": "Yuq2DExf2znW"
      },
      "source": [
        "driver.close()"
      ],
      "execution_count": 9,
      "outputs": []
    },
    {
      "cell_type": "code",
      "metadata": {
        "id": "2fRHlrnp21JX"
      },
      "source": [
        ""
      ],
      "execution_count": null,
      "outputs": []
    }
  ]
}