{
 "cells": [
  {
   "cell_type": "markdown",
   "source": [
    "# 제주도 핫플레이스 - 인스타그램 크롤링"
   ],
   "metadata": {}
  },
  {
   "cell_type": "code",
   "execution_count": 1,
   "source": [
    "from selenium import webdriver\r\n",
    "from bs4 import BeautifulSoup\r\n",
    "import time\r\n",
    "import pandas as pd \r\n",
    "from urllib.parse import quote"
   ],
   "outputs": [],
   "metadata": {}
  },
  {
   "cell_type": "code",
   "execution_count": 2,
   "source": [
    "import unicodedata\r\n",
    "import re\r\n",
    "from tqdm.notebook import tqdm"
   ],
   "outputs": [],
   "metadata": {}
  },
  {
   "cell_type": "code",
   "execution_count": 3,
   "source": [
    "chromedriver = '../../chromedriver.exe'\r\n",
    "# chromedriver = 'C:\\\\Users\\\\TECH-8\\\\Downloads\\\\chromedriver.exe'\r\n",
    "driver = webdriver.Chrome(chromedriver)"
   ],
   "outputs": [],
   "metadata": {}
  },
  {
   "cell_type": "markdown",
   "source": [
    "### 1. Instagram 에 접속하여 로그인 "
   ],
   "metadata": {}
  },
  {
   "cell_type": "code",
   "execution_count": 4,
   "source": [
    "insta_url = 'https://www.instagram.com'\r\n",
    "driver.get(insta_url)\r\n",
    "time.sleep(1)"
   ],
   "outputs": [],
   "metadata": {}
  },
  {
   "cell_type": "code",
   "execution_count": 5,
   "source": [
    "with open('password.txt') as f:\r\n",
    "    password = f.read(8)"
   ],
   "outputs": [],
   "metadata": {}
  },
  {
   "cell_type": "code",
   "execution_count": 6,
   "source": [
    "email = 'ckiekim'\r\n",
    "input_email = driver.find_element_by_css_selector('._2hvTZ.pexuQ.zyHYP')\r\n",
    "input_email.clear()\r\n",
    "input_email.send_keys(email)"
   ],
   "outputs": [],
   "metadata": {}
  },
  {
   "cell_type": "code",
   "execution_count": 7,
   "source": [
    "input_pwd = driver.find_element_by_name('password')\r\n",
    "input_pwd.clear()\r\n",
    "input_pwd.send_keys(password)\r\n",
    "input_pwd.submit()\r\n",
    "time.sleep(1)"
   ],
   "outputs": [],
   "metadata": {}
  },
  {
   "cell_type": "code",
   "execution_count": 8,
   "source": [
    "# 로그인 정보 저장 - 나중에 하기\r\n",
    "try:\r\n",
    "    driver.find_element_by_css_selector('.sqdOP.yWX7d.y3zKF').click()\r\n",
    "    time.sleep(1)\r\n",
    "except:\r\n",
    "    pass"
   ],
   "outputs": [],
   "metadata": {}
  },
  {
   "cell_type": "code",
   "execution_count": 9,
   "source": [
    "# 알림 설정 - 나중에 하기\r\n",
    "try:\r\n",
    "    driver.find_element_by_css_selector('.aOOlW.HoLwm').click()\r\n",
    "    time.sleep(1)\r\n",
    "except:\r\n",
    "    pass"
   ],
   "outputs": [],
   "metadata": {}
  },
  {
   "cell_type": "markdown",
   "source": [
    "### 2. 제주도맛집 으로 검색"
   ],
   "metadata": {}
  },
  {
   "cell_type": "code",
   "execution_count": 10,
   "source": [
    "keyword = '제주도맛집'\r\n",
    "search_url = 'https://www.instagram.com/explore/tags/'\r\n",
    "url = f'{search_url}{quote(keyword)}'\r\n",
    "url"
   ],
   "outputs": [
    {
     "output_type": "execute_result",
     "data": {
      "text/plain": [
       "'https://www.instagram.com/explore/tags/%EC%A0%9C%EC%A3%BC%EB%8F%84%EB%A7%9B%EC%A7%91'"
      ]
     },
     "metadata": {},
     "execution_count": 10
    }
   ],
   "metadata": {}
  },
  {
   "cell_type": "code",
   "execution_count": 11,
   "source": [
    "driver.get(url)\r\n",
    "time.sleep(5)"
   ],
   "outputs": [],
   "metadata": {}
  },
  {
   "cell_type": "markdown",
   "source": [
    "### 3. 첫번째 게시글 열기"
   ],
   "metadata": {}
  },
  {
   "cell_type": "code",
   "execution_count": 11,
   "source": [
    "driver.find_element_by_css_selector('div._9AhH0').click()\r\n",
    "time.sleep(1)"
   ],
   "outputs": [],
   "metadata": {}
  },
  {
   "cell_type": "markdown",
   "source": [
    "### 4. 게시글 정보 가져오기"
   ],
   "metadata": {}
  },
  {
   "cell_type": "code",
   "execution_count": 12,
   "source": [
    "html = driver.page_source\r\n",
    "soup = BeautifulSoup(html, 'html.parser')"
   ],
   "outputs": [],
   "metadata": {}
  },
  {
   "cell_type": "code",
   "execution_count": 13,
   "source": [
    "# 1) 본문 내용 가져오기\r\n",
    "\r\n",
    "try:\r\n",
    "    content = soup.select_one('div.C4VMK > span').text\r\n",
    "    content = unicodedata.normalize('NFC', content)\r\n",
    "except:\r\n",
    "    content = ' '\r\n",
    "content"
   ],
   "outputs": [
    {
     "output_type": "execute_result",
     "data": {
      "text/plain": [
       "'협찬제주애월맛집 \"랍스터빈\"주소 : 제주시 애월읍 애월해안로 752전화 : 064-743-1979영업 : 오전11시~밤10시 연중무휴포장ㆍ배달 환영💘 랍스터빈#애월맛집 #애월카페 #애월읍맛집 #제주애월맛집 #제주도맛집 #제주맛집 #제주도카페 #제주카페 #외도맛집 #하귀맛집 #한림맛집 #한림카페#애월해안도로맛집 #애월가볼만한곳 #제주공항맛집 #제주공항근처맛집 #제주도 #제주여행'"
      ]
     },
     "metadata": {},
     "execution_count": 13
    }
   ],
   "metadata": {}
  },
  {
   "cell_type": "code",
   "execution_count": 14,
   "source": [
    "# 2) 본문 내용에서 해쉬태그 가져오기, '#[^\\s#,\\\\]+'\r\n",
    "tags = re.findall(r'#[^\\s#,\\\\]+', content)\r\n",
    "tags"
   ],
   "outputs": [
    {
     "output_type": "execute_result",
     "data": {
      "text/plain": [
       "['#애월맛집',\n",
       " '#애월카페',\n",
       " '#애월읍맛집',\n",
       " '#제주애월맛집',\n",
       " '#제주도맛집',\n",
       " '#제주맛집',\n",
       " '#제주도카페',\n",
       " '#제주카페',\n",
       " '#외도맛집',\n",
       " '#하귀맛집',\n",
       " '#한림맛집',\n",
       " '#한림카페',\n",
       " '#애월해안도로맛집',\n",
       " '#애월가볼만한곳',\n",
       " '#제주공항맛집',\n",
       " '#제주공항근처맛집',\n",
       " '#제주도',\n",
       " '#제주여행']"
      ]
     },
     "metadata": {},
     "execution_count": 14
    }
   ],
   "metadata": {}
  },
  {
   "cell_type": "code",
   "execution_count": 15,
   "source": [
    "# 3) 작성일자 정보 가져오기\r\n",
    "date = soup.select_one('time.FH9sR.Nzb55')['datetime'][:10]\r\n",
    "date"
   ],
   "outputs": [
    {
     "output_type": "execute_result",
     "data": {
      "text/plain": [
       "'2021-08-18'"
      ]
     },
     "metadata": {},
     "execution_count": 15
    }
   ],
   "metadata": {}
  },
  {
   "cell_type": "code",
   "execution_count": 16,
   "source": [
    "# 4) 좋아요 수 가져오기: 좋아요 1,296개\r\n",
    "try:\r\n",
    "    like = soup.select_one('div.Nm9Fw').text[4:-1]\r\n",
    "except:\r\n",
    "    like = 0\r\n",
    "like"
   ],
   "outputs": [
    {
     "output_type": "execute_result",
     "data": {
      "text/plain": [
       "0"
      ]
     },
     "metadata": {},
     "execution_count": 16
    }
   ],
   "metadata": {}
  },
  {
   "cell_type": "code",
   "execution_count": 17,
   "source": [
    "# 5) 위치정보 가져오기\r\n",
    "try:\r\n",
    "    place = soup.select('div.M30cS')[0].text\r\n",
    "    place = unicodedata.normalize('NFC', place)\r\n",
    "except:\r\n",
    "    place = ''\r\n",
    "place"
   ],
   "outputs": [
    {
     "output_type": "execute_result",
     "data": {
      "text/plain": [
       "''"
      ]
     },
     "metadata": {},
     "execution_count": 17
    }
   ],
   "metadata": {}
  },
  {
   "cell_type": "code",
   "execution_count": 18,
   "source": [
    "row = [content, date, like, place, tags]\r\n",
    "row"
   ],
   "outputs": [
    {
     "output_type": "execute_result",
     "data": {
      "text/plain": [
       "['협찬제주애월맛집 \"랍스터빈\"주소 : 제주시 애월읍 애월해안로 752전화 : 064-743-1979영업 : 오전11시~밤10시 연중무휴포장ㆍ배달 환영💘 랍스터빈#애월맛집 #애월카페 #애월읍맛집 #제주애월맛집 #제주도맛집 #제주맛집 #제주도카페 #제주카페 #외도맛집 #하귀맛집 #한림맛집 #한림카페#애월해안도로맛집 #애월가볼만한곳 #제주공항맛집 #제주공항근처맛집 #제주도 #제주여행',\n",
       " '2021-08-18',\n",
       " 0,\n",
       " '',\n",
       " ['#애월맛집',\n",
       "  '#애월카페',\n",
       "  '#애월읍맛집',\n",
       "  '#제주애월맛집',\n",
       "  '#제주도맛집',\n",
       "  '#제주맛집',\n",
       "  '#제주도카페',\n",
       "  '#제주카페',\n",
       "  '#외도맛집',\n",
       "  '#하귀맛집',\n",
       "  '#한림맛집',\n",
       "  '#한림카페',\n",
       "  '#애월해안도로맛집',\n",
       "  '#애월가볼만한곳',\n",
       "  '#제주공항맛집',\n",
       "  '#제주공항근처맛집',\n",
       "  '#제주도',\n",
       "  '#제주여행']]"
      ]
     },
     "metadata": {},
     "execution_count": 18
    }
   ],
   "metadata": {}
  },
  {
   "cell_type": "markdown",
   "source": [
    "### 5. 다음 게시글로 이동"
   ],
   "metadata": {}
  },
  {
   "cell_type": "code",
   "execution_count": 39,
   "source": [
    "driver.find_element_by_css_selector('a._65Bje.coreSpriteRightPaginationArrow').click()\r\n",
    "time.sleep(2)"
   ],
   "outputs": [],
   "metadata": {}
  },
  {
   "cell_type": "code",
   "execution_count": 18,
   "source": [
    "# 6을 하기 위해 popup 화면을 없앰(즉, X 를 클릭)\r\n",
    "driver.find_element_by_xpath('/html/body/div[6]/div[3]/button').click()"
   ],
   "outputs": [],
   "metadata": {}
  },
  {
   "cell_type": "markdown",
   "source": [
    "### 6. 여러개의 게시글 가져오기"
   ],
   "metadata": {}
  },
  {
   "cell_type": "code",
   "execution_count": 10,
   "source": [
    "def get_content(driver):\r\n",
    "    html = driver.page_source\r\n",
    "    soup = BeautifulSoup(html, 'html.parser')\r\n",
    "    \r\n",
    "    try:\r\n",
    "        content = soup.select_one('div.C4VMK > span').text\r\n",
    "        content = unicodedata.normalize('NFC', content)\r\n",
    "    except:\r\n",
    "        content = ' '\r\n",
    "    tags = re.findall(r'#[^\\s#,\\\\]+', content)\r\n",
    "    date = soup.select_one('time.FH9sR.Nzb55')['datetime'][:10]\r\n",
    "\r\n",
    "    try:\r\n",
    "        like = soup.select_one('div.Nm9Fw').text[4:-1]\r\n",
    "    except:\r\n",
    "        like = 0\r\n",
    "    try:\r\n",
    "        place = soup.select('div.M30cS')[0].text\r\n",
    "        place = unicodedata.normalize('NFC', place)\r\n",
    "    except:\r\n",
    "        place = ''\r\n",
    "\r\n",
    "    return [content, date, like, place, tags]"
   ],
   "outputs": [],
   "metadata": {}
  },
  {
   "cell_type": "markdown",
   "source": [
    "### - 제주도맛집, 제주맛집, 제주도관광, 제주여행"
   ],
   "metadata": {}
  },
  {
   "cell_type": "code",
   "execution_count": 23,
   "source": [
    "driver.find_element_by_xpath('/html/body/div[6]/div[3]/button').click()"
   ],
   "outputs": [],
   "metadata": {}
  },
  {
   "cell_type": "code",
   "execution_count": 13,
   "source": [
    "keyword = '제주도관광'\r\n",
    "search_url = 'https://www.instagram.com/explore/tags/'\r\n",
    "url = f'{search_url}{quote(keyword)}'\r\n",
    "driver.get(url)\r\n",
    "time.sleep(1)"
   ],
   "outputs": [],
   "metadata": {}
  },
  {
   "cell_type": "code",
   "execution_count": 14,
   "source": [
    "driver.find_element_by_css_selector('div._9AhH0').click()\r\n",
    "time.sleep(1)"
   ],
   "outputs": [],
   "metadata": {}
  },
  {
   "cell_type": "code",
   "execution_count": 15,
   "source": [
    "# 200개 정도가 한계인 것 같음\r\n",
    "results = []\r\n",
    "for _ in tqdm(range(200)):\r\n",
    "    try:\r\n",
    "        row = get_content(driver)\r\n",
    "        results.append(row)\r\n",
    "        driver.find_element_by_css_selector('a._65Bje.coreSpriteRightPaginationArrow').click()\r\n",
    "        time.sleep(3)\r\n",
    "    except:\r\n",
    "        time.sleep(3)\r\n",
    "        driver.find_element_by_css_selector('a._65Bje.coreSpriteRightPaginationArrow').click()\r\n",
    "        time.sleep(3)"
   ],
   "outputs": [
    {
     "output_type": "display_data",
     "data": {
      "text/plain": [
       "HBox(children=(FloatProgress(value=0.0, max=200.0), HTML(value='')))"
      ],
      "application/vnd.jupyter.widget-view+json": {
       "version_major": 2,
       "version_minor": 0,
       "model_id": "92152d29640945b7aa0aaa6044390566"
      }
     },
     "metadata": {}
    },
    {
     "output_type": "error",
     "ename": "KeyboardInterrupt",
     "evalue": "",
     "traceback": [
      "\u001b[1;31m---------------------------------------------------------------------------\u001b[0m",
      "\u001b[1;31mTypeError\u001b[0m                                 Traceback (most recent call last)",
      "\u001b[1;32m<ipython-input-15-b91bf6c77f03>\u001b[0m in \u001b[0;36m<module>\u001b[1;34m\u001b[0m\n\u001b[0;32m      4\u001b[0m     \u001b[1;32mtry\u001b[0m\u001b[1;33m:\u001b[0m\u001b[1;33m\u001b[0m\u001b[1;33m\u001b[0m\u001b[0m\n\u001b[1;32m----> 5\u001b[1;33m         \u001b[0mrow\u001b[0m \u001b[1;33m=\u001b[0m \u001b[0mget_content\u001b[0m\u001b[1;33m(\u001b[0m\u001b[0mdriver\u001b[0m\u001b[1;33m)\u001b[0m\u001b[1;33m\u001b[0m\u001b[1;33m\u001b[0m\u001b[0m\n\u001b[0m\u001b[0;32m      6\u001b[0m         \u001b[0mresults\u001b[0m\u001b[1;33m.\u001b[0m\u001b[0mappend\u001b[0m\u001b[1;33m(\u001b[0m\u001b[0mrow\u001b[0m\u001b[1;33m)\u001b[0m\u001b[1;33m\u001b[0m\u001b[1;33m\u001b[0m\u001b[0m\n",
      "\u001b[1;32m<ipython-input-13-f6e5c4a59be9>\u001b[0m in \u001b[0;36mget_content\u001b[1;34m(driver)\u001b[0m\n\u001b[0;32m     10\u001b[0m     \u001b[0mtags\u001b[0m \u001b[1;33m=\u001b[0m \u001b[0mre\u001b[0m\u001b[1;33m.\u001b[0m\u001b[0mfindall\u001b[0m\u001b[1;33m(\u001b[0m\u001b[1;34mr'#[^\\s#,\\\\]+'\u001b[0m\u001b[1;33m,\u001b[0m \u001b[0mcontent\u001b[0m\u001b[1;33m)\u001b[0m\u001b[1;33m\u001b[0m\u001b[1;33m\u001b[0m\u001b[0m\n\u001b[1;32m---> 11\u001b[1;33m     \u001b[0mdate\u001b[0m \u001b[1;33m=\u001b[0m \u001b[0msoup\u001b[0m\u001b[1;33m.\u001b[0m\u001b[0mselect_one\u001b[0m\u001b[1;33m(\u001b[0m\u001b[1;34m'time.FH9sR.Nzb55'\u001b[0m\u001b[1;33m)\u001b[0m\u001b[1;33m[\u001b[0m\u001b[1;34m'datetime'\u001b[0m\u001b[1;33m]\u001b[0m\u001b[1;33m[\u001b[0m\u001b[1;33m:\u001b[0m\u001b[1;36m10\u001b[0m\u001b[1;33m]\u001b[0m\u001b[1;33m\u001b[0m\u001b[1;33m\u001b[0m\u001b[0m\n\u001b[0m\u001b[0;32m     12\u001b[0m \u001b[1;33m\u001b[0m\u001b[0m\n",
      "\u001b[1;31mTypeError\u001b[0m: 'NoneType' object is not subscriptable",
      "\nDuring handling of the above exception, another exception occurred:\n",
      "\u001b[1;31mKeyboardInterrupt\u001b[0m                         Traceback (most recent call last)",
      "\u001b[1;32m<ipython-input-15-b91bf6c77f03>\u001b[0m in \u001b[0;36m<module>\u001b[1;34m\u001b[0m\n\u001b[0;32m     10\u001b[0m         \u001b[0mtime\u001b[0m\u001b[1;33m.\u001b[0m\u001b[0msleep\u001b[0m\u001b[1;33m(\u001b[0m\u001b[1;36m3\u001b[0m\u001b[1;33m)\u001b[0m\u001b[1;33m\u001b[0m\u001b[1;33m\u001b[0m\u001b[0m\n\u001b[0;32m     11\u001b[0m         \u001b[0mdriver\u001b[0m\u001b[1;33m.\u001b[0m\u001b[0mfind_element_by_css_selector\u001b[0m\u001b[1;33m(\u001b[0m\u001b[1;34m'a._65Bje.coreSpriteRightPaginationArrow'\u001b[0m\u001b[1;33m)\u001b[0m\u001b[1;33m.\u001b[0m\u001b[0mclick\u001b[0m\u001b[1;33m(\u001b[0m\u001b[1;33m)\u001b[0m\u001b[1;33m\u001b[0m\u001b[1;33m\u001b[0m\u001b[0m\n\u001b[1;32m---> 12\u001b[1;33m         \u001b[0mtime\u001b[0m\u001b[1;33m.\u001b[0m\u001b[0msleep\u001b[0m\u001b[1;33m(\u001b[0m\u001b[1;36m3\u001b[0m\u001b[1;33m)\u001b[0m\u001b[1;33m\u001b[0m\u001b[1;33m\u001b[0m\u001b[0m\n\u001b[0m",
      "\u001b[1;31mKeyboardInterrupt\u001b[0m: "
     ]
    }
   ],
   "metadata": {}
  },
  {
   "cell_type": "code",
   "execution_count": 24,
   "source": [
    "df = pd.DataFrame(results, columns=['content', 'date', 'like', 'place', 'tags'])\r\n",
    "df.head()"
   ],
   "outputs": [
    {
     "output_type": "execute_result",
     "data": {
      "text/plain": [
       "                                             content  \\\n",
       "0  #난산리다방 #가오픈마지막주. '이번주가 마지막 입니다.'. 제가 운영하는 곳에 구...   \n",
       "1  _오늘의 블루보틀✨오픈시간 아주 조금 지나서 도착하니바로 입장하고 여유로움 :)블루...   \n",
       "2  #청춘나길 📢 스냅 촬영 안내 및 가격 공지🎁상품안내: 1시간 2시간 4시간 (그 ...   \n",
       "3  ▪️배 안나온다고 체중이 늘지 않는다고쓸데없이 걱정했던 지난날을 반성하며 ㅋㅋ출산이...   \n",
       "4  42년 전통 도민 맛집. 태양을 품은 듯 화끈한 비주얼이다. 포슬포슬한 두부가 푸짐...   \n",
       "\n",
       "                                                date        like  \\\n",
       "0                       [#난산리다방, #가오픈마지막주., #르꼬르동블루]  2021-08-19   \n",
       "1                                                 []  2021-08-18   \n",
       "2                                            [#청춘나길]  2021-08-17   \n",
       "3         [#제주여행, #태교여행, #법환바다안정기시절.., #임신10개월, #만삭]  2021-08-19   \n",
       "4  [#신해바라기분식, #제주도맛집뜨끈한, #순두부찌개, #국밥맛집, #제주맛집, #제...  2021-08-18   \n",
       "\n",
       "                  place               tags  \n",
       "0                   471              난산리다방  \n",
       "1                 2,148            블루보틀 제주  \n",
       "2                   670  환상의 섬 Jeju Island  \n",
       "3  ela___님 외 521명이 좋아합니               법환바다  \n",
       "4                 1,079                제주도  "
      ],
      "text/html": [
       "<div>\n",
       "<style scoped>\n",
       "    .dataframe tbody tr th:only-of-type {\n",
       "        vertical-align: middle;\n",
       "    }\n",
       "\n",
       "    .dataframe tbody tr th {\n",
       "        vertical-align: top;\n",
       "    }\n",
       "\n",
       "    .dataframe thead th {\n",
       "        text-align: right;\n",
       "    }\n",
       "</style>\n",
       "<table border=\"1\" class=\"dataframe\">\n",
       "  <thead>\n",
       "    <tr style=\"text-align: right;\">\n",
       "      <th></th>\n",
       "      <th>content</th>\n",
       "      <th>date</th>\n",
       "      <th>like</th>\n",
       "      <th>place</th>\n",
       "      <th>tags</th>\n",
       "    </tr>\n",
       "  </thead>\n",
       "  <tbody>\n",
       "    <tr>\n",
       "      <th>0</th>\n",
       "      <td>#난산리다방 #가오픈마지막주. '이번주가 마지막 입니다.'. 제가 운영하는 곳에 구...</td>\n",
       "      <td>[#난산리다방, #가오픈마지막주., #르꼬르동블루]</td>\n",
       "      <td>2021-08-19</td>\n",
       "      <td>471</td>\n",
       "      <td>난산리다방</td>\n",
       "    </tr>\n",
       "    <tr>\n",
       "      <th>1</th>\n",
       "      <td>_오늘의 블루보틀✨오픈시간 아주 조금 지나서 도착하니바로 입장하고 여유로움 :)블루...</td>\n",
       "      <td>[]</td>\n",
       "      <td>2021-08-18</td>\n",
       "      <td>2,148</td>\n",
       "      <td>블루보틀 제주</td>\n",
       "    </tr>\n",
       "    <tr>\n",
       "      <th>2</th>\n",
       "      <td>#청춘나길 📢 스냅 촬영 안내 및 가격 공지🎁상품안내: 1시간 2시간 4시간 (그 ...</td>\n",
       "      <td>[#청춘나길]</td>\n",
       "      <td>2021-08-17</td>\n",
       "      <td>670</td>\n",
       "      <td>환상의 섬 Jeju Island</td>\n",
       "    </tr>\n",
       "    <tr>\n",
       "      <th>3</th>\n",
       "      <td>▪️배 안나온다고 체중이 늘지 않는다고쓸데없이 걱정했던 지난날을 반성하며 ㅋㅋ출산이...</td>\n",
       "      <td>[#제주여행, #태교여행, #법환바다안정기시절.., #임신10개월, #만삭]</td>\n",
       "      <td>2021-08-19</td>\n",
       "      <td>ela___님 외 521명이 좋아합니</td>\n",
       "      <td>법환바다</td>\n",
       "    </tr>\n",
       "    <tr>\n",
       "      <th>4</th>\n",
       "      <td>42년 전통 도민 맛집. 태양을 품은 듯 화끈한 비주얼이다. 포슬포슬한 두부가 푸짐...</td>\n",
       "      <td>[#신해바라기분식, #제주도맛집뜨끈한, #순두부찌개, #국밥맛집, #제주맛집, #제...</td>\n",
       "      <td>2021-08-18</td>\n",
       "      <td>1,079</td>\n",
       "      <td>제주도</td>\n",
       "    </tr>\n",
       "  </tbody>\n",
       "</table>\n",
       "</div>"
      ]
     },
     "metadata": {},
     "execution_count": 24
    }
   ],
   "metadata": {}
  },
  {
   "cell_type": "code",
   "execution_count": 25,
   "source": [
    "df.tail()"
   ],
   "outputs": [
    {
     "output_type": "execute_result",
     "data": {
      "text/plain": [
       "                                               content  \\\n",
       "109  ო̤̜어깨 깡패 😏8, 9월 예약 받고 있습니다 🤗문의는 프로필의 오픈 카톡으로 부...   \n",
       "110  .막 찍어도 화보 같은 월정리 카페 콧수염고객님의 멋진 사진 감사합니다 🤳제주시 구...   \n",
       "111                                        사장님 알로뷰 …❤️   \n",
       "112                                   #제주여행 #1일차#사진못찍음   \n",
       "113  부랴부랴 택배 싸놓고,오후는 율이와 피크닉 🧺 수업준비와 주문제작건은 야근 당첨😭제...   \n",
       "\n",
       "                                                  date        like place  \\\n",
       "109                                                 []  2021-08-19    19   \n",
       "110  [#구좌읍카페, #함덕맛집, #제주, #제주도맛집, #월정리, #월정리카페콧수염, ...  2021-08-19     3   \n",
       "111                                                 []  2021-08-19    43   \n",
       "112                              [#제주여행, #1일차, #사진못찍음]  2021-08-19     4   \n",
       "113  [#연이네다락방, #엄만야근해야해, #제주피크닉, #풍경이다했다, #어린이집휴원, ...  2021-08-19     9   \n",
       "\n",
       "                       tags  \n",
       "109                 제주시청 근처  \n",
       "110                          \n",
       "111  One and only - 원앤온리 제주  \n",
       "112                          \n",
       "113                     선흘리  "
      ],
      "text/html": [
       "<div>\n",
       "<style scoped>\n",
       "    .dataframe tbody tr th:only-of-type {\n",
       "        vertical-align: middle;\n",
       "    }\n",
       "\n",
       "    .dataframe tbody tr th {\n",
       "        vertical-align: top;\n",
       "    }\n",
       "\n",
       "    .dataframe thead th {\n",
       "        text-align: right;\n",
       "    }\n",
       "</style>\n",
       "<table border=\"1\" class=\"dataframe\">\n",
       "  <thead>\n",
       "    <tr style=\"text-align: right;\">\n",
       "      <th></th>\n",
       "      <th>content</th>\n",
       "      <th>date</th>\n",
       "      <th>like</th>\n",
       "      <th>place</th>\n",
       "      <th>tags</th>\n",
       "    </tr>\n",
       "  </thead>\n",
       "  <tbody>\n",
       "    <tr>\n",
       "      <th>109</th>\n",
       "      <td>ო̤̜어깨 깡패 😏8, 9월 예약 받고 있습니다 🤗문의는 프로필의 오픈 카톡으로 부...</td>\n",
       "      <td>[]</td>\n",
       "      <td>2021-08-19</td>\n",
       "      <td>19</td>\n",
       "      <td>제주시청 근처</td>\n",
       "    </tr>\n",
       "    <tr>\n",
       "      <th>110</th>\n",
       "      <td>.막 찍어도 화보 같은 월정리 카페 콧수염고객님의 멋진 사진 감사합니다 🤳제주시 구...</td>\n",
       "      <td>[#구좌읍카페, #함덕맛집, #제주, #제주도맛집, #월정리, #월정리카페콧수염, ...</td>\n",
       "      <td>2021-08-19</td>\n",
       "      <td>3</td>\n",
       "      <td></td>\n",
       "    </tr>\n",
       "    <tr>\n",
       "      <th>111</th>\n",
       "      <td>사장님 알로뷰 …❤️</td>\n",
       "      <td>[]</td>\n",
       "      <td>2021-08-19</td>\n",
       "      <td>43</td>\n",
       "      <td>One and only - 원앤온리 제주</td>\n",
       "    </tr>\n",
       "    <tr>\n",
       "      <th>112</th>\n",
       "      <td>#제주여행 #1일차#사진못찍음</td>\n",
       "      <td>[#제주여행, #1일차, #사진못찍음]</td>\n",
       "      <td>2021-08-19</td>\n",
       "      <td>4</td>\n",
       "      <td></td>\n",
       "    </tr>\n",
       "    <tr>\n",
       "      <th>113</th>\n",
       "      <td>부랴부랴 택배 싸놓고,오후는 율이와 피크닉 🧺 수업준비와 주문제작건은 야근 당첨😭제...</td>\n",
       "      <td>[#연이네다락방, #엄만야근해야해, #제주피크닉, #풍경이다했다, #어린이집휴원, ...</td>\n",
       "      <td>2021-08-19</td>\n",
       "      <td>9</td>\n",
       "      <td>선흘리</td>\n",
       "    </tr>\n",
       "  </tbody>\n",
       "</table>\n",
       "</div>"
      ]
     },
     "metadata": {},
     "execution_count": 25
    }
   ],
   "metadata": {}
  },
  {
   "cell_type": "code",
   "execution_count": 26,
   "source": [
    "df.to_csv('data/제주여행.csv', index=False)"
   ],
   "outputs": [],
   "metadata": {}
  },
  {
   "cell_type": "code",
   "execution_count": 16,
   "source": [
    "driver.find_element_by_xpath('/html/body/div[6]/div[3]/button').click()"
   ],
   "outputs": [],
   "metadata": {}
  },
  {
   "cell_type": "code",
   "execution_count": 25,
   "source": [
    "driver.close()"
   ],
   "outputs": [],
   "metadata": {}
  },
  {
   "cell_type": "markdown",
   "source": [
    "### 4가지 CSV 파일의 중복을 제거한 후 통합 저장"
   ],
   "metadata": {}
  },
  {
   "cell_type": "code",
   "execution_count": 32,
   "source": [
    "for keyword in ['제주도맛집','제주맛집','제주도관광','제주여행']:\r\n",
    "    df = pd.read_csv(f'data/{keyword}.csv')\r\n",
    "    print(df.head())"
   ],
   "outputs": [
    {
     "output_type": "stream",
     "name": "stdout",
     "text": [
      "                                             content  \\\n",
      "0  .#연동 #모니카옛날통닭간판부터 맛집포스 작렬하는 찐맛집이젠 인생치킨이라고 말하기도...   \n",
      "1  <광고>섭지코지에서 한끼 맛있게 드시고 싶다면...특히 점심메뉴로 강력추천드리고요 ...   \n",
      "2  .< 제주해물라면 맛집모음! > 일단저장@ 해물 아낌없이 주는 해물라면 맛집!바다뷰...   \n",
      "3  협찬제주애월맛집 \"랍스터빈\"주소 : 제주시 애월읍 애월해안로 752전화 : 064-...   \n",
      "4  .한림 #문도지오름방목된 조랑말과 교감까지 할 수이따규~일몰 시간에 맞춰서 가면 멋...   \n",
      "\n",
      "                                                date        like  place tags  \n",
      "0  ['#연동', '#모니카옛날통닭간판부터', '#제주맛집', '#제주도맛집', '#제...  2021-08-19  1,113  NaN  \n",
      "1  ['#섭지코지한끼🍱오픈', '#섭지코지맛집', '#섭지코지', '#섭지코지카페', ...  2021-08-18      0  NaN  \n",
      "2  ['#제주맛집', '#제주도맛집', '#제주공항근처맛집', '#제주시맛집', '#애...  2021-08-18  1,008  NaN  \n",
      "3  ['#애월맛집', '#애월카페', '#애월읍맛집', '#제주애월맛집', '#제주도맛...  2021-08-18      0  NaN  \n",
      "4  ['#문도지오름방목된', '#제주맛집', '#제주도맛집', '#제주공항근처맛집', ...  2021-08-17  1,304  NaN  \n",
      "                                             content  \\\n",
      "0  .💙 구좌 \"제주모랑\" 💙사장님들이 손수 만든 수제소품들이 가득~좋은향이 가득한 구...   \n",
      "1  협찬제주 대표 썬셋 맛집 \"랍스터빈\"주소 : 제주시 애월읍 애월해안로 752전화 :...   \n",
      "2  42년 전통 도민 맛집. 태양을 품은 듯 화끈한 비주얼이다. 포슬포슬한 두부가 푸짐...   \n",
      "3  <광고>분위기 좋고!! 매장 내부가 넓어서 쾌적하고좋아요.시간대 잘 맞추시면 애월바...   \n",
      "4  광고)제주공항에서 진~짜가깝고 개별룸이 많아서 더 좋고맛있는 도민맛집으로유명한 '연...   \n",
      "\n",
      "                                                date        like  place tags  \n",
      "0  ['#제주모랑', '#제주소품샵', '#세화소품샵', '#제주기념품', '#제주기념...  2021-08-18  1,029  NaN  \n",
      "1  ['#애월맛집', '#애월카페', '#애월읍맛집', '#제주애월맛집', '#제주도맛...  2021-08-18      0  NaN  \n",
      "2  ['#신해바라기분식', '#제주도맛집뜨끈한', '#순두부찌개', '#국밥맛집', '...  2021-08-18  1,057  제주도  \n",
      "3  ['#코시롱', '#애월맛집', '#애월읍맛집', '#애월맛집추천', '#애월흑돼지...  2021-08-18      0  NaN  \n",
      "4  ['#제주맛집', '#제주도맛집', '#제주공항근처맛집', '#제주골프', '#제주...  2021-08-18      0  NaN  \n",
      "                                             content  \\\n",
      "0  #제주#제주특별시#제주도#제주도관광#성산읍#백패킹#섬패킹#등산#산스타그램🌳#제주백패...   \n",
      "1  #the3space #가족스냅.우리가족의 찐 행복💕.HM/Dress @jina_n_...   \n",
      "2                       행복은 멀지 않은 곳에 있다며남양주-제주 700km   \n",
      "3  💛💛💛10월의 제주도는 억새의 계절 ! 🌾사람도 없구 너무 한적하구 좋았던곳이였어요...   \n",
      "4  #협찬⠀바다 위에서 느끼는 제주의 자연지난번 쇠소깍에 왔을 때는 현장 발권해서 엄청...   \n",
      "\n",
      "                                                date        like  place  \\\n",
      "0  ['#제주', '#제주특별시', '#제주도', '#제주도관광', '#성산읍', '#...  2020-07-24    565   \n",
      "1  ['#the3space', '#가족스냅.우리가족의', '#제주스냅', '#제주도스냅...  2021-03-03    255   \n",
      "2                                                 []  2021-05-19    293   \n",
      "3                                     ['#빛나투어_제주✈️']  2020-10-10    619   \n",
      "4  ['#협찬⠀바다', '#서귀포in정', '#서귀포인정', '#서귀포몰', '#제주도...  2021-06-11  1,146   \n",
      "\n",
      "              tags  \n",
      "0              NaN  \n",
      "1              제주도  \n",
      "2             사계바다  \n",
      "3  제주도 Jeju Island  \n",
      "4              NaN  \n",
      "                                             content  \\\n",
      "0  #난산리다방 #가오픈마지막주. '이번주가 마지막 입니다.'. 제가 운영하는 곳에 구...   \n",
      "1  _오늘의 블루보틀✨오픈시간 아주 조금 지나서 도착하니바로 입장하고 여유로움 :)블루...   \n",
      "2  #청춘나길 📢 스냅 촬영 안내 및 가격 공지🎁상품안내: 1시간 2시간 4시간 (그 ...   \n",
      "3  ▪️배 안나온다고 체중이 늘지 않는다고쓸데없이 걱정했던 지난날을 반성하며 ㅋㅋ출산이...   \n",
      "4  42년 전통 도민 맛집. 태양을 품은 듯 화끈한 비주얼이다. 포슬포슬한 두부가 푸짐...   \n",
      "\n",
      "                                                date        like  \\\n",
      "0                 ['#난산리다방', '#가오픈마지막주.', '#르꼬르동블루']  2021-08-19   \n",
      "1                                                 []  2021-08-18   \n",
      "2                                          ['#청춘나길']  2021-08-17   \n",
      "3  ['#제주여행', '#태교여행', '#법환바다안정기시절..', '#임신10개월', ...  2021-08-19   \n",
      "4  ['#신해바라기분식', '#제주도맛집뜨끈한', '#순두부찌개', '#국밥맛집', '...  2021-08-18   \n",
      "\n",
      "                  place               tags  \n",
      "0                   471              난산리다방  \n",
      "1                 2,148            블루보틀 제주  \n",
      "2                   670  환상의 섬 Jeju Island  \n",
      "3  ela___님 외 521명이 좋아합니               법환바다  \n",
      "4                 1,079                제주도  \n"
     ]
    }
   ],
   "metadata": {}
  },
  {
   "cell_type": "code",
   "execution_count": 30,
   "source": [
    "jeju_df.tail()"
   ],
   "outputs": [
    {
     "output_type": "execute_result",
     "data": {
      "text/plain": [
       "                                               content  \\\n",
       "109  ო̤̜어깨 깡패 😏8, 9월 예약 받고 있습니다 🤗문의는 프로필의 오픈 카톡으로 부...   \n",
       "110  .막 찍어도 화보 같은 월정리 카페 콧수염고객님의 멋진 사진 감사합니다 🤳제주시 구...   \n",
       "111                                        사장님 알로뷰 …❤️   \n",
       "112                                   #제주여행 #1일차#사진못찍음   \n",
       "113  부랴부랴 택배 싸놓고,오후는 율이와 피크닉 🧺 수업준비와 주문제작건은 야근 당첨😭제...   \n",
       "\n",
       "                                                  date        like place  \\\n",
       "109                                                 []  2021-08-19    19   \n",
       "110  ['#구좌읍카페', '#함덕맛집', '#제주', '#제주도맛집', '#월정리', '...  2021-08-19     3   \n",
       "111                                                 []  2021-08-19    43   \n",
       "112                        ['#제주여행', '#1일차', '#사진못찍음']  2021-08-19     4   \n",
       "113  ['#연이네다락방', '#엄만야근해야해', '#제주피크닉', '#풍경이다했다', '...  2021-08-19     9   \n",
       "\n",
       "                       tags  \n",
       "109                 제주시청 근처  \n",
       "110                     NaN  \n",
       "111  One and only - 원앤온리 제주  \n",
       "112                     NaN  \n",
       "113                     선흘리  "
      ],
      "text/html": [
       "<div>\n",
       "<style scoped>\n",
       "    .dataframe tbody tr th:only-of-type {\n",
       "        vertical-align: middle;\n",
       "    }\n",
       "\n",
       "    .dataframe tbody tr th {\n",
       "        vertical-align: top;\n",
       "    }\n",
       "\n",
       "    .dataframe thead th {\n",
       "        text-align: right;\n",
       "    }\n",
       "</style>\n",
       "<table border=\"1\" class=\"dataframe\">\n",
       "  <thead>\n",
       "    <tr style=\"text-align: right;\">\n",
       "      <th></th>\n",
       "      <th>content</th>\n",
       "      <th>date</th>\n",
       "      <th>like</th>\n",
       "      <th>place</th>\n",
       "      <th>tags</th>\n",
       "    </tr>\n",
       "  </thead>\n",
       "  <tbody>\n",
       "    <tr>\n",
       "      <th>109</th>\n",
       "      <td>ო̤̜어깨 깡패 😏8, 9월 예약 받고 있습니다 🤗문의는 프로필의 오픈 카톡으로 부...</td>\n",
       "      <td>[]</td>\n",
       "      <td>2021-08-19</td>\n",
       "      <td>19</td>\n",
       "      <td>제주시청 근처</td>\n",
       "    </tr>\n",
       "    <tr>\n",
       "      <th>110</th>\n",
       "      <td>.막 찍어도 화보 같은 월정리 카페 콧수염고객님의 멋진 사진 감사합니다 🤳제주시 구...</td>\n",
       "      <td>['#구좌읍카페', '#함덕맛집', '#제주', '#제주도맛집', '#월정리', '...</td>\n",
       "      <td>2021-08-19</td>\n",
       "      <td>3</td>\n",
       "      <td>NaN</td>\n",
       "    </tr>\n",
       "    <tr>\n",
       "      <th>111</th>\n",
       "      <td>사장님 알로뷰 …❤️</td>\n",
       "      <td>[]</td>\n",
       "      <td>2021-08-19</td>\n",
       "      <td>43</td>\n",
       "      <td>One and only - 원앤온리 제주</td>\n",
       "    </tr>\n",
       "    <tr>\n",
       "      <th>112</th>\n",
       "      <td>#제주여행 #1일차#사진못찍음</td>\n",
       "      <td>['#제주여행', '#1일차', '#사진못찍음']</td>\n",
       "      <td>2021-08-19</td>\n",
       "      <td>4</td>\n",
       "      <td>NaN</td>\n",
       "    </tr>\n",
       "    <tr>\n",
       "      <th>113</th>\n",
       "      <td>부랴부랴 택배 싸놓고,오후는 율이와 피크닉 🧺 수업준비와 주문제작건은 야근 당첨😭제...</td>\n",
       "      <td>['#연이네다락방', '#엄만야근해야해', '#제주피크닉', '#풍경이다했다', '...</td>\n",
       "      <td>2021-08-19</td>\n",
       "      <td>9</td>\n",
       "      <td>선흘리</td>\n",
       "    </tr>\n",
       "  </tbody>\n",
       "</table>\n",
       "</div>"
      ]
     },
     "metadata": {},
     "execution_count": 30
    }
   ],
   "metadata": {}
  },
  {
   "cell_type": "code",
   "execution_count": null,
   "source": [],
   "outputs": [],
   "metadata": {}
  }
 ],
 "metadata": {
  "orig_nbformat": 4,
  "language_info": {
   "name": "python",
   "version": "3.7.7",
   "mimetype": "text/x-python",
   "codemirror_mode": {
    "name": "ipython",
    "version": 3
   },
   "pygments_lexer": "ipython3",
   "nbconvert_exporter": "python",
   "file_extension": ".py"
  },
  "kernelspec": {
   "name": "python3",
   "display_name": "Python 3.7.7 64-bit ('vsc': conda)"
  },
  "interpreter": {
   "hash": "5a1baeb1610b05443f415525bf52a486212d0ee94c2d320214bf0d7d56e225dd"
  }
 },
 "nbformat": 4,
 "nbformat_minor": 2
}