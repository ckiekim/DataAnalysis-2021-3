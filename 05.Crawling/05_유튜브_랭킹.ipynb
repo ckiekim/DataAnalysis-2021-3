{
  "nbformat": 4,
  "nbformat_minor": 0,
  "metadata": {
    "colab": {
      "name": "05_유튜브 랭킹.ipynb",
      "provenance": [],
      "collapsed_sections": []
    },
    "kernelspec": {
      "name": "python3",
      "display_name": "Python 3"
    },
    "language_info": {
      "name": "python"
    }
  },
  "cells": [
    {
      "cell_type": "markdown",
      "metadata": {
        "id": "zgFgQVDwA0VN"
      },
      "source": [
        "# 유튜브 랭킹 데이터 수집하기"
      ]
    },
    {
      "cell_type": "code",
      "metadata": {
        "colab": {
          "base_uri": "https://localhost:8080/"
        },
        "id": "p4t-LyKkAsgj",
        "outputId": "5ed97195-451c-4519-977f-27c8fca345d0"
      },
      "source": [
        "!apt-get update > /dev/null\n",
        "!pip install selenium > /dev/null\n",
        "!apt install chromium-chromedriver > /dev/null"
      ],
      "execution_count": 1,
      "outputs": [
        {
          "output_type": "stream",
          "text": [
            "\n",
            "WARNING: apt does not have a stable CLI interface. Use with caution in scripts.\n",
            "\n"
          ],
          "name": "stdout"
        }
      ]
    },
    {
      "cell_type": "code",
      "metadata": {
        "id": "4gDZ7y0jBBCV"
      },
      "source": [
        "from selenium import webdriver\n",
        "from bs4 import BeautifulSoup\n",
        "import time\n",
        "import pandas as pd "
      ],
      "execution_count": 2,
      "outputs": []
    },
    {
      "cell_type": "code",
      "metadata": {
        "id": "WMARLdPICXnY"
      },
      "source": [
        "options = webdriver.ChromeOptions()\n",
        "options.add_argument('--headless')   # 화면없이 실행\n",
        "options.add_argument('--no-sandbox')\n",
        "options.add_argument(\"--single-process\")\n",
        "options.add_argument(\"--disable-dev-shm-usage\")\n",
        "driver = webdriver.Chrome('chromedriver', options=options)"
      ],
      "execution_count": 3,
      "outputs": []
    },
    {
      "cell_type": "code",
      "metadata": {
        "id": "EL81Cj0eCjFL"
      },
      "source": [
        "url = 'https://youtube-rank.com/board/bbs/board.php?bo_table=youtube&page=1'\n",
        "driver.get(url)\n",
        "# time.sleep(2)"
      ],
      "execution_count": 4,
      "outputs": []
    },
    {
      "cell_type": "code",
      "metadata": {
        "colab": {
          "base_uri": "https://localhost:8080/"
        },
        "id": "pQTk_WfVC40x",
        "outputId": "eaa85093-5bce-4f20-8df6-666f3560aa3f"
      },
      "source": [
        "trs = driver.find_elements_by_css_selector('.aos-init')\n",
        "len(trs)"
      ],
      "execution_count": 6,
      "outputs": [
        {
          "output_type": "execute_result",
          "data": {
            "text/plain": [
              "100"
            ]
          },
          "metadata": {
            "tags": []
          },
          "execution_count": 6
        }
      ]
    },
    {
      "cell_type": "code",
      "metadata": {
        "id": "hmBMsid2DjqP"
      },
      "source": [
        "html = driver.page_source\n",
        "soup = BeautifulSoup(html, 'html.parser')"
      ],
      "execution_count": 7,
      "outputs": []
    },
    {
      "cell_type": "code",
      "metadata": {
        "colab": {
          "base_uri": "https://localhost:8080/"
        },
        "id": "mUNNGkdRED4F",
        "outputId": "f7c393a2-4612-43e5-fae5-2cc6b61f92be"
      },
      "source": [
        "# soup.select('form > table > tbody > tr')\n",
        "channel_list = soup.select('.aos-init')\n",
        "len(channel_list)"
      ],
      "execution_count": 8,
      "outputs": [
        {
          "output_type": "execute_result",
          "data": {
            "text/plain": [
              "100"
            ]
          },
          "metadata": {
            "tags": []
          },
          "execution_count": 8
        }
      ]
    },
    {
      "cell_type": "code",
      "metadata": {
        "colab": {
          "base_uri": "https://localhost:8080/",
          "height": 35
        },
        "id": "5-WYdn8eEQmC",
        "outputId": "b9bd45d0-5d91-4d69-f611-64470d45f945"
      },
      "source": [
        "channel = channel_list[0]\n",
        "category = channel.select_one('p.category').get_text().strip(' \\n[]')\n",
        "category"
      ],
      "execution_count": 14,
      "outputs": [
        {
          "output_type": "execute_result",
          "data": {
            "application/vnd.google.colaboratory.intrinsic+json": {
              "type": "string"
            },
            "text/plain": [
              "'음악/댄스/가수'"
            ]
          },
          "metadata": {
            "tags": []
          },
          "execution_count": 14
        }
      ]
    },
    {
      "cell_type": "code",
      "metadata": {
        "colab": {
          "base_uri": "https://localhost:8080/",
          "height": 35
        },
        "id": "7mgzzbwNFGE6",
        "outputId": "baf6498b-4f90-4b38-842f-cc3accd393ea"
      },
      "source": [
        "name = channel.select_one('.subject a').text.strip()\n",
        "name"
      ],
      "execution_count": 11,
      "outputs": [
        {
          "output_type": "execute_result",
          "data": {
            "application/vnd.google.colaboratory.intrinsic+json": {
              "type": "string"
            },
            "text/plain": [
              "'BLACKPINK'"
            ]
          },
          "metadata": {
            "tags": []
          },
          "execution_count": 11
        }
      ]
    },
    {
      "cell_type": "code",
      "metadata": {
        "colab": {
          "base_uri": "https://localhost:8080/"
        },
        "id": "eGrBMSzTFlbT",
        "outputId": "9b950988-22c5-4a67-9711-ace03672cac1"
      },
      "source": [
        "subscriber = channel.select_one('.subscriber_cnt').text\n",
        "view = channel.select_one('.view_cnt').text\n",
        "video = channel.select_one('.video_cnt').text[:-1]\n",
        "subscriber, view, video"
      ],
      "execution_count": 13,
      "outputs": [
        {
          "output_type": "execute_result",
          "data": {
            "text/plain": [
              "('6400만', '190억0381만', '371')"
            ]
          },
          "metadata": {
            "tags": []
          },
          "execution_count": 13
        }
      ]
    },
    {
      "cell_type": "code",
      "metadata": {
        "id": "QVz4S4vcGJd-"
      },
      "source": [
        "channels = []\n",
        "for channel in channel_list:\n",
        "    category = channel.select_one('p.category').get_text().strip(' \\n[]')\n",
        "    name = channel.select_one('.subject a').text.strip()\n",
        "    subscriber = channel.select_one('.subscriber_cnt').text\n",
        "    view = channel.select_one('.view_cnt').text\n",
        "    video = channel.select_one('.video_cnt').text[:-1]\n",
        "    channels.append([category,name,subscriber,view,video])"
      ],
      "execution_count": 15,
      "outputs": []
    },
    {
      "cell_type": "code",
      "metadata": {
        "colab": {
          "base_uri": "https://localhost:8080/",
          "height": 204
        },
        "id": "D6pEqfIXIFFt",
        "outputId": "f752f958-6ade-4c56-b368-d95f71765062"
      },
      "source": [
        "df = pd.DataFrame(channels, columns=['카테고리','채널명','구독자수','조회수','비디오수'])\n",
        "df.head()"
      ],
      "execution_count": 16,
      "outputs": [
        {
          "output_type": "execute_result",
          "data": {
            "text/html": [
              "<div>\n",
              "<style scoped>\n",
              "    .dataframe tbody tr th:only-of-type {\n",
              "        vertical-align: middle;\n",
              "    }\n",
              "\n",
              "    .dataframe tbody tr th {\n",
              "        vertical-align: top;\n",
              "    }\n",
              "\n",
              "    .dataframe thead th {\n",
              "        text-align: right;\n",
              "    }\n",
              "</style>\n",
              "<table border=\"1\" class=\"dataframe\">\n",
              "  <thead>\n",
              "    <tr style=\"text-align: right;\">\n",
              "      <th></th>\n",
              "      <th>카테고리</th>\n",
              "      <th>채널명</th>\n",
              "      <th>구독자수</th>\n",
              "      <th>조회수</th>\n",
              "      <th>비디오수</th>\n",
              "    </tr>\n",
              "  </thead>\n",
              "  <tbody>\n",
              "    <tr>\n",
              "      <th>0</th>\n",
              "      <td>음악/댄스/가수</td>\n",
              "      <td>BLACKPINK</td>\n",
              "      <td>6400만</td>\n",
              "      <td>190억0381만</td>\n",
              "      <td>371</td>\n",
              "    </tr>\n",
              "    <tr>\n",
              "      <th>1</th>\n",
              "      <td>음악/댄스/가수</td>\n",
              "      <td>HYBE LABELS</td>\n",
              "      <td>6030만</td>\n",
              "      <td>187억1305만</td>\n",
              "      <td>654</td>\n",
              "    </tr>\n",
              "    <tr>\n",
              "      <th>2</th>\n",
              "      <td>음악/댄스/가수</td>\n",
              "      <td>BANGTANTV</td>\n",
              "      <td>5640만</td>\n",
              "      <td>121억9496만</td>\n",
              "      <td>1,579</td>\n",
              "    </tr>\n",
              "    <tr>\n",
              "      <th>3</th>\n",
              "      <td>음악/댄스/가수</td>\n",
              "      <td>SMTOWN</td>\n",
              "      <td>2850만</td>\n",
              "      <td>218억7092만</td>\n",
              "      <td>3,729</td>\n",
              "    </tr>\n",
              "    <tr>\n",
              "      <th>4</th>\n",
              "      <td>키즈/어린이</td>\n",
              "      <td>Boram Tube Vlog [보람튜브 브이로그]</td>\n",
              "      <td>2650만</td>\n",
              "      <td>110억5288만</td>\n",
              "      <td>223</td>\n",
              "    </tr>\n",
              "  </tbody>\n",
              "</table>\n",
              "</div>"
            ],
            "text/plain": [
              "       카테고리                          채널명   구독자수        조회수   비디오수\n",
              "0  음악/댄스/가수                    BLACKPINK  6400만  190억0381만    371\n",
              "1  음악/댄스/가수                  HYBE LABELS  6030만  187억1305만    654\n",
              "2  음악/댄스/가수                    BANGTANTV  5640만  121억9496만  1,579\n",
              "3  음악/댄스/가수                       SMTOWN  2850만  218억7092만  3,729\n",
              "4    키즈/어린이  Boram Tube Vlog [보람튜브 브이로그]  2650만  110억5288만    223"
            ]
          },
          "metadata": {
            "tags": []
          },
          "execution_count": 16
        }
      ]
    },
    {
      "cell_type": "code",
      "metadata": {
        "colab": {
          "base_uri": "https://localhost:8080/",
          "height": 204
        },
        "id": "yawdLsmiIa4y",
        "outputId": "a239e7c9-6814-4561-bb1f-dcb5542416dd"
      },
      "source": [
        "df.tail()"
      ],
      "execution_count": 17,
      "outputs": [
        {
          "output_type": "execute_result",
          "data": {
            "text/html": [
              "<div>\n",
              "<style scoped>\n",
              "    .dataframe tbody tr th:only-of-type {\n",
              "        vertical-align: middle;\n",
              "    }\n",
              "\n",
              "    .dataframe tbody tr th {\n",
              "        vertical-align: top;\n",
              "    }\n",
              "\n",
              "    .dataframe thead th {\n",
              "        text-align: right;\n",
              "    }\n",
              "</style>\n",
              "<table border=\"1\" class=\"dataframe\">\n",
              "  <thead>\n",
              "    <tr style=\"text-align: right;\">\n",
              "      <th></th>\n",
              "      <th>카테고리</th>\n",
              "      <th>채널명</th>\n",
              "      <th>구독자수</th>\n",
              "      <th>조회수</th>\n",
              "      <th>비디오수</th>\n",
              "    </tr>\n",
              "  </thead>\n",
              "  <tbody>\n",
              "    <tr>\n",
              "      <th>95</th>\n",
              "      <td>음식/요리/레시피</td>\n",
              "      <td>까니짱 [ G-NI ]</td>\n",
              "      <td>408만</td>\n",
              "      <td>10억3471만</td>\n",
              "      <td>482</td>\n",
              "    </tr>\n",
              "    <tr>\n",
              "      <th>96</th>\n",
              "      <td>키즈/어린이</td>\n",
              "      <td>로미유 스토리[Romiyu Story]</td>\n",
              "      <td>408만</td>\n",
              "      <td>10억6557만</td>\n",
              "      <td>433</td>\n",
              "    </tr>\n",
              "    <tr>\n",
              "      <th>97</th>\n",
              "      <td>음악/댄스/가수</td>\n",
              "      <td>NCT DREAM</td>\n",
              "      <td>386만</td>\n",
              "      <td>3억7422만</td>\n",
              "      <td>228</td>\n",
              "    </tr>\n",
              "    <tr>\n",
              "      <th>98</th>\n",
              "      <td>BJ/인물/연예인</td>\n",
              "      <td>허팝Heopop</td>\n",
              "      <td>381만</td>\n",
              "      <td>31억3892만</td>\n",
              "      <td>1,847</td>\n",
              "    </tr>\n",
              "    <tr>\n",
              "      <th>99</th>\n",
              "      <td>애완/반려동물</td>\n",
              "      <td>크림히어로즈</td>\n",
              "      <td>381만</td>\n",
              "      <td>13억7401만</td>\n",
              "      <td>939</td>\n",
              "    </tr>\n",
              "  </tbody>\n",
              "</table>\n",
              "</div>"
            ],
            "text/plain": [
              "         카테고리                    채널명  구독자수       조회수   비디오수\n",
              "95  음식/요리/레시피           까니짱 [ G-NI ]  408만  10억3471만    482\n",
              "96     키즈/어린이  로미유 스토리[Romiyu Story]  408만  10억6557만    433\n",
              "97   음악/댄스/가수              NCT DREAM  386만   3억7422만    228\n",
              "98  BJ/인물/연예인               허팝Heopop  381만  31억3892만  1,847\n",
              "99    애완/반려동물                 크림히어로즈  381만  13억7401만    939"
            ]
          },
          "metadata": {
            "tags": []
          },
          "execution_count": 17
        }
      ]
    },
    {
      "cell_type": "markdown",
      "metadata": {
        "id": "XBtRPHrTI4fd"
      },
      "source": [
        "- 만과 억을 숫자로 바꿔주는 함수"
      ]
    },
    {
      "cell_type": "code",
      "metadata": {
        "id": "NqPiV19WIhMJ"
      },
      "source": [
        "def convert_unit(s):\n",
        "    #s = ''.join(s.split('억'))\n",
        "    s = s.replace('억', '').replace('개','').replace(',','')\n",
        "    s = s.replace('만', '0000')\n",
        "    return f'{int(s):,d}'"
      ],
      "execution_count": 41,
      "outputs": []
    },
    {
      "cell_type": "code",
      "metadata": {
        "colab": {
          "base_uri": "https://localhost:8080/",
          "height": 35
        },
        "id": "rhOcS-v6Jn8X",
        "outputId": "73ad10d2-bc0f-4cf3-8522-57cadf1e29ac"
      },
      "source": [
        "convert_unit('123억6,557만개')"
      ],
      "execution_count": 43,
      "outputs": [
        {
          "output_type": "execute_result",
          "data": {
            "application/vnd.google.colaboratory.intrinsic+json": {
              "type": "string"
            },
            "text/plain": [
              "'12,365,570,000'"
            ]
          },
          "metadata": {
            "tags": []
          },
          "execution_count": 43
        }
      ]
    },
    {
      "cell_type": "markdown",
      "metadata": {
        "id": "gio7Zk4wc_US"
      },
      "source": [
        "- 두번째 페이지 - XPath로 찾아 Click() 하여 이동하기"
      ]
    },
    {
      "cell_type": "code",
      "metadata": {
        "id": "USGoi_0GJtY3"
      },
      "source": [
        "# //*[@id=\"list-skin\"]/nav/span/a[1]\n",
        "driver.find_element_by_xpath('//*[@id=\"list-skin\"]/nav/span/a[1]').click()"
      ],
      "execution_count": 44,
      "outputs": []
    },
    {
      "cell_type": "code",
      "metadata": {
        "id": "GaFAv7IFcJ-w"
      },
      "source": [
        "html = driver.page_source\n",
        "soup = BeautifulSoup(html, 'html.parser')"
      ],
      "execution_count": 45,
      "outputs": []
    },
    {
      "cell_type": "code",
      "metadata": {
        "colab": {
          "base_uri": "https://localhost:8080/"
        },
        "id": "7nmj20-tc19i",
        "outputId": "991014c9-942f-4af9-93ba-43b94764774f"
      },
      "source": [
        "channel_list = soup.select('.aos-init')\n",
        "len(channel_list)"
      ],
      "execution_count": 48,
      "outputs": [
        {
          "output_type": "execute_result",
          "data": {
            "text/plain": [
              "100"
            ]
          },
          "metadata": {
            "tags": []
          },
          "execution_count": 48
        }
      ]
    },
    {
      "cell_type": "code",
      "metadata": {
        "id": "4XQABWgAcWKc"
      },
      "source": [
        "results = []\n",
        "for channel in channel_list:\n",
        "    category = channel.select_one('p.category').get_text().strip(' \\n[]')\n",
        "    name = channel.select_one('.subject a').text.strip()\n",
        "    subscriber = convert_unit(channel.select_one('.subscriber_cnt').text)\n",
        "    view = convert_unit(channel.select_one('.view_cnt').text)\n",
        "    video = convert_unit(channel.select_one('.video_cnt').text)\n",
        "    results.append([category,name,subscriber,view,video])"
      ],
      "execution_count": 49,
      "outputs": []
    },
    {
      "cell_type": "code",
      "metadata": {
        "colab": {
          "base_uri": "https://localhost:8080/",
          "height": 204
        },
        "id": "IBq33cTYcpBx",
        "outputId": "1c3a625f-f417-4d4d-887b-92792f23c09e"
      },
      "source": [
        "df = pd.DataFrame(results, columns=['카테고리','채널명','구독자수','조회수','비디오수'])\n",
        "df.head()"
      ],
      "execution_count": 50,
      "outputs": [
        {
          "output_type": "execute_result",
          "data": {
            "text/html": [
              "<div>\n",
              "<style scoped>\n",
              "    .dataframe tbody tr th:only-of-type {\n",
              "        vertical-align: middle;\n",
              "    }\n",
              "\n",
              "    .dataframe tbody tr th {\n",
              "        vertical-align: top;\n",
              "    }\n",
              "\n",
              "    .dataframe thead th {\n",
              "        text-align: right;\n",
              "    }\n",
              "</style>\n",
              "<table border=\"1\" class=\"dataframe\">\n",
              "  <thead>\n",
              "    <tr style=\"text-align: right;\">\n",
              "      <th></th>\n",
              "      <th>카테고리</th>\n",
              "      <th>채널명</th>\n",
              "      <th>구독자수</th>\n",
              "      <th>조회수</th>\n",
              "      <th>비디오수</th>\n",
              "    </tr>\n",
              "  </thead>\n",
              "  <tbody>\n",
              "    <tr>\n",
              "      <th>0</th>\n",
              "      <td>취미/라이프</td>\n",
              "      <td>JaeYeol ASMR 재열</td>\n",
              "      <td>3,800,000</td>\n",
              "      <td>1,011,540,000</td>\n",
              "      <td>970</td>\n",
              "    </tr>\n",
              "    <tr>\n",
              "      <th>1</th>\n",
              "      <td>BJ/인물/연예인</td>\n",
              "      <td>워크맨-Workman</td>\n",
              "      <td>3,780,000</td>\n",
              "      <td>679,370,000</td>\n",
              "      <td>141</td>\n",
              "    </tr>\n",
              "    <tr>\n",
              "      <th>2</th>\n",
              "      <td>BJ/인물/연예인</td>\n",
              "      <td>waveya 2011</td>\n",
              "      <td>3,730,000</td>\n",
              "      <td>1,346,280,000</td>\n",
              "      <td>702</td>\n",
              "    </tr>\n",
              "    <tr>\n",
              "      <th>3</th>\n",
              "      <td>키즈/어린이</td>\n",
              "      <td>Lime Tube[라임튜브]</td>\n",
              "      <td>3,730,000</td>\n",
              "      <td>2,595,420,000</td>\n",
              "      <td>1,723</td>\n",
              "    </tr>\n",
              "    <tr>\n",
              "      <th>4</th>\n",
              "      <td>음악/댄스/가수</td>\n",
              "      <td>WINNER</td>\n",
              "      <td>3,730,000</td>\n",
              "      <td>1,171,260,000</td>\n",
              "      <td>428</td>\n",
              "    </tr>\n",
              "  </tbody>\n",
              "</table>\n",
              "</div>"
            ],
            "text/plain": [
              "        카테고리              채널명       구독자수            조회수   비디오수\n",
              "0     취미/라이프  JaeYeol ASMR 재열  3,800,000  1,011,540,000    970\n",
              "1  BJ/인물/연예인      워크맨-Workman  3,780,000    679,370,000    141\n",
              "2  BJ/인물/연예인      waveya 2011  3,730,000  1,346,280,000    702\n",
              "3     키즈/어린이  Lime Tube[라임튜브]  3,730,000  2,595,420,000  1,723\n",
              "4   음악/댄스/가수           WINNER  3,730,000  1,171,260,000    428"
            ]
          },
          "metadata": {
            "tags": []
          },
          "execution_count": 50
        }
      ]
    },
    {
      "cell_type": "markdown",
      "metadata": {
        "id": "WneZ02gje80g"
      },
      "source": [
        "## page 1에서 10까지 크롤링하기"
      ]
    },
    {
      "cell_type": "code",
      "metadata": {
        "id": "L0pPX1pDctzq"
      },
      "source": [
        "results = []\n",
        "for page in range(1,11):\n",
        "    url = 'https://youtube-rank.com/board/bbs/board.php?bo_table=youtube&page='+str(page)\n",
        "    driver.get(url)\n",
        "    time.sleep(3)\n",
        "    html = driver.page_source\n",
        "    soup = BeautifulSoup(html, 'html.parser')\n",
        "    channel_list = soup.select('.aos-init')\n",
        "\n",
        "    for channel in channel_list:\n",
        "        category = channel.select_one('p.category').get_text().strip(' \\n[]')\n",
        "        name = channel.select_one('.subject a').text.strip()\n",
        "        subscriber = convert_unit(channel.select_one('.subscriber_cnt').text)\n",
        "        view = convert_unit(channel.select_one('.view_cnt').text)\n",
        "        video = convert_unit(channel.select_one('.video_cnt').text)\n",
        "        results.append([category,name,subscriber,view,video])"
      ],
      "execution_count": 51,
      "outputs": []
    },
    {
      "cell_type": "code",
      "metadata": {
        "colab": {
          "base_uri": "https://localhost:8080/",
          "height": 204
        },
        "id": "3e4dOcuYgI4u",
        "outputId": "019567bb-f3c6-4160-87d3-1cc4afafe357"
      },
      "source": [
        "df = pd.DataFrame(results, columns=['카테고리','채널명','구독자수','조회수','비디오수'])\n",
        "df.head()"
      ],
      "execution_count": 52,
      "outputs": [
        {
          "output_type": "execute_result",
          "data": {
            "text/html": [
              "<div>\n",
              "<style scoped>\n",
              "    .dataframe tbody tr th:only-of-type {\n",
              "        vertical-align: middle;\n",
              "    }\n",
              "\n",
              "    .dataframe tbody tr th {\n",
              "        vertical-align: top;\n",
              "    }\n",
              "\n",
              "    .dataframe thead th {\n",
              "        text-align: right;\n",
              "    }\n",
              "</style>\n",
              "<table border=\"1\" class=\"dataframe\">\n",
              "  <thead>\n",
              "    <tr style=\"text-align: right;\">\n",
              "      <th></th>\n",
              "      <th>카테고리</th>\n",
              "      <th>채널명</th>\n",
              "      <th>구독자수</th>\n",
              "      <th>조회수</th>\n",
              "      <th>비디오수</th>\n",
              "    </tr>\n",
              "  </thead>\n",
              "  <tbody>\n",
              "    <tr>\n",
              "      <th>0</th>\n",
              "      <td>음악/댄스/가수</td>\n",
              "      <td>BLACKPINK</td>\n",
              "      <td>64,000,000</td>\n",
              "      <td>19,003,810,000</td>\n",
              "      <td>371</td>\n",
              "    </tr>\n",
              "    <tr>\n",
              "      <th>1</th>\n",
              "      <td>음악/댄스/가수</td>\n",
              "      <td>HYBE LABELS</td>\n",
              "      <td>60,300,000</td>\n",
              "      <td>18,713,050,000</td>\n",
              "      <td>654</td>\n",
              "    </tr>\n",
              "    <tr>\n",
              "      <th>2</th>\n",
              "      <td>음악/댄스/가수</td>\n",
              "      <td>BANGTANTV</td>\n",
              "      <td>56,400,000</td>\n",
              "      <td>12,194,960,000</td>\n",
              "      <td>1,579</td>\n",
              "    </tr>\n",
              "    <tr>\n",
              "      <th>3</th>\n",
              "      <td>음악/댄스/가수</td>\n",
              "      <td>SMTOWN</td>\n",
              "      <td>28,500,000</td>\n",
              "      <td>21,870,920,000</td>\n",
              "      <td>3,729</td>\n",
              "    </tr>\n",
              "    <tr>\n",
              "      <th>4</th>\n",
              "      <td>키즈/어린이</td>\n",
              "      <td>Boram Tube Vlog [보람튜브 브이로그]</td>\n",
              "      <td>26,500,000</td>\n",
              "      <td>11,052,880,000</td>\n",
              "      <td>223</td>\n",
              "    </tr>\n",
              "  </tbody>\n",
              "</table>\n",
              "</div>"
            ],
            "text/plain": [
              "       카테고리                          채널명        구독자수             조회수   비디오수\n",
              "0  음악/댄스/가수                    BLACKPINK  64,000,000  19,003,810,000    371\n",
              "1  음악/댄스/가수                  HYBE LABELS  60,300,000  18,713,050,000    654\n",
              "2  음악/댄스/가수                    BANGTANTV  56,400,000  12,194,960,000  1,579\n",
              "3  음악/댄스/가수                       SMTOWN  28,500,000  21,870,920,000  3,729\n",
              "4    키즈/어린이  Boram Tube Vlog [보람튜브 브이로그]  26,500,000  11,052,880,000    223"
            ]
          },
          "metadata": {
            "tags": []
          },
          "execution_count": 52
        }
      ]
    },
    {
      "cell_type": "code",
      "metadata": {
        "colab": {
          "base_uri": "https://localhost:8080/",
          "height": 204
        },
        "id": "ldz2Ol8PgZY2",
        "outputId": "71ab4124-025d-4e29-a63c-b2153e463446"
      },
      "source": [
        "df.tail()"
      ],
      "execution_count": 53,
      "outputs": [
        {
          "output_type": "execute_result",
          "data": {
            "text/html": [
              "<div>\n",
              "<style scoped>\n",
              "    .dataframe tbody tr th:only-of-type {\n",
              "        vertical-align: middle;\n",
              "    }\n",
              "\n",
              "    .dataframe tbody tr th {\n",
              "        vertical-align: top;\n",
              "    }\n",
              "\n",
              "    .dataframe thead th {\n",
              "        text-align: right;\n",
              "    }\n",
              "</style>\n",
              "<table border=\"1\" class=\"dataframe\">\n",
              "  <thead>\n",
              "    <tr style=\"text-align: right;\">\n",
              "      <th></th>\n",
              "      <th>카테고리</th>\n",
              "      <th>채널명</th>\n",
              "      <th>구독자수</th>\n",
              "      <th>조회수</th>\n",
              "      <th>비디오수</th>\n",
              "    </tr>\n",
              "  </thead>\n",
              "  <tbody>\n",
              "    <tr>\n",
              "      <th>995</th>\n",
              "      <td>게임</td>\n",
              "      <td>미소</td>\n",
              "      <td>510,000</td>\n",
              "      <td>210,770,000</td>\n",
              "      <td>3,084</td>\n",
              "    </tr>\n",
              "    <tr>\n",
              "      <th>996</th>\n",
              "      <td>미분류</td>\n",
              "      <td>밉지않은 관종언니</td>\n",
              "      <td>510,000</td>\n",
              "      <td>67,740,000</td>\n",
              "      <td>170</td>\n",
              "    </tr>\n",
              "    <tr>\n",
              "      <th>997</th>\n",
              "      <td>미분류</td>\n",
              "      <td>복지마블TV [Welfare Marble]</td>\n",
              "      <td>510,000</td>\n",
              "      <td>49,960,000</td>\n",
              "      <td>240</td>\n",
              "    </tr>\n",
              "    <tr>\n",
              "      <th>998</th>\n",
              "      <td>음식/요리/레시피</td>\n",
              "      <td>Muggo</td>\n",
              "      <td>510,000</td>\n",
              "      <td>183,720,000</td>\n",
              "      <td>1,388</td>\n",
              "    </tr>\n",
              "    <tr>\n",
              "      <th>999</th>\n",
              "      <td>게임</td>\n",
              "      <td>임선비</td>\n",
              "      <td>510,000</td>\n",
              "      <td>234,290,000</td>\n",
              "      <td>1,134</td>\n",
              "    </tr>\n",
              "  </tbody>\n",
              "</table>\n",
              "</div>"
            ],
            "text/plain": [
              "          카테고리                      채널명     구독자수          조회수   비디오수\n",
              "995         게임                       미소  510,000  210,770,000  3,084\n",
              "996        미분류                밉지않은 관종언니  510,000   67,740,000    170\n",
              "997        미분류  복지마블TV [Welfare Marble]  510,000   49,960,000    240\n",
              "998  음식/요리/레시피                    Muggo  510,000  183,720,000  1,388\n",
              "999         게임                      임선비  510,000  234,290,000  1,134"
            ]
          },
          "metadata": {
            "tags": []
          },
          "execution_count": 53
        }
      ]
    },
    {
      "cell_type": "code",
      "metadata": {
        "id": "BDTi-cn4gcfj"
      },
      "source": [
        "df.to_csv('유튜브_순위.csv', index=None)"
      ],
      "execution_count": 54,
      "outputs": []
    },
    {
      "cell_type": "code",
      "metadata": {
        "id": "3paJMcLggvke"
      },
      "source": [
        "driver.close()"
      ],
      "execution_count": 55,
      "outputs": []
    },
    {
      "cell_type": "code",
      "metadata": {
        "id": "NnulPM_6hXGY"
      },
      "source": [
        ""
      ],
      "execution_count": null,
      "outputs": []
    }
  ]
}