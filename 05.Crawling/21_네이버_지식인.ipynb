{
 "cells": [
  {
   "cell_type": "markdown",
   "source": [
    "# 네이버 지식인 크롤링 - 여친선물"
   ],
   "metadata": {}
  },
  {
   "cell_type": "code",
   "execution_count": 2,
   "source": [
    "import pandas as pd\r\n",
    "import time\r\n",
    "from urllib.parse import quote\r\n",
    "from selenium import webdriver"
   ],
   "outputs": [],
   "metadata": {}
  },
  {
   "cell_type": "code",
   "execution_count": 3,
   "source": [
    "base_url ='https://kin.naver.com/search/list.naver?query='\r\n",
    "url = base_url + quote('여친선물')\r\n",
    "driver = webdriver.Chrome('../../chromedriver.exe')"
   ],
   "outputs": [],
   "metadata": {}
  },
  {
   "cell_type": "code",
   "execution_count": 57,
   "source": [
    "driver.get(url)"
   ],
   "outputs": [],
   "metadata": {}
  },
  {
   "cell_type": "code",
   "execution_count": 58,
   "source": [
    "from bs4 import BeautifulSoup\r\n",
    "html = driver.page_source\r\n",
    "soup = BeautifulSoup(html, 'html.parser')"
   ],
   "outputs": [],
   "metadata": {}
  },
  {
   "cell_type": "code",
   "execution_count": 59,
   "source": [
    "lis = soup.select('ul.basic1 > li')\r\n",
    "len(lis)"
   ],
   "outputs": [
    {
     "output_type": "execute_result",
     "data": {
      "text/plain": [
       "10"
      ]
     },
     "metadata": {},
     "execution_count": 59
    }
   ],
   "metadata": {}
  },
  {
   "cell_type": "code",
   "execution_count": 50,
   "source": [
    "li = lis[2]\r\n",
    "sub_url = li.select_one('a._searchListTitleAnchor')['href']\r\n",
    "sub_url"
   ],
   "outputs": [
    {
     "output_type": "execute_result",
     "data": {
      "text/plain": [
       "'https://kin.naver.com/qna/detail.naver?d1id=8&dirId=80101&docId=394109314&qb=7Jes7Lmc7ISg66y8&enc=utf8&section=kin&rank=3&search_sort=0&spq=0'"
      ]
     },
     "metadata": {},
     "execution_count": 50
    }
   ],
   "metadata": {}
  },
  {
   "cell_type": "code",
   "execution_count": 51,
   "source": [
    "driver.get(sub_url)"
   ],
   "outputs": [],
   "metadata": {}
  },
  {
   "cell_type": "code",
   "execution_count": 52,
   "source": [
    "count = int(driver.find_element_by_css_selector('._answerCount.num').text)\r\n",
    "answer_page = count // 5\r\n",
    "print(count, answer_page)"
   ],
   "outputs": [
    {
     "output_type": "stream",
     "name": "stdout",
     "text": [
      "20 4\n"
     ]
    }
   ],
   "metadata": {}
  },
  {
   "cell_type": "code",
   "execution_count": 53,
   "source": [
    "for i in range(answer_page):\r\n",
    "    try:\r\n",
    "        driver.find_element_by_id('nextPageButton').click()\r\n",
    "    except:\r\n",
    "        pass\r\n",
    "    time.sleep(2)"
   ],
   "outputs": [],
   "metadata": {}
  },
  {
   "cell_type": "code",
   "execution_count": 54,
   "source": [
    "html = driver.page_source\r\n",
    "soup = BeautifulSoup(html, 'html.parser')"
   ],
   "outputs": [],
   "metadata": {}
  },
  {
   "cell_type": "code",
   "execution_count": 55,
   "source": [
    "divs = soup.select('div.answer-content__item')\r\n",
    "len(divs)"
   ],
   "outputs": [
    {
     "output_type": "execute_result",
     "data": {
      "text/plain": [
       "20"
      ]
     },
     "metadata": {},
     "execution_count": 55
    }
   ],
   "metadata": {}
  },
  {
   "cell_type": "code",
   "execution_count": 56,
   "source": [
    "div = divs[0]\r\n",
    "ps = div.select('p.se-text-paragraph')\r\n",
    "for p in ps:\r\n",
    "    print(p.get_text())"
   ],
   "outputs": [
    {
     "output_type": "stream",
     "name": "stdout",
     "text": [
      "​\n",
      "향수 선물은 어떨까요?!\n",
      "3~4만원대의 제품도 많이 있으니 예산 안에서 선물해보세요\n",
      "참고하시면 좋을 것 같아 향수 인기순위 사이트 추천해드릴게요!\n",
      "판매순, 후기많은순으로 정렬되어있어서 보기 편하더라구요\n",
      "인기순위 참고해서 가격이랑 후기 비교해보신 후에 구매해보세요~\n",
      "~\n",
      "​\n",
      "http://www.cjgmarket.co.kr/shop/search.php?sfl=wr_subject%7C%7Cwr_content&sop=and&q=%EC%97%AC%EC%9E%90+%ED%96%A5%EC%88%98&ritem=322\n",
      "​\n"
     ]
    }
   ],
   "metadata": {}
  },
  {
   "cell_type": "code",
   "execution_count": 40,
   "source": [
    "driver.back()"
   ],
   "outputs": [],
   "metadata": {}
  },
  {
   "cell_type": "code",
   "execution_count": 64,
   "source": [
    "answer_list = []\r\n",
    "for li in lis:\r\n",
    "    sub_url = li.select_one('a._searchListTitleAnchor')['href']\r\n",
    "    driver.get(sub_url)\r\n",
    "    time.sleep(2)\r\n",
    "\r\n",
    "    count = int(driver.find_element_by_css_selector('._answerCount.num').text)\r\n",
    "    print(count, end=', ')\r\n",
    "    answer_page = count // 5\r\n",
    "    for i in range(answer_page):\r\n",
    "        try:\r\n",
    "            driver.find_element_by_id('nextPageButton').click()\r\n",
    "        except:\r\n",
    "            pass\r\n",
    "        time.sleep(1)\r\n",
    "\r\n",
    "    html = driver.page_source\r\n",
    "    soup = BeautifulSoup(html, 'html.parser')\r\n",
    "    divs = soup.select('div.answer-content__item')\r\n",
    "    print(len(divs))\r\n",
    "    for div in divs:\r\n",
    "        ps = div.select('p.se-text-paragraph')\r\n",
    "        for p in ps:\r\n",
    "            text = p.get_text()\r\n",
    "            if text == '\\u200b':\r\n",
    "                continue\r\n",
    "            answer_list.append(text)\r\n",
    "\r\n",
    "    driver.back()\r\n",
    "    time.sleep(2)"
   ],
   "outputs": [
    {
     "output_type": "stream",
     "name": "stdout",
     "text": [
      "8, 8\n",
      "8, 8\n",
      "20, 20\n",
      "3, 3\n",
      "8, 8\n",
      "10, 10\n",
      "12, 12\n",
      "13, 13\n",
      "12, 12\n",
      "5, 5\n"
     ]
    }
   ],
   "metadata": {}
  },
  {
   "cell_type": "code",
   "execution_count": 65,
   "source": [
    "len(answer_list)"
   ],
   "outputs": [
    {
     "output_type": "execute_result",
     "data": {
      "text/plain": [
       "981"
      ]
     },
     "metadata": {},
     "execution_count": 65
    }
   ],
   "metadata": {}
  },
  {
   "cell_type": "code",
   "execution_count": 66,
   "source": [
    "answer_list[110:120]"
   ],
   "outputs": [
    {
     "output_type": "execute_result",
     "data": {
      "text/plain": [
       "['영화보다 이색적이기도 하고 그 시간 그 장소에서만 일어나는 공연의 형식이다보니 다들 좋아하시더라고요 ^^',\n",
       " '커플분들께 추천드리는 연극은 바로 <한뼘사이> 인데요~',\n",
       " '로맨스 코메디 장르라 커플분들끼리 많이들 편하게 보고 가신다고 하더라구요 ㅎㅎ',\n",
       " '자세한 사항은 링크를 참고해 주세요~',\n",
       " 'https://booking.naver.com/booking/12/bizes/69133',\n",
       " '4. 커플아이템',\n",
       " '깜짝 선물로 가장 좋을 것 같아서 추천드려요 ^^',\n",
       " '같이 쓸 수 있는 물건이 있음 서로를 더 만힝 생각할 수 있기도 하잖아요',\n",
       " '커플템에는 핸드폰 케이스, 에어팟 케이스, 텀블러, 에코백, 악세사리, 반팔티, 모자, 신발, 등등',\n",
       " '두 분이서 함께 사용하시는 물건 모두가 커플템이라고 볼 수 있다 생각하는데요 ~']"
      ]
     },
     "metadata": {},
     "execution_count": 66
    }
   ],
   "metadata": {}
  },
  {
   "cell_type": "code",
   "execution_count": 67,
   "source": [
    "driver.close()"
   ],
   "outputs": [],
   "metadata": {}
  },
  {
   "cell_type": "code",
   "execution_count": null,
   "source": [],
   "outputs": [],
   "metadata": {}
  }
 ],
 "metadata": {
  "orig_nbformat": 4,
  "language_info": {
   "name": "python",
   "version": "3.7.7",
   "mimetype": "text/x-python",
   "codemirror_mode": {
    "name": "ipython",
    "version": 3
   },
   "pygments_lexer": "ipython3",
   "nbconvert_exporter": "python",
   "file_extension": ".py"
  },
  "kernelspec": {
   "name": "python3",
   "display_name": "Python 3.7.7 64-bit ('vsc': conda)"
  },
  "interpreter": {
   "hash": "5a1baeb1610b05443f415525bf52a486212d0ee94c2d320214bf0d7d56e225dd"
  }
 },
 "nbformat": 4,
 "nbformat_minor": 2
}